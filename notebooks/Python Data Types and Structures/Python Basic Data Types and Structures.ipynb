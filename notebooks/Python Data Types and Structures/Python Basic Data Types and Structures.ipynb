{
 "cells": [
  {
   "cell_type": "markdown",
   "metadata": {},
   "source": [
    "# Python Basic Data Types and Structures"
   ]
  },
  {
   "cell_type": "markdown",
   "metadata": {},
   "source": [
    "## 1. Introduction"
   ]
  },
  {
   "cell_type": "markdown",
   "metadata": {},
   "source": [
    "### 1.1. Why Programming?\n",
    "We learn programming to help ourselves do things efficiently. By learning how to program, you can count the number of every word in a text, resize hundreds of images, automate remote work, or create your own website. Programming is no longer exclusive to IT experts. Everyone can learn how to program, and apply it to their respective fields. Take advantage of today's technology, without even becoming an IT expert."
   ]
  },
  {
   "cell_type": "markdown",
   "metadata": {},
   "source": [
    "### 1.2. Why Python?\n",
    "Python is one of the easiest programming language out there that has a wide range implementation. Other language tend to be too hard to learn for beginner or too narrow to be implemented. Python might not the best programming language, but we are certain that it's the best to get started in programming (after [Scratch](https://scratch.mit.edu/) for elementary level). Anyway, don't bother thinking too much in choosing what programming language you should learn. Just start learning and you will find what it the best for you, since every programming language has its own pros and cons."
   ]
  },
  {
   "cell_type": "markdown",
   "metadata": {},
   "source": [
    "### 1.3. Where to Learn Python?\n",
    "There are several sites to learn Python. Here are some of the best sites:  \n",
    "1. [freeCodeCamp](https://www.freecodecamp.org/) (free) \n",
    "2. [W3Schools](https://www.w3schools.com/) (free)\n",
    "3. [SoloLearn](https://www.sololearn.com/) (free)\n",
    "4. [LeetCode](https://leetcode.com/) (free)\n",
    "\n",
    "And of course, official [Python](https://www.python.org/about/gettingstarted/) website! (free)"
   ]
  },
  {
   "cell_type": "markdown",
   "metadata": {},
   "source": [
    "### 1.4. Google Colab\n",
    "To get started, you don't need to [install Python](https://www.python.org/downloads/). You can start coding using one of the best IPython IDE, [Google Colab](https://colab.research.google.com/notebooks/intro.ipynb). \n",
    "\n",
    "Note:  \n",
    "1. IPython stands for interactive Python. It's python, but more interactive.\n",
    "2. IDE stands for integrated development environment, a software application that provides comprehensive facilities to computer programmers for software development. In simplified definiton, app to run your code."
   ]
  },
  {
   "cell_type": "markdown",
   "metadata": {},
   "source": [
    "## 2. Python Object\n",
    "Almost everything in Python is an object (it makes Python categorized as object oriented programming language). You don't need to be confussed, because object literally means an object. For every object, it has it's own properties and methods. You can imagine a property as something that discribe an object while method is a way to interactwith the object, including changing its properties. \n",
    "\n",
    "Note:\n",
    "1. To create an object, you need a class.\n",
    "2. You can imagine a class as blueprint to make an object."
   ]
  },
  {
   "cell_type": "markdown",
   "metadata": {},
   "source": [
    "## 3. General Notes for This Lecture\n",
    "You can skip this part, but if you confused reading the next part, you might find the answer here."
   ]
  },
  {
   "cell_type": "markdown",
   "metadata": {},
   "source": [
    "### 3.1. `=`\n",
    "In Python, assignment is assign or point a `variable` to store an `object`. To assign `object` to `variable`, we use `=`. For example, `name = 'Yasirroni'`"
   ]
  },
  {
   "cell_type": "markdown",
   "metadata": {},
   "source": [
    "### 3.2. `function()`\n",
    "In python, function are set of instruction. You can imagine a function as a verb in your natural language. While doing something, some function return something (this return can be assignated) and the other not.\n",
    "Several function will be used, for example:\n",
    "1. `print()` to print the content of an object\n",
    "2. `type()` return the type of an object\n",
    "3. `len()` return the length of an object"
   ]
  },
  {
   "cell_type": "markdown",
   "metadata": {},
   "source": [
    "#### 3.2.1. `print()`\n",
    "To print, use `print(something_to_print)`. If using IPython, you can just mention that `something_to_print` in the last row of the cell to print it."
   ]
  },
  {
   "cell_type": "markdown",
   "metadata": {},
   "source": [
    "#### 3.2.2. `type()`\n",
    "To get the type of an object, use `type(something_to_check)`. To print the type, combine it if print command, for example `print(type(something_to_check))`."
   ]
  },
  {
   "cell_type": "markdown",
   "metadata": {},
   "source": [
    "#### 3.2.3. `len()`\n",
    "To get the length of an object, use `len(something_to_count)`."
   ]
  },
  {
   "cell_type": "markdown",
   "metadata": {},
   "source": [
    "### 3.3. `[index]`\n",
    "In Python (and lots of other languages), you start counting from 0, not 1. So, the first index of something will be 0, not 1. For example, third index of `object` will be `object[2]`."
   ]
  },
  {
   "cell_type": "markdown",
   "metadata": {},
   "source": [
    "### 3.4. `# comment`\n",
    "In Python, if you want to write something but didn't want it to be executed by the program, use `#` in the left of the `comment` (everthing in the right of `#` will be ignored by the compiler)."
   ]
  },
  {
   "cell_type": "markdown",
   "metadata": {},
   "source": [
    "### 3.5. `.`\n",
    "In python, you can use `.` to access `object.property` or `object.method()`. In `object.method()`, sometimes it changes `object.property` and sometimes it's only return something. For example, `object_assigned = object_source.method(input)`."
   ]
  },
  {
   "cell_type": "markdown",
   "metadata": {},
   "source": [
    "### 3.6. `*`, `/`, `+`, `-`, `()`\n",
    "Just like standar mathemathic operation, Python accept `*`, `/`, `+`, `-`, and `()`. All operators Python use can be seen [here](https://docs.python.org/3/library/operator.html)."
   ]
  },
  {
   "cell_type": "markdown",
   "metadata": {},
   "source": [
    "### 3.7. `for _ in iterable :`\n",
    "You can iterate (loop) something using `for` statement. "
   ]
  },
  {
   "cell_type": "markdown",
   "metadata": {},
   "source": [
    "## 3. Python (Built-in) Data Types\n",
    "There are eights Python built-in data types. In this tutorial, we will cover the basic of `str()`, `int()`, `float()`, `bool()`, and `None`.\n",
    "\n",
    "1. Text Type\t\t: **str**\n",
    "2. Numeric Types\t: **int**, **float**, complex\n",
    "3. Sequence Types\t: list, tuple, range\n",
    "4. Mapping Type\t\t: dict\n",
    "5. Set Types\t\t: set, frozenset\n",
    "6. Boolean Type\t\t: **bool**\n",
    "7. Binary Types\t\t: bytes, bytearray, memoryview\n",
    "8. None Type\t\t: **NoneType**\n",
    "\n",
    "Note:  \n",
    "Why it's called built-in? Because there are non built-in data types, you even can make your own data type by defining a class! Furthermore, you can import classes made by other programmer to you your own code. That way, you don't need to code everything."
   ]
  },
  {
   "cell_type": "markdown",
   "metadata": {},
   "source": [
    "### 3.1. String `str()`\n",
    "String is a `'text'`."
   ]
  },
  {
   "cell_type": "code",
   "execution_count": 1,
   "metadata": {},
   "outputs": [
    {
     "name": "stdout",
     "output_type": "stream",
     "text": [
      "Hello World!\n",
      "<class 'str'>\n"
     ]
    }
   ],
   "source": [
    "# assign\n",
    "string = 'Hello World!'\n",
    "print(string)\n",
    "print(type(string))"
   ]
  },
  {
   "cell_type": "code",
   "execution_count": 2,
   "metadata": {},
   "outputs": [
    {
     "name": "stdout",
     "output_type": "stream",
     "text": [
      "HelloWorld!\n"
     ]
    }
   ],
   "source": [
    "# combine strings\n",
    "string_1 = 'Hello'\n",
    "string_2 = 'World!'\n",
    "string_combined = string_1 + string_2\n",
    "print(string_combined)"
   ]
  },
  {
   "cell_type": "code",
   "execution_count": 3,
   "metadata": {},
   "outputs": [
    {
     "name": "stdout",
     "output_type": "stream",
     "text": [
      "Hello World?\n"
     ]
    }
   ],
   "source": [
    "# replace something in string\n",
    "string = 'Hello World!'\n",
    "string = string.replace('!','?')\n",
    "print(string)"
   ]
  },
  {
   "cell_type": "code",
   "execution_count": 4,
   "metadata": {},
   "outputs": [
    {
     "name": "stdout",
     "output_type": "stream",
     "text": [
      "H\n",
      "e\n",
      "l\n",
      "l\n",
      "o\n",
      " \n",
      "W\n",
      "o\n",
      "r\n",
      "l\n",
      "d\n",
      "!\n"
     ]
    }
   ],
   "source": [
    "# string are iterable\n",
    "string = 'Hello World!'\n",
    "for value in string:\n",
    "    print(value)"
   ]
  },
  {
   "cell_type": "code",
   "execution_count": 5,
   "metadata": {},
   "outputs": [
    {
     "name": "stdout",
     "output_type": "stream",
     "text": [
      "Third index in a string using [4] is o\n"
     ]
    }
   ],
   "source": [
    "# call by index\n",
    "string = 'Hello World!'\n",
    "index = 4 # index start from 0\n",
    "fifth_index = string[index]\n",
    "print('Third index in a string using [4] is', fifth_index)"
   ]
  },
  {
   "cell_type": "markdown",
   "metadata": {},
   "source": [
    "### 3.2. Integer `int()`\n",
    "Integer is a whole number."
   ]
  },
  {
   "cell_type": "code",
   "execution_count": 6,
   "metadata": {},
   "outputs": [
    {
     "name": "stdout",
     "output_type": "stream",
     "text": [
      "12\n",
      "<class 'int'>\n"
     ]
    }
   ],
   "source": [
    "# length of something is integer\n",
    "string = 'Hello World!'\n",
    "integer = len(string)\n",
    "print(integer)\n",
    "print(type(integer))"
   ]
  },
  {
   "cell_type": "code",
   "execution_count": 7,
   "metadata": {},
   "outputs": [
    {
     "name": "stdout",
     "output_type": "stream",
     "text": [
      "HelloHelloWorld!!!\n"
     ]
    }
   ],
   "source": [
    "# multiply string by integer\n",
    "string = 'Hello' * 2 + 'World' + '!' * 3\n",
    "print(string)"
   ]
  },
  {
   "cell_type": "code",
   "execution_count": 8,
   "metadata": {},
   "outputs": [
    {
     "name": "stdout",
     "output_type": "stream",
     "text": [
      "322\n",
      "<class 'str'>\n",
      "322\n",
      "<class 'int'>\n"
     ]
    }
   ],
   "source": [
    "# integer and string arithmatic\n",
    "string = '3' + 2 * '2' # '3' + 2 * '2' == '3' + '22' == 322\n",
    "print(string)\n",
    "print(type(string))\n",
    "\n",
    "integer_from_string = int(string)\n",
    "print(integer_from_string)\n",
    "print(type(integer_from_string))"
   ]
  },
  {
   "cell_type": "code",
   "execution_count": 9,
   "metadata": {},
   "outputs": [
    {
     "name": "stdout",
     "output_type": "stream",
     "text": [
      "2\n",
      "<class 'int'>\n"
     ]
    }
   ],
   "source": [
    "# divide two integer and return integer need to use //\n",
    "integer = 10 // 4\n",
    "print(integer)\n",
    "print(type(integer))"
   ]
  },
  {
   "cell_type": "markdown",
   "metadata": {},
   "source": [
    "### 3.3. Float `float()`\n",
    "Float is a decimal."
   ]
  },
  {
   "cell_type": "code",
   "execution_count": 10,
   "metadata": {},
   "outputs": [
    {
     "name": "stdout",
     "output_type": "stream",
     "text": [
      "10.21 -10.0 0.5\n"
     ]
    }
   ],
   "source": [
    "# need decimal place to creat a float\n",
    "float_1 = 10.21\n",
    "float_2 = -10.\n",
    "float_3 = .5\n",
    "print(float_1, float_2, float_3)"
   ]
  },
  {
   "cell_type": "code",
   "execution_count": 11,
   "metadata": {},
   "outputs": [
    {
     "name": "stdout",
     "output_type": "stream",
     "text": [
      "2.0\n",
      "<class 'float'>\n"
     ]
    }
   ],
   "source": [
    "# divide two integer will return float\n",
    "integer_1 = 10\n",
    "integer_2 = 5\n",
    "float_1 = integer_1 / integer_2\n",
    "print(float_1)\n",
    "print(type(float_1))"
   ]
  },
  {
   "cell_type": "markdown",
   "metadata": {},
   "source": [
    "### 3.4. Boolean `bool()`\n",
    "Boolean only have two possible state, `True` or `False`."
   ]
  },
  {
   "cell_type": "code",
   "execution_count": 12,
   "metadata": {},
   "outputs": [
    {
     "name": "stdout",
     "output_type": "stream",
     "text": [
      "True\n",
      "<class 'bool'>\n"
     ]
    }
   ],
   "source": [
    "# assign a boolean\n",
    "boolean = True\n",
    "print(boolean)\n",
    "print(type(boolean))"
   ]
  },
  {
   "cell_type": "code",
   "execution_count": 13,
   "metadata": {},
   "outputs": [
    {
     "name": "stdout",
     "output_type": "stream",
     "text": [
      "False\n"
     ]
    }
   ],
   "source": [
    "# used as checking a condition\n",
    "boolean = 3 > 5\n",
    "print(boolean)"
   ]
  },
  {
   "cell_type": "code",
   "execution_count": 14,
   "metadata": {},
   "outputs": [
    {
     "name": "stdout",
     "output_type": "stream",
     "text": [
      "False True\n"
     ]
    }
   ],
   "source": [
    "# if it's integer, boolean is `True` except for `0`\n",
    "boolean_1 = bool(0)\n",
    "boolean_2 = bool(100)\n",
    "print(boolean_1, boolean_2)"
   ]
  },
  {
   "cell_type": "code",
   "execution_count": 15,
   "metadata": {},
   "outputs": [
    {
     "name": "stdout",
     "output_type": "stream",
     "text": [
      "False True\n"
     ]
    }
   ],
   "source": [
    "# if it's string, boolean is `True` except for empty string `''`\n",
    "boolean_1 = bool('')\n",
    "boolean_2 = bool('Hello World!')\n",
    "print(boolean_1, boolean_2)"
   ]
  },
  {
   "cell_type": "markdown",
   "metadata": {},
   "source": [
    "### 3.5. `NoneType`\n",
    "It's literally just a `None`"
   ]
  },
  {
   "cell_type": "code",
   "execution_count": 16,
   "metadata": {},
   "outputs": [
    {
     "name": "stdout",
     "output_type": "stream",
     "text": [
      "Hello World!\n",
      "None\n",
      "<class 'NoneType'>\n"
     ]
    }
   ],
   "source": [
    "### getting `None` because nothing returned\n",
    "return_from_print = print('Hello World!')\n",
    "print(return_from_print)\n",
    "print(type(return_from_print))"
   ]
  },
  {
   "cell_type": "markdown",
   "metadata": {},
   "source": [
    "## 4. Four Python Most Common Data Structures\n",
    "There are four most common (also built-in) Python Data Structures.\n",
    "1. List\t\t\t: List of something\n",
    "2. Tuple\t\t: List but can't be modified\n",
    "3. Set\t\t\t: Tuple but unordered\n",
    "4. Dictionary\t: set but every 'value' has 'key' as name"
   ]
  },
  {
   "cell_type": "markdown",
   "metadata": {},
   "source": [
    "### 4.1. Define"
   ]
  },
  {
   "cell_type": "code",
   "execution_count": 17,
   "metadata": {},
   "outputs": [
    {
     "name": "stdout",
     "output_type": "stream",
     "text": [
      "[1, 2, 'Apple', 3, 'Banana']\n",
      "<class 'list'>\n"
     ]
    }
   ],
   "source": [
    "data = [1,2,'Apple',3,'Banana']\n",
    "print(data)\n",
    "print(type(data))"
   ]
  },
  {
   "cell_type": "code",
   "execution_count": 18,
   "metadata": {},
   "outputs": [
    {
     "name": "stdout",
     "output_type": "stream",
     "text": [
      "(1, 2, 'Apple', 3, 'Banana')\n",
      "<class 'tuple'>\n"
     ]
    }
   ],
   "source": [
    "data = (1,2,'Apple',3,'Banana')\n",
    "print(data)\n",
    "print(type(data))"
   ]
  },
  {
   "cell_type": "code",
   "execution_count": 19,
   "metadata": {},
   "outputs": [
    {
     "name": "stdout",
     "output_type": "stream",
     "text": [
      "{1, 2, 3, 'Banana', 'Apple'}\n",
      "<class 'set'>\n"
     ]
    }
   ],
   "source": [
    "data = {1,2,'Apple',3,'Banana'}\n",
    "print(data)\n",
    "print(type(data))"
   ]
  },
  {
   "cell_type": "markdown",
   "metadata": {},
   "source": [
    "### 4.2. Iterate"
   ]
  },
  {
   "cell_type": "code",
   "execution_count": 20,
   "metadata": {},
   "outputs": [
    {
     "name": "stdout",
     "output_type": "stream",
     "text": [
      "{'Order': 1, 'Number': 2, 'Favourite fruit': 'Apple', 'Siblings': 3, 'Mood': 'Banana'}\n",
      "<class 'dict'>\n"
     ]
    }
   ],
   "source": [
    "data = {\n",
    "    'Order': 1,\n",
    "    'Number': 2,\n",
    "    'Favourite fruit': 'Apple',\n",
    "    'Siblings': 3,\n",
    "    'Mood': 'Banana'\n",
    "}\n",
    "print(data)\n",
    "print(type(data))"
   ]
  },
  {
   "cell_type": "code",
   "execution_count": 21,
   "metadata": {},
   "outputs": [
    {
     "name": "stdout",
     "output_type": "stream",
     "text": [
      "1\n",
      "2\n",
      "Apple\n",
      "3\n",
      "Banana\n"
     ]
    }
   ],
   "source": [
    "# iterate over iterable\n",
    "data = [1,2,'Apple',3,'Banana']\n",
    "for content in data:\n",
    "    print(content)"
   ]
  },
  {
   "cell_type": "code",
   "execution_count": 22,
   "metadata": {},
   "outputs": [
    {
     "name": "stdout",
     "output_type": "stream",
     "text": [
      "Order\n",
      "1\n",
      "Number\n",
      "2\n",
      "Favourite fruit\n",
      "Apple\n",
      "Siblings\n",
      "3\n",
      "Mood\n",
      "Banana\n"
     ]
    }
   ],
   "source": [
    "# iterate over dictionary key and value using `.items()` method\n",
    "data = {\n",
    "    'Order': 1,\n",
    "    'Number': 2,\n",
    "    'Favourite fruit': 'Apple',\n",
    "    'Siblings': 3,\n",
    "    'Mood': 'Banana'\n",
    "}\n",
    "for key, value in data.items():\n",
    "    print(key)\n",
    "    print(value)"
   ]
  },
  {
   "cell_type": "markdown",
   "metadata": {},
   "source": [
    "### 4.3. Nested"
   ]
  },
  {
   "cell_type": "code",
   "execution_count": 23,
   "metadata": {},
   "outputs": [
    {
     "name": "stdout",
     "output_type": "stream",
     "text": [
      "[[1, 2, 3], [4, 5, 6]]\n",
      "[7, 8, 9]\n"
     ]
    }
   ],
   "source": [
    "list_1 = [\n",
    "    [1,2,3],\n",
    "    [4,5,6]\n",
    "]\n",
    "list_2 = [7,8,9]\n",
    "list_combined = [list_1, list_2]\n",
    "for list_content in list_combined:\n",
    "    print(list_content)"
   ]
  },
  {
   "cell_type": "markdown",
   "metadata": {},
   "source": [
    "### 4.4. Call by index"
   ]
  },
  {
   "cell_type": "code",
   "execution_count": 24,
   "metadata": {},
   "outputs": [
    {
     "name": "stdout",
     "output_type": "stream",
     "text": [
      "[1, 2, 3]\n",
      "<class 'list'>\n",
      "3\n",
      "<class 'int'>\n"
     ]
    }
   ],
   "source": [
    "# list call by index\n",
    "list_1 = [\n",
    "    [1,2,3],\n",
    "    [4,5,6]\n",
    "]\n",
    "\n",
    "first_index_of_list = list_1[0]\n",
    "print(first_index_of_list)\n",
    "print(type(first_index_of_list))\n",
    "\n",
    "third_index_of_first_index_of_list = list_1[0][2]\n",
    "print(third_index_of_first_index_of_list)\n",
    "print(type(third_index_of_first_index_of_list))"
   ]
  },
  {
   "cell_type": "code",
   "execution_count": 25,
   "metadata": {},
   "outputs": [
    {
     "name": "stdout",
     "output_type": "stream",
     "text": [
      "A\n",
      "<class 'str'>\n",
      "('studying', 'working')\n",
      "<class 'tuple'>\n"
     ]
    }
   ],
   "source": [
    "# dict call by index\n",
    "dictionary = {\n",
    "    'Name': 'A',\n",
    "    'Age': 21,\n",
    "    'Hobbies': ('studying', 'working')\n",
    "}\n",
    "\n",
    "name = dictionary['Name']\n",
    "print(name)\n",
    "print(type(name))\n",
    "\n",
    "hobbies = dictionary['Hobbies']\n",
    "print(hobbies)\n",
    "print(type(hobbies))"
   ]
  },
  {
   "cell_type": "markdown",
   "metadata": {},
   "source": [
    "## 5. Exercise\n",
    "Using `if` statement, `print()` the content of `list_a = ['cat', 'lion', 'tiger']` if it's not in `list_b = ['cam', 'can', car', 'cat']`. Example of `if` statement:  \n",
    "\n",
    "```\n",
    "if True:\n",
    "    print('Hello')\n",
    "\n",
    "val = 'o'\n",
    "iterable = 'Hello World!' \n",
    "if val in iterable:\n",
    "    print(f'Yeah, there is {val} in {iterable}')\n",
    "```"
   ]
  },
  {
   "cell_type": "code",
   "execution_count": 26,
   "metadata": {},
   "outputs": [
    {
     "name": "stdout",
     "output_type": "stream",
     "text": [
      "Hello\n"
     ]
    }
   ],
   "source": [
    "if True:\n",
    "    print('Hello')"
   ]
  },
  {
   "cell_type": "code",
   "execution_count": 27,
   "metadata": {},
   "outputs": [
    {
     "name": "stdout",
     "output_type": "stream",
     "text": [
      "Yeah, there is end in boyfriend\n"
     ]
    }
   ],
   "source": [
    "val = 'end'\n",
    "iterable = 'boyfriend' \n",
    "if val in iterable:\n",
    "    print(f'Yeah, there is {val} in {iterable}')"
   ]
  }
 ],
 "metadata": {
  "kernelspec": {
   "display_name": "Python 3",
   "language": "python",
   "name": "python3"
  },
  "language_info": {
   "codemirror_mode": {
    "name": "ipython",
    "version": 3
   },
   "file_extension": ".py",
   "mimetype": "text/x-python",
   "name": "python",
   "nbconvert_exporter": "python",
   "pygments_lexer": "ipython3",
   "version": "3.7.4"
  }
 },
 "nbformat": 4,
 "nbformat_minor": 4
}
