{
 "cells": [
  {
   "cell_type": "markdown",
   "metadata": {},
   "source": [
    "# complex sine wave\n",
    "Improvement of [GUI apps in Jupyter using ipywidgets](https://www.youtube.com/watch?v=f0WmLo8AVxo) tutorial"
   ]
  },
  {
   "cell_type": "code",
   "execution_count": 1,
   "metadata": {},
   "outputs": [],
   "source": [
    "from ipywidgets.widgets import Label, FloatProgress, FloatSlider, Button\n",
    "from ipywidgets.widgets import Layout, HBox, VBox\n",
    "from IPython.display import display\n",
    "\n",
    "import numpy as np\n",
    "import bqplot as bq\n",
    "import time\n",
    "import threading"
   ]
  },
  {
   "cell_type": "code",
   "execution_count": 2,
   "metadata": {},
   "outputs": [],
   "source": [
    "# flag to control loop\n",
    "flag_on = True\n",
    "flag_play = False\n",
    "\n",
    "#data to plot\n",
    "x = np.linspace(0, 2*np.pi, 500)\n",
    "dx = x[1] - x[0]\n",
    "y = np.sin(x)"
   ]
  },
  {
   "cell_type": "markdown",
   "metadata": {},
   "source": [
    "## GUI element"
   ]
  },
  {
   "cell_type": "code",
   "execution_count": 3,
   "metadata": {},
   "outputs": [
    {
     "data": {
      "application/vnd.jupyter.widget-view+json": {
       "model_id": "3376b0d9bab14c1eb9dd69f65d38ed7d",
       "version_major": 2,
       "version_minor": 0
      },
      "text/plain": [
       "Button(button_style='warning', description='stop', icon='stop', layout=Layout(width='100px'), style=ButtonStyl…"
      ]
     },
     "metadata": {},
     "output_type": "display_data"
    }
   ],
   "source": [
    "# stop button\n",
    "button_stop = Button(\n",
    "    description = 'stop',\n",
    "    icon = 'stop',\n",
    "    button_style = 'warning',\n",
    "    layout = Layout(width='100px')\n",
    ")\n",
    "\n",
    "def button_stop_click(self):\n",
    "    global flag_on\n",
    "    flag_on = False\n",
    "\n",
    "button_stop.on_click(button_stop_click)\n",
    "button_stop"
   ]
  },
  {
   "cell_type": "code",
   "execution_count": 4,
   "metadata": {},
   "outputs": [
    {
     "data": {
      "application/vnd.jupyter.widget-view+json": {
       "model_id": "db80675d3d444aa8b1b43a0907302a3b",
       "version_major": 2,
       "version_minor": 0
      },
      "text/plain": [
       "Button(button_style='primary', description='play', icon='play', layout=Layout(width='100px'), style=ButtonStyl…"
      ]
     },
     "metadata": {},
     "output_type": "display_data"
    }
   ],
   "source": [
    "# pause/play button\n",
    "button_play = Button(\n",
    "    description = 'play',\n",
    "    icon = 'fa-play',\n",
    "    button_style = 'primary',\n",
    "    layout = Layout(width='100px')\n",
    ")\n",
    "\n",
    "def button_play_click(self):\n",
    "    global flag_play\n",
    "    global button_play\n",
    "    if button_play.icon == 'pause':\n",
    "        flag_play = False\n",
    "        button_play.icon = 'fa-play'\n",
    "        button_play.description = 'play'\n",
    "    else:\n",
    "        flag_play = True\n",
    "        button_play.icon = 'fa-pause'\n",
    "        button_play.description = 'pause'\n",
    "\n",
    "button_play.on_click(button_play_click)\n",
    "button_play"
   ]
  },
  {
   "cell_type": "code",
   "execution_count": 5,
   "metadata": {},
   "outputs": [
    {
     "data": {
      "application/vnd.jupyter.widget-view+json": {
       "model_id": "1db4e8446b004918a166abf086783c17",
       "version_major": 2,
       "version_minor": 0
      },
      "text/plain": [
       "FloatProgress(value=-2.4492935982947064e-16, description='Progress:', layout=Layout(width='365px'), max=1.5, m…"
      ]
     },
     "metadata": {},
     "output_type": "display_data"
    }
   ],
   "source": [
    "# progressbar \n",
    "progressbar = FloatProgress(\n",
    "    value = y[-1],\n",
    "    min = -1.5,\n",
    "    max = 1.5,\n",
    "    description = 'Progress:',\n",
    "    style = {'desciption_width': 'initial'},\n",
    "    layout = Layout(width='365px')\n",
    ")\n",
    "progressbar"
   ]
  },
  {
   "cell_type": "code",
   "execution_count": 6,
   "metadata": {},
   "outputs": [
    {
     "data": {
      "application/vnd.jupyter.widget-view+json": {
       "model_id": "426a461172a44818a3cf187172a3f729",
       "version_major": 2,
       "version_minor": 0
      },
      "text/plain": [
       "Label(value='-0.0', layout=Layout(width='365px'))"
      ]
     },
     "metadata": {},
     "output_type": "display_data"
    }
   ],
   "source": [
    "# label\n",
    "label = Label(\n",
    "    value = str(np.round(y[-1],2)),\n",
    "    layout = Layout(width='365px')\n",
    ")\n",
    "label"
   ]
  },
  {
   "cell_type": "code",
   "execution_count": 7,
   "metadata": {},
   "outputs": [
    {
     "data": {
      "application/vnd.jupyter.widget-view+json": {
       "model_id": "1c354a66dcdd40ceb9e6842eaee9fb6f",
       "version_major": 2,
       "version_minor": 0
      },
      "text/plain": [
       "HBox(children=(FloatProgress(value=-2.4492935982947064e-16, description='Progress:', layout=Layout(width='365p…"
      ]
     },
     "metadata": {},
     "output_type": "display_data"
    }
   ],
   "source": [
    "# progressbar_and_label\n",
    "progressbar_and_label = HBox(\n",
    "    children = (progressbar, label),\n",
    "    layout = Layout(margin='0 0 0 43px')\n",
    ")\n",
    "progressbar_and_label"
   ]
  },
  {
   "cell_type": "code",
   "execution_count": 8,
   "metadata": {},
   "outputs": [
    {
     "data": {
      "application/vnd.jupyter.widget-view+json": {
       "model_id": "8ff271e2427b4ea8a4688c88eba0950b",
       "version_major": 2,
       "version_minor": 0
      },
      "text/plain": [
       "FloatSlider(value=0.0, description='Slider:', layout=Layout(margin='0 0 5px 0', width='490px'), max=0.5, step=…"
      ]
     },
     "metadata": {},
     "output_type": "display_data"
    }
   ],
   "source": [
    "# slider\n",
    "slider = FloatSlider(\n",
    "    value = 0,\n",
    "    min = 0,\n",
    "    max = 0.5,\n",
    "    step = 0.01,\n",
    "    description = 'Slider:',\n",
    "    layout = Layout(width='490px', margin='0 0 5px 0')\n",
    ")\n",
    "slider"
   ]
  },
  {
   "cell_type": "code",
   "execution_count": 9,
   "metadata": {},
   "outputs": [
    {
     "data": {
      "application/vnd.jupyter.widget-view+json": {
       "model_id": "cc3773c32f7f49b288f3a27037f8ac46",
       "version_major": 2,
       "version_minor": 0
      },
      "text/plain": [
       "Figure(axes=[Axis(label='x(t)', scale=LinearScale()), Axis(label='y(t)', orientation='vertical', scale=LinearS…"
      ]
     },
     "metadata": {},
     "output_type": "display_data"
    }
   ],
   "source": [
    "# plot\n",
    "\n",
    "#scale\n",
    "x_sc = bq.LinearScale()\n",
    "y_sc = bq.LinearScale()\n",
    "\n",
    "#axis\n",
    "x_ax = bq.Axis(\n",
    "    label = 'x(t)',\n",
    "    scale = x_sc\n",
    ")\n",
    "y_ax = bq.Axis(\n",
    "    label = 'y(t)',\n",
    "    scale = y_sc,\n",
    "    orientation = 'vertical'\n",
    ")\n",
    "\n",
    "# line\n",
    "line = bq.Lines(\n",
    "    x = x,\n",
    "    y = y,\n",
    "    scales = {\n",
    "        'x': x_sc,'y': y_sc\n",
    "    }\n",
    ")\n",
    "\n",
    "# figure\n",
    "fig = bq.Figure(\n",
    "    layout = Layout(width='500px', height='300px'),\n",
    "    axes = [x_ax, y_ax],\n",
    "    marks = [line],\n",
    "    fig_margin = dict(top=10, bottom=40, left=50, right=10)\n",
    ")\n",
    "\n",
    "fig"
   ]
  },
  {
   "cell_type": "code",
   "execution_count": 10,
   "metadata": {},
   "outputs": [
    {
     "data": {
      "application/vnd.jupyter.widget-view+json": {
       "model_id": "9e0756d30e434dd39172db537550783a",
       "version_major": 2,
       "version_minor": 0
      },
      "text/plain": [
       "VBox(children=(HBox(children=(Button(button_style='primary', description='play', icon='play', layout=Layout(wi…"
      ]
     },
     "metadata": {},
     "output_type": "display_data"
    }
   ],
   "source": [
    "# join\n",
    "screen_box = VBox(\n",
    "    children = (fig, progressbar_and_label, slider),\n",
    "    layout = Layout(border = 'solid 2px gray', width='510px')\n",
    ")\n",
    "\n",
    "button_box = HBox(\n",
    "    children = (button_play,button_stop)\n",
    ")\n",
    "\n",
    "app = VBox(\n",
    "    children = (button_box, screen_box)\n",
    ")\n",
    "\n",
    "app"
   ]
  },
  {
   "cell_type": "code",
   "execution_count": 11,
   "metadata": {},
   "outputs": [],
   "source": [
    "# loop\n",
    "def work():\n",
    "    global x\n",
    "    global y\n",
    "    \n",
    "    while flag_on:\n",
    "        while flag_play:\n",
    "            # get latest value of slider as noise amplitude\n",
    "            A = slider.value\n",
    "\n",
    "            # delete old values from x and y\n",
    "            x = np.delete(x, 0)\n",
    "            y = np.delete(y, 0)\n",
    "\n",
    "            # add new values to x and y\n",
    "            x = np.append(x, x[-1] + dx)\n",
    "            noise = A * (np.random.rand() - 0.5)\n",
    "            y = np.append(y, np.sin(x[-1]) + noise)\n",
    "\n",
    "            # update progressbar and label\n",
    "            progressbar.value = y[-1]\n",
    "            label.value = str(np.round(y[-1],2))\n",
    "\n",
    "            # update plot\n",
    "            line.x = x\n",
    "            line.y = y\n",
    "\n",
    "            # control cycle speed\n",
    "            time.sleep(0.05)\n",
    "            \n",
    "            if flag_on != True:\n",
    "                break\n",
    "    screen_box.close()\n",
    "    print('App is closed. Please restart the web')"
   ]
  },
  {
   "cell_type": "code",
   "execution_count": 12,
   "metadata": {},
   "outputs": [
    {
     "data": {
      "application/vnd.jupyter.widget-view+json": {
       "model_id": "9e0756d30e434dd39172db537550783a",
       "version_major": 2,
       "version_minor": 0
      },
      "text/plain": [
       "VBox(children=(HBox(children=(Button(button_style='primary', description='play', icon='play', layout=Layout(wi…"
      ]
     },
     "metadata": {},
     "output_type": "display_data"
    }
   ],
   "source": [
    "# display the app\n",
    "display(app)\n",
    "\n",
    "# set the flag to true\n",
    "flag = True\n",
    "\n",
    "# create thread\n",
    "thread = threading.Thread(target=work)\n",
    "\n",
    "# start thread\n",
    "thread.start()"
   ]
  }
 ],
 "metadata": {
  "kernelspec": {
   "display_name": "Python 3",
   "language": "python",
   "name": "python3"
  },
  "language_info": {
   "codemirror_mode": {
    "name": "ipython",
    "version": 3
   },
   "file_extension": ".py",
   "mimetype": "text/x-python",
   "name": "python",
   "nbconvert_exporter": "python",
   "pygments_lexer": "ipython3",
   "version": "3.7.4"
  },
  "widgets": {
   "application/vnd.jupyter.widget-state+json": {
    "state": {
     "007fc58bd5054fc09c8715f1f775bbab": {
      "model_module": "@jupyter-widgets/base",
      "model_module_version": "1.2.0",
      "model_name": "LayoutModel",
      "state": {
       "margin": "0 0 5px 0",
       "width": "490px"
      }
     },
     "015d5fa3712b4870930fed9e41bf354a": {
      "model_module": "@jupyter-widgets/base",
      "model_module_version": "1.2.0",
      "model_name": "LayoutModel",
      "state": {
       "width": "100px"
      }
     },
     "01b56c4cdc504192806047ab0101cab1": {
      "model_module": "@jupyter-widgets/base",
      "model_module_version": "1.2.0",
      "model_name": "LayoutModel",
      "state": {
       "width": "100px"
      }
     },
     "023cf1c028fe493e8b7a1fe75dec3f6c": {
      "model_module": "@jupyter-widgets/controls",
      "model_module_version": "1.5.0",
      "model_name": "ButtonModel",
      "state": {
       "button_style": "warning",
       "description": "stop",
       "icon": "stop",
       "layout": "IPY_MODEL_dc1ff50394db44e88ae6259ed6d1e58c",
       "style": "IPY_MODEL_0bc7774e7f2746bbb2bda58499685e02"
      }
     },
     "04aeb1b7035b457083e00fb62238f8fe": {
      "model_module": "@jupyter-widgets/base",
      "model_module_version": "1.2.0",
      "model_name": "LayoutModel",
      "state": {
       "width": "100px"
      }
     },
     "0699d77958e545969e33e909b8861a26": {
      "model_module": "@jupyter-widgets/controls",
      "model_module_version": "1.5.0",
      "model_name": "ButtonStyleModel",
      "state": {}
     },
     "090e7700a12247f7b9e16b73e766e722": {
      "model_module": "bqplot",
      "model_module_version": "^0.5.15",
      "model_name": "LinearScaleModel",
      "state": {
       "stabilized": false
      }
     },
     "093d93e9e08b43b2b4978a1c4791ab20": {
      "model_module": "@jupyter-widgets/base",
      "model_module_version": "1.2.0",
      "model_name": "LayoutModel",
      "state": {
       "width": "365px"
      }
     },
     "094e9e2ba42c4d48850aa906de8673bd": {
      "model_module": "@jupyter-widgets/base",
      "model_module_version": "1.2.0",
      "model_name": "LayoutModel",
      "state": {
       "margin": "0 0 0 43px"
      }
     },
     "0968c4674bd0483aa1590ffeea95dc9b": {
      "model_module": "@jupyter-widgets/controls",
      "model_module_version": "1.5.0",
      "model_name": "FloatProgressModel",
      "state": {
       "description": "Progress:",
       "layout": "IPY_MODEL_8f0a222ff2c442e59ad9ec8571070934",
       "max": 1.5,
       "min": -1.5,
       "style": "IPY_MODEL_50c95f59cacc411f9da07c8d5b83e8de",
       "value": -0.7052476706026198
      }
     },
     "0a30949b3cd84588bf06eccc50268591": {
      "model_module": "@jupyter-widgets/controls",
      "model_module_version": "1.5.0",
      "model_name": "ButtonStyleModel",
      "state": {}
     },
     "0bc7774e7f2746bbb2bda58499685e02": {
      "model_module": "@jupyter-widgets/controls",
      "model_module_version": "1.5.0",
      "model_name": "ButtonStyleModel",
      "state": {}
     },
     "0be0cb29e3c3480d8b28d8bb9b7117d7": {
      "model_module": "@jupyter-widgets/controls",
      "model_module_version": "1.5.0",
      "model_name": "ButtonModel",
      "state": {
       "button_style": "primary",
       "description": "pause/play",
       "icon": "pause",
       "layout": "IPY_MODEL_9f1d9e44683542b3b9bb1e2231ccaaab",
       "style": "IPY_MODEL_9c73886d6ac24fb090ee2ad6ac7853b9"
      }
     },
     "0c163fab2e4c430cab92fa8cbc2ab31c": {
      "model_module": "bqplot",
      "model_module_version": "^0.5.15",
      "model_name": "LinearScaleModel",
      "state": {
       "allow_padding": false,
       "max": 1,
       "min": 0,
       "stabilized": false
      }
     },
     "0f72ac95511b407081f9b34af9547035": {
      "model_module": "bqplot",
      "model_module_version": "^0.5.15",
      "model_name": "LinearScaleModel",
      "state": {
       "stabilized": false
      }
     },
     "12640bfbace740e0b14e4ed3826193ad": {
      "model_module": "@jupyter-widgets/base",
      "model_module_version": "1.2.0",
      "model_name": "LayoutModel",
      "state": {
       "width": "365px"
      }
     },
     "14e5bcaeee464e18831bc45a66657593": {
      "model_module": "@jupyter-widgets/controls",
      "model_module_version": "1.5.0",
      "model_name": "HBoxModel",
      "state": {
       "children": [
        "IPY_MODEL_ab1ae8763e524802bb75c25b5b9232ea",
        "IPY_MODEL_67282a756db94c1989957703b003fe8a"
       ],
       "layout": "IPY_MODEL_5ef818d170ed490d9dd9e060a4ea9a8d"
      }
     },
     "154b12b3b64442d1af9d5935f3a1da1a": {
      "model_module": "bqplot",
      "model_module_version": "^0.5.15",
      "model_name": "AxisModel",
      "state": {
       "label": "y(t)",
       "orientation": "vertical",
       "scale": "IPY_MODEL_e32da929fea54f4c95c63cff7c2c178b",
       "side": "left",
       "tick_values": null
      }
     },
     "16323011fd1e48829bd841e5dee87f94": {
      "model_module": "@jupyter-widgets/controls",
      "model_module_version": "1.5.0",
      "model_name": "ButtonModel",
      "state": {
       "button_style": "primary",
       "description": "pause/play",
       "icon": "pause",
       "layout": "IPY_MODEL_015d5fa3712b4870930fed9e41bf354a",
       "style": "IPY_MODEL_dba5e06665284ba5a8a782b21caf808c"
      }
     },
     "16ccc6ec78734fbdb12bd3fda6b864e2": {
      "model_module": "@jupyter-widgets/base",
      "model_module_version": "1.2.0",
      "model_name": "LayoutModel",
      "state": {
       "width": "365px"
      }
     },
     "17a8a193b2c9450394a9863fa0414cb4": {
      "model_module": "bqplot",
      "model_module_version": "^0.5.15",
      "model_name": "LinearScaleModel",
      "state": {
       "allow_padding": false,
       "max": 1,
       "min": 0,
       "stabilized": false
      }
     },
     "17cb07e190864c16aa286131c2456ec9": {
      "model_module": "@jupyter-widgets/controls",
      "model_module_version": "1.5.0",
      "model_name": "ButtonStyleModel",
      "state": {}
     },
     "18a8efa9748c4b16bbb8075ed80e271b": {
      "model_module": "@jupyter-widgets/controls",
      "model_module_version": "1.5.0",
      "model_name": "SliderStyleModel",
      "state": {
       "description_width": ""
      }
     },
     "18b04d8c0be64ddebc4200f71c3539aa": {
      "model_module": "@jupyter-widgets/base",
      "model_module_version": "1.2.0",
      "model_name": "LayoutModel",
      "state": {
       "width": "100px"
      }
     },
     "1917c2d8a0634aafab2ed657812ac14e": {
      "model_module": "@jupyter-widgets/base",
      "model_module_version": "1.2.0",
      "model_name": "LayoutModel",
      "state": {
       "width": "100px"
      }
     },
     "19a3de899d04401cb120f292346cddcf": {
      "model_module": "@jupyter-widgets/base",
      "model_module_version": "1.2.0",
      "model_name": "LayoutModel",
      "state": {
       "width": "100px"
      }
     },
     "1a61b598da884c50ba11a372500794e2": {
      "model_module": "@jupyter-widgets/controls",
      "model_module_version": "1.5.0",
      "model_name": "ProgressStyleModel",
      "state": {
       "description_width": ""
      }
     },
     "1bc8413118d149ca804ab1b0577e99db": {
      "model_module": "@jupyter-widgets/controls",
      "model_module_version": "1.5.0",
      "model_name": "ButtonStyleModel",
      "state": {}
     },
     "1bf1d800622b4b55b2fce9aaa9804d9a": {
      "model_module": "bqplot",
      "model_module_version": "^0.5.15",
      "model_name": "LinearScaleModel",
      "state": {
       "stabilized": false
      }
     },
     "1c354a66dcdd40ceb9e6842eaee9fb6f": {
      "model_module": "@jupyter-widgets/controls",
      "model_module_version": "1.5.0",
      "model_name": "HBoxModel",
      "state": {
       "children": [
        "IPY_MODEL_1db4e8446b004918a166abf086783c17",
        "IPY_MODEL_426a461172a44818a3cf187172a3f729"
       ],
       "layout": "IPY_MODEL_26edd2601a08469bbd285ae8c1ee7326"
      }
     },
     "1db4e8446b004918a166abf086783c17": {
      "model_module": "@jupyter-widgets/controls",
      "model_module_version": "1.5.0",
      "model_name": "FloatProgressModel",
      "state": {
       "description": "Progress:",
       "layout": "IPY_MODEL_c88f3ddeba6d4332ba06c8be4e924982",
       "max": 1.5,
       "min": -1.5,
       "style": "IPY_MODEL_1a61b598da884c50ba11a372500794e2",
       "value": 0.4492158803963668
      }
     },
     "1dbaaa47ee954e099aedd125bf89a477": {
      "model_module": "@jupyter-widgets/controls",
      "model_module_version": "1.5.0",
      "model_name": "VBoxModel",
      "state": {
       "children": [
        "IPY_MODEL_cc3773c32f7f49b288f3a27037f8ac46",
        "IPY_MODEL_1c354a66dcdd40ceb9e6842eaee9fb6f",
        "IPY_MODEL_8ff271e2427b4ea8a4688c88eba0950b"
       ],
       "layout": "IPY_MODEL_d7f1589ff5364075b6e433a95dbebc05"
      }
     },
     "1df6b66ea2a14e74aadc4a26fbecc5a8": {
      "model_module": "@jupyter-widgets/controls",
      "model_module_version": "1.5.0",
      "model_name": "ButtonModel",
      "state": {
       "button_style": "warning",
       "description": "stop",
       "icon": "stop",
       "layout": "IPY_MODEL_cd5e51812054448aab16056f2f55fc45",
       "style": "IPY_MODEL_5e7adf758b58448cb2684d64efd6d733"
      }
     },
     "1f39bc706ed44128a406f7488e1cb1a7": {
      "model_module": "@jupyter-widgets/controls",
      "model_module_version": "1.5.0",
      "model_name": "ButtonStyleModel",
      "state": {}
     },
     "1f573ed4d3c54a64b0105ed4d59a050a": {
      "model_module": "@jupyter-widgets/controls",
      "model_module_version": "1.5.0",
      "model_name": "VBoxModel",
      "state": {
       "children": [
        "IPY_MODEL_b1e8d5efb88642b090953632a89ae719",
        "IPY_MODEL_a92b23ecd4cf4a049912830999dce702"
       ],
       "layout": "IPY_MODEL_d8f6b576e75b4d739a6957c244489a65"
      }
     },
     "1fb353dfb1c64a5fabc3666084b22cc0": {
      "model_module": "@jupyter-widgets/base",
      "model_module_version": "1.2.0",
      "model_name": "LayoutModel",
      "state": {
       "height": "300px",
       "width": "500px"
      }
     },
     "21912031b3984d9fbe7793c9e9b32cb3": {
      "buffers": [
       {
        "data": "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",
        "encoding": "base64",
        "path": [
         "x",
         "value"
        ]
       },
       {
        "data": "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",
        "encoding": "base64",
        "path": [
         "y",
         "value"
        ]
       }
      ],
      "model_module": "bqplot",
      "model_module_version": "^0.5.15",
      "model_name": "LinesModel",
      "state": {
       "fill_colors": [],
       "labels": [
        "C1"
       ],
       "scales": {
        "x": "IPY_MODEL_0f72ac95511b407081f9b34af9547035",
        "y": "IPY_MODEL_8a9795cde4d748d59863fb02597b08b1"
       },
       "x": {
        "dtype": "float64",
        "shape": [
         500
        ],
        "type": null
       },
       "y": {
        "dtype": "float64",
        "shape": [
         500
        ],
        "type": null
       }
      }
     },
     "21c044e531ff41559d9c2296484832b8": {
      "model_module": "@jupyter-widgets/controls",
      "model_module_version": "1.5.0",
      "model_name": "ButtonStyleModel",
      "state": {}
     },
     "23e1eb0f6efb4a13b07e13a394d46a64": {
      "model_module": "@jupyter-widgets/controls",
      "model_module_version": "1.5.0",
      "model_name": "ButtonStyleModel",
      "state": {}
     },
     "2473c7281cf748b7a855e95595c8bea2": {
      "model_module": "@jupyter-widgets/controls",
      "model_module_version": "1.5.0",
      "model_name": "ButtonModel",
      "state": {
       "button_style": "primary",
       "description": "pause/play",
       "icon": "pause",
       "layout": "IPY_MODEL_5447cc1110ac4285a1b3dd3852d905bc",
       "style": "IPY_MODEL_d19126ed560542ad8bb4b5b0e9339829"
      }
     },
     "254403aa8bda4dee8333fe41cc8f116c": {
      "model_module": "@jupyter-widgets/controls",
      "model_module_version": "1.5.0",
      "model_name": "ButtonModel",
      "state": {
       "button_style": "primary",
       "description": "play",
       "icon": "play",
       "layout": "IPY_MODEL_3c1a1fc9c8054f6783dd0591e38a09bc",
       "style": "IPY_MODEL_da3bcb74962e43308a8fc24f53bf83c0"
      }
     },
     "255f5271740748a08c3ddff3979c308b": {
      "model_module": "@jupyter-widgets/controls",
      "model_module_version": "1.5.0",
      "model_name": "HBoxModel",
      "state": {
       "children": [
        "IPY_MODEL_db80675d3d444aa8b1b43a0907302a3b",
        "IPY_MODEL_3376b0d9bab14c1eb9dd69f65d38ed7d"
       ],
       "layout": "IPY_MODEL_e958d700bedc42139728027705e80de2"
      }
     },
     "269ffd483d3244c5b87dfa2207b92790": {
      "model_module": "@jupyter-widgets/base",
      "model_module_version": "1.2.0",
      "model_name": "LayoutModel",
      "state": {
       "width": "100px"
      }
     },
     "26edd2601a08469bbd285ae8c1ee7326": {
      "model_module": "@jupyter-widgets/base",
      "model_module_version": "1.2.0",
      "model_name": "LayoutModel",
      "state": {
       "margin": "0 0 0 43px"
      }
     },
     "270b5211243e4ce4ac94fa6e1009baa4": {
      "model_module": "bqplot",
      "model_module_version": "^0.5.15",
      "model_name": "LinearScaleModel",
      "state": {
       "stabilized": false
      }
     },
     "29ad1acba18741eba3290bbedb92025f": {
      "model_module": "bqplot",
      "model_module_version": "^0.5.15",
      "model_name": "LinearScaleModel",
      "state": {
       "allow_padding": false,
       "max": 1,
       "min": 0,
       "stabilized": false
      }
     },
     "2a322dcaf1bf48fc9385b402cca173f6": {
      "model_module": "@jupyter-widgets/base",
      "model_module_version": "1.2.0",
      "model_name": "LayoutModel",
      "state": {
       "margin": "0 0 0 43px"
      }
     },
     "2a6aeb7834614fec8ad1eb3cdd57ab8e": {
      "model_module": "@jupyter-widgets/controls",
      "model_module_version": "1.5.0",
      "model_name": "LabelModel",
      "state": {
       "layout": "IPY_MODEL_46872a0d62a442eebe936610153b328b",
       "style": "IPY_MODEL_e750b32283c740c3b67ea0faa67f6dce",
       "value": "-0.5"
      }
     },
     "2a6c4933d79e4619932f57d69abcd0c8": {
      "model_module": "@jupyter-widgets/controls",
      "model_module_version": "1.5.0",
      "model_name": "DescriptionStyleModel",
      "state": {
       "description_width": ""
      }
     },
     "2c276a0e68be45e697f97d3b684d2127": {
      "model_module": "@jupyter-widgets/controls",
      "model_module_version": "1.5.0",
      "model_name": "ButtonStyleModel",
      "state": {}
     },
     "2c77c4c840cc4836ad2e8f200bc01aa5": {
      "model_module": "@jupyter-widgets/base",
      "model_module_version": "1.2.0",
      "model_name": "LayoutModel",
      "state": {}
     },
     "2c7aa55bb7a74b7685ae3a28432958ac": {
      "model_module": "@jupyter-widgets/controls",
      "model_module_version": "1.5.0",
      "model_name": "ButtonStyleModel",
      "state": {}
     },
     "2cda4ec445c74cbfaa1b120a2648a214": {
      "model_module": "@jupyter-widgets/controls",
      "model_module_version": "1.5.0",
      "model_name": "ButtonStyleModel",
      "state": {}
     },
     "2d10ca8d818e43258f4ba9817d749d3e": {
      "model_module": "@jupyter-widgets/base",
      "model_module_version": "1.2.0",
      "model_name": "LayoutModel",
      "state": {
       "width": "100px"
      }
     },
     "2e448e80a10849f1ac51869c4e4b0e34": {
      "model_module": "bqplot",
      "model_module_version": "^0.5.15",
      "model_name": "AxisModel",
      "state": {
       "label": "y(t)",
       "orientation": "vertical",
       "scale": "IPY_MODEL_1bf1d800622b4b55b2fce9aaa9804d9a",
       "side": "left",
       "tick_values": null
      }
     },
     "2e71463a8e214d4382ea85e892848bc6": {
      "model_module": "@jupyter-widgets/controls",
      "model_module_version": "1.5.0",
      "model_name": "DescriptionStyleModel",
      "state": {
       "description_width": ""
      }
     },
     "2f67864abe3a4fceb53d1b2b82edb40b": {
      "model_module": "@jupyter-widgets/base",
      "model_module_version": "1.2.0",
      "model_name": "LayoutModel",
      "state": {
       "height": "300px",
       "width": "500px"
      }
     },
     "2fbfb425c4294dff9d98e5f83ecaa777": {
      "model_module": "@jupyter-widgets/controls",
      "model_module_version": "1.5.0",
      "model_name": "VBoxModel",
      "state": {
       "children": [
        "IPY_MODEL_7b451cb27f2747c1b36c88c81ad20e36",
        "IPY_MODEL_7fb0e528f36a47eebb425ca40f9ef706"
       ],
       "layout": "IPY_MODEL_5f9a8e003b9b433794ebb407dba14959"
      }
     },
     "319cb634d14f4b2c9e9aeebd9ccba791": {
      "model_module": "@jupyter-widgets/base",
      "model_module_version": "1.2.0",
      "model_name": "LayoutModel",
      "state": {}
     },
     "324a0554179b4a65a2ea09d209b766a0": {
      "model_module": "bqplot",
      "model_module_version": "^0.5.15",
      "model_name": "LinearScaleModel",
      "state": {
       "allow_padding": false,
       "max": 1,
       "min": 0,
       "stabilized": false
      }
     },
     "3376b0d9bab14c1eb9dd69f65d38ed7d": {
      "model_module": "@jupyter-widgets/controls",
      "model_module_version": "1.5.0",
      "model_name": "ButtonModel",
      "state": {
       "button_style": "warning",
       "description": "stop",
       "icon": "stop",
       "layout": "IPY_MODEL_b3d308675a6f4a61afa0dd2eb4be52e6",
       "style": "IPY_MODEL_e29b934f791a4fba8de9cf493a28d52c"
      }
     },
     "3474b14789784c549e7d2776d30ba306": {
      "model_module": "@jupyter-widgets/base",
      "model_module_version": "1.2.0",
      "model_name": "LayoutModel",
      "state": {
       "width": "365px"
      }
     },
     "349b6823d17e4efc8fa600d2b8d82c6d": {
      "model_module": "@jupyter-widgets/controls",
      "model_module_version": "1.5.0",
      "model_name": "HBoxModel",
      "state": {
       "children": [
        "IPY_MODEL_d8b2457a20ce4277a0bb747e4aaecb61",
        "IPY_MODEL_71518037973b45f8b83e9a4b892f6bd8"
       ],
       "layout": "IPY_MODEL_319cb634d14f4b2c9e9aeebd9ccba791"
      }
     },
     "35a27634dc7b427cbb2521ac905ff747": {
      "model_module": "@jupyter-widgets/base",
      "model_module_version": "1.2.0",
      "model_name": "LayoutModel",
      "state": {}
     },
     "374800007e704e2ba5bfd2bc4415e9f4": {
      "model_module": "@jupyter-widgets/base",
      "model_module_version": "1.2.0",
      "model_name": "LayoutModel",
      "state": {
       "width": "365px"
      }
     },
     "385ed5d2fa88494eaaa1e2ba790d53cd": {
      "model_module": "@jupyter-widgets/base",
      "model_module_version": "1.2.0",
      "model_name": "LayoutModel",
      "state": {
       "width": "100px"
      }
     },
     "38f78bf2780c4c4dbafaf5110d4a3a77": {
      "model_module": "@jupyter-widgets/controls",
      "model_module_version": "1.5.0",
      "model_name": "VBoxModel",
      "state": {
       "children": [
        "IPY_MODEL_fa3ed0367d964cd3bad09de099ceebd2",
        "IPY_MODEL_a10c5da76ac2462092695e8181ee333c",
        "IPY_MODEL_ce798f0e43864c0ab0744845da9376e4"
       ],
       "layout": "IPY_MODEL_f0428d3b24db4fc199d0bf17f4ebf8c6"
      }
     },
     "3909caaffdeb40bb91c0402febe2f6c8": {
      "model_module": "bqplot",
      "model_module_version": "^0.5.15",
      "model_name": "LinearScaleModel",
      "state": {
       "allow_padding": false,
       "max": 1,
       "min": 0,
       "stabilized": false
      }
     },
     "3995a3f71af446cfab0bd0fe25a85d77": {
      "model_module": "@jupyter-widgets/controls",
      "model_module_version": "1.5.0",
      "model_name": "ButtonStyleModel",
      "state": {}
     },
     "3a7e1780c0f14cd4ae1c5cff3f4ce44d": {
      "model_module": "@jupyter-widgets/controls",
      "model_module_version": "1.5.0",
      "model_name": "LabelModel",
      "state": {
       "layout": "IPY_MODEL_16ccc6ec78734fbdb12bd3fda6b864e2",
       "style": "IPY_MODEL_2a6c4933d79e4619932f57d69abcd0c8",
       "value": "-0.71"
      }
     },
     "3b967986240843869882d280bb84e67c": {
      "model_module": "bqplot",
      "model_module_version": "^0.5.15",
      "model_name": "AxisModel",
      "state": {
       "label": "x(t)",
       "scale": "IPY_MODEL_4b66066a4b324302b9eac1dcf7c51282",
       "side": "bottom",
       "tick_values": null
      }
     },
     "3c1a1fc9c8054f6783dd0591e38a09bc": {
      "model_module": "@jupyter-widgets/base",
      "model_module_version": "1.2.0",
      "model_name": "LayoutModel",
      "state": {
       "width": "100px"
      }
     },
     "3de7ff8f12b442baab5e35d5a58007f9": {
      "model_module": "@jupyter-widgets/base",
      "model_module_version": "1.2.0",
      "model_name": "LayoutModel",
      "state": {
       "width": "100px"
      }
     },
     "4058b299c39a45c09f4c7b81e69f182c": {
      "model_module": "@jupyter-widgets/controls",
      "model_module_version": "1.5.0",
      "model_name": "ButtonModel",
      "state": {
       "button_style": "primary",
       "description": "pause/play",
       "icon": "pause",
       "layout": "IPY_MODEL_5235a3d19072411aa7bf43865f1a8d76",
       "style": "IPY_MODEL_2cda4ec445c74cbfaa1b120a2648a214"
      }
     },
     "40acbda8d98a485b9e9bb8d6dd57aa80": {
      "model_module": "@jupyter-widgets/base",
      "model_module_version": "1.2.0",
      "model_name": "LayoutModel",
      "state": {
       "margin": "0 0 5px 0",
       "width": "490px"
      }
     },
     "410c2cb239fd40eb8d6a0f49d1f60910": {
      "model_module": "bqplot",
      "model_module_version": "^0.5.15",
      "model_name": "AxisModel",
      "state": {
       "label": "x(t)",
       "scale": "IPY_MODEL_090e7700a12247f7b9e16b73e766e722",
       "side": "bottom",
       "tick_values": null
      }
     },
     "41918954301e47b3bd46cc79635cd822": {
      "model_module": "@jupyter-widgets/controls",
      "model_module_version": "1.5.0",
      "model_name": "ButtonStyleModel",
      "state": {}
     },
     "426a461172a44818a3cf187172a3f729": {
      "model_module": "@jupyter-widgets/controls",
      "model_module_version": "1.5.0",
      "model_name": "LabelModel",
      "state": {
       "layout": "IPY_MODEL_093d93e9e08b43b2b4978a1c4791ab20",
       "style": "IPY_MODEL_b09e59fd505b4cdbb62d8ec780b62243",
       "value": "0.45"
      }
     },
     "42cec9678e1141c3b8283e789b33db8f": {
      "model_module": "@jupyter-widgets/base",
      "model_module_version": "1.2.0",
      "model_name": "LayoutModel",
      "state": {
       "width": "100px"
      }
     },
     "43ab522d332d41b4918cab6ad2680cba": {
      "model_module": "@jupyter-widgets/controls",
      "model_module_version": "1.5.0",
      "model_name": "ButtonModel",
      "state": {
       "button_style": "warning",
       "description": "stop",
       "icon": "stop",
       "layout": "IPY_MODEL_3de7ff8f12b442baab5e35d5a58007f9",
       "style": "IPY_MODEL_2c276a0e68be45e697f97d3b684d2127"
      }
     },
     "43f559adc06a45f7a6397dcbd6ab01a4": {
      "model_module": "bqplot",
      "model_module_version": "^0.5.15",
      "model_name": "LinearScaleModel",
      "state": {
       "allow_padding": false,
       "max": 1,
       "min": 0,
       "stabilized": false
      }
     },
     "45c1ea54d6134021b59f55472db4ac8b": {
      "model_module": "@jupyter-widgets/controls",
      "model_module_version": "1.5.0",
      "model_name": "FloatSliderModel",
      "state": {
       "description": "Slider:",
       "layout": "IPY_MODEL_6cba4d6120fe402491f5c5a9f4928cdf",
       "max": 0.5,
       "step": 0.01,
       "style": "IPY_MODEL_18a8efa9748c4b16bbb8075ed80e271b"
      }
     },
     "465af71795d24bfe89f3532daa611e76": {
      "model_module": "@jupyter-widgets/controls",
      "model_module_version": "1.5.0",
      "model_name": "ButtonStyleModel",
      "state": {}
     },
     "46872a0d62a442eebe936610153b328b": {
      "model_module": "@jupyter-widgets/base",
      "model_module_version": "1.2.0",
      "model_name": "LayoutModel",
      "state": {
       "width": "365px"
      }
     },
     "47cf0d223c6a484691c80b142981bce3": {
      "model_module": "@jupyter-widgets/base",
      "model_module_version": "1.2.0",
      "model_name": "LayoutModel",
      "state": {}
     },
     "495ac402a804445ea05cb45d2623c11e": {
      "model_module": "@jupyter-widgets/controls",
      "model_module_version": "1.5.0",
      "model_name": "ButtonModel",
      "state": {
       "button_style": "warning",
       "description": "stop",
       "icon": "stop",
       "layout": "IPY_MODEL_7be016d6d564463f9d294e09c20572fe",
       "style": "IPY_MODEL_88e279d157fb47d19ab27864afc16c9b"
      }
     },
     "49675caa13674293b27f7128e65015a2": {
      "model_module": "bqplot",
      "model_module_version": "^0.5.15",
      "model_name": "LinearScaleModel",
      "state": {
       "stabilized": false
      }
     },
     "4b66066a4b324302b9eac1dcf7c51282": {
      "model_module": "bqplot",
      "model_module_version": "^0.5.15",
      "model_name": "LinearScaleModel",
      "state": {
       "stabilized": false
      }
     },
     "4b7a117fff92412fa2a7a0c643ebcbe9": {
      "model_module": "@jupyter-widgets/controls",
      "model_module_version": "1.5.0",
      "model_name": "FloatSliderModel",
      "state": {
       "description": "Slider:",
       "layout": "IPY_MODEL_007fc58bd5054fc09c8715f1f775bbab",
       "max": 0.5,
       "step": 0.01,
       "style": "IPY_MODEL_cbf1a60518f24d57aa94ae967103adb0"
      }
     },
     "4cef06f5839d4eaabc1552a062855d2b": {
      "model_module": "@jupyter-widgets/controls",
      "model_module_version": "1.5.0",
      "model_name": "VBoxModel",
      "state": {
       "children": [
        "IPY_MODEL_fe61a40da6584c6189b12aff6af357f7",
        null,
        "IPY_MODEL_beb88107f9564523b090e96fda369948"
       ],
       "layout": "IPY_MODEL_bcc2c94ef3184a918bd10d2353c318d2"
      }
     },
     "4dc2d2052bc2425a8ce91f6a92709039": {
      "model_module": "@jupyter-widgets/base",
      "model_module_version": "1.2.0",
      "model_name": "LayoutModel",
      "state": {
       "width": "100px"
      }
     },
     "4f1919dbb4854fdf8115a483a9d4cbdf": {
      "model_module": "@jupyter-widgets/controls",
      "model_module_version": "1.5.0",
      "model_name": "ButtonStyleModel",
      "state": {}
     },
     "50c95f59cacc411f9da07c8d5b83e8de": {
      "model_module": "@jupyter-widgets/controls",
      "model_module_version": "1.5.0",
      "model_name": "ProgressStyleModel",
      "state": {
       "description_width": ""
      }
     },
     "50dcddf7ba37456688234a4382e7692e": {
      "model_module": "@jupyter-widgets/controls",
      "model_module_version": "1.5.0",
      "model_name": "LabelModel",
      "state": {
       "layout": "IPY_MODEL_84d80330170942fb9706947f31b8eaa0",
       "style": "IPY_MODEL_5a07556ba35847d99e41214b07f8fd87",
       "value": "-0.54"
      }
     },
     "510982059830407f883d80fc166d83be": {
      "model_module": "@jupyter-widgets/base",
      "model_module_version": "1.2.0",
      "model_name": "LayoutModel",
      "state": {
       "margin": "0 0 5px 0",
       "width": "490px"
      }
     },
     "5235a3d19072411aa7bf43865f1a8d76": {
      "model_module": "@jupyter-widgets/base",
      "model_module_version": "1.2.0",
      "model_name": "LayoutModel",
      "state": {
       "width": "100px"
      }
     },
     "528dca415dc742e996fe0778dc5f7be6": {
      "model_module": "bqplot",
      "model_module_version": "^0.5.15",
      "model_name": "AxisModel",
      "state": {
       "label": "x(t)",
       "scale": "IPY_MODEL_92e7d338cdfb43a6a89cdad09bda9a28",
       "side": "bottom",
       "tick_values": null
      }
     },
     "540a38bee734442ab76f13aec66bdbdd": {
      "model_module": "@jupyter-widgets/controls",
      "model_module_version": "1.5.0",
      "model_name": "ButtonModel",
      "state": {
       "button_style": "primary",
       "description": "pause/play",
       "icon": "pause/play",
       "layout": "IPY_MODEL_18b04d8c0be64ddebc4200f71c3539aa",
       "style": "IPY_MODEL_78b00515b7924a638ce6c290323e1f8b"
      }
     },
     "5447cc1110ac4285a1b3dd3852d905bc": {
      "model_module": "@jupyter-widgets/base",
      "model_module_version": "1.2.0",
      "model_name": "LayoutModel",
      "state": {
       "width": "100px"
      }
     },
     "5689a2b780cb4d4e95e1dea4bca5dfca": {
      "model_module": "@jupyter-widgets/controls",
      "model_module_version": "1.5.0",
      "model_name": "ButtonStyleModel",
      "state": {}
     },
     "5747ad156bbc4ce9a82f2d6af135f28b": {
      "model_module": "bqplot",
      "model_module_version": "^0.5.15",
      "model_name": "AxisModel",
      "state": {
       "label": "y(t)",
       "orientation": "vertical",
       "scale": "IPY_MODEL_5e5240281d6e4d689689bc9e22b4ed1c",
       "side": "left",
       "tick_values": null
      }
     },
     "586c65f1bab4437dbaf18b7c16b4d63c": {
      "model_module": "@jupyter-widgets/base",
      "model_module_version": "1.2.0",
      "model_name": "LayoutModel",
      "state": {}
     },
     "5a07556ba35847d99e41214b07f8fd87": {
      "model_module": "@jupyter-widgets/controls",
      "model_module_version": "1.5.0",
      "model_name": "DescriptionStyleModel",
      "state": {
       "description_width": ""
      }
     },
     "5bdb536948454c539d8313266ec95f65": {
      "model_module": "bqplot",
      "model_module_version": "^0.5.15",
      "model_name": "AxisModel",
      "state": {
       "label": "x(t)",
       "scale": "IPY_MODEL_66e047909cf94b069fb44bc51201c7ed",
       "side": "bottom",
       "tick_values": null
      }
     },
     "5e5240281d6e4d689689bc9e22b4ed1c": {
      "model_module": "bqplot",
      "model_module_version": "^0.5.15",
      "model_name": "LinearScaleModel",
      "state": {
       "stabilized": false
      }
     },
     "5e7adf758b58448cb2684d64efd6d733": {
      "model_module": "@jupyter-widgets/controls",
      "model_module_version": "1.5.0",
      "model_name": "ButtonStyleModel",
      "state": {}
     },
     "5eeef3af9b714297a0e41cf5e8ae6a93": {
      "model_module": "@jupyter-widgets/base",
      "model_module_version": "1.2.0",
      "model_name": "LayoutModel",
      "state": {
       "margin": "0 0 0 43px"
      }
     },
     "5ef818d170ed490d9dd9e060a4ea9a8d": {
      "model_module": "@jupyter-widgets/base",
      "model_module_version": "1.2.0",
      "model_name": "LayoutModel",
      "state": {
       "margin": "0 0 0 43px"
      }
     },
     "5efe1b9be1c14c56bb83ce75d709a279": {
      "model_module": "@jupyter-widgets/controls",
      "model_module_version": "1.5.0",
      "model_name": "ButtonStyleModel",
      "state": {}
     },
     "5f22f4aa99654121b302b6136b938fba": {
      "model_module": "bqplot",
      "model_module_version": "^0.5.15",
      "model_name": "FigureModel",
      "state": {
       "axes": [
        "IPY_MODEL_d5c043b941f04438b3350ca61419f7c4",
        "IPY_MODEL_c1f7c23bc0904321a703647d8e76eceb"
       ],
       "fig_margin": {
        "bottom": 40,
        "left": 50,
        "right": 10,
        "top": 10
       },
       "layout": "IPY_MODEL_1fb353dfb1c64a5fabc3666084b22cc0",
       "marks": [
        "IPY_MODEL_7aed214f6f2b43d79be83494ba1100d8"
       ],
       "scale_x": "IPY_MODEL_43f559adc06a45f7a6397dcbd6ab01a4",
       "scale_y": "IPY_MODEL_29ad1acba18741eba3290bbedb92025f"
      }
     },
     "5f9a8e003b9b433794ebb407dba14959": {
      "model_module": "@jupyter-widgets/base",
      "model_module_version": "1.2.0",
      "model_name": "LayoutModel",
      "state": {}
     },
     "607a826ac32e4d1e8141d593b7da3205": {
      "model_module": "@jupyter-widgets/base",
      "model_module_version": "1.2.0",
      "model_name": "LayoutModel",
      "state": {
       "margin": "0 0 5px 0",
       "width": "490px"
      }
     },
     "6110250aa17945738c523f3eb5c632fc": {
      "model_module": "@jupyter-widgets/base",
      "model_module_version": "1.2.0",
      "model_name": "LayoutModel",
      "state": {
       "width": "100px"
      }
     },
     "64897912b271436381162f6da9a107e9": {
      "model_module": "@jupyter-widgets/controls",
      "model_module_version": "1.5.0",
      "model_name": "ButtonStyleModel",
      "state": {}
     },
     "64ea17e985e14d9f8a2bb158613280c0": {
      "model_module": "@jupyter-widgets/controls",
      "model_module_version": "1.5.0",
      "model_name": "ButtonStyleModel",
      "state": {}
     },
     "654f1c63a83649a38fd3066ce0e1dd24": {
      "model_module": "@jupyter-widgets/controls",
      "model_module_version": "1.5.0",
      "model_name": "SliderStyleModel",
      "state": {
       "description_width": ""
      }
     },
     "66e047909cf94b069fb44bc51201c7ed": {
      "model_module": "bqplot",
      "model_module_version": "^0.5.15",
      "model_name": "LinearScaleModel",
      "state": {
       "stabilized": false
      }
     },
     "67282a756db94c1989957703b003fe8a": {
      "model_module": "@jupyter-widgets/controls",
      "model_module_version": "1.5.0",
      "model_name": "LabelModel",
      "state": {
       "layout": "IPY_MODEL_6e0ad26c09df421ea4f1c6bf4c2fe5b8",
       "style": "IPY_MODEL_2e71463a8e214d4382ea85e892848bc6",
       "value": "-0.69"
      }
     },
     "67820a822a3046d0b42c0530d39874c6": {
      "model_module": "@jupyter-widgets/base",
      "model_module_version": "1.2.0",
      "model_name": "LayoutModel",
      "state": {
       "margin": "0 0 0 43px"
      }
     },
     "68d05edd35804fd0a0ddaa4c14d4fc7e": {
      "model_module": "@jupyter-widgets/base",
      "model_module_version": "1.2.0",
      "model_name": "LayoutModel",
      "state": {
       "width": "100px"
      }
     },
     "6a45c791d2774b33a678d4dacd725a73": {
      "model_module": "@jupyter-widgets/base",
      "model_module_version": "1.2.0",
      "model_name": "LayoutModel",
      "state": {}
     },
     "6a6f3f913edd4e81ae4dc66ed593d018": {
      "model_module": "@jupyter-widgets/controls",
      "model_module_version": "1.5.0",
      "model_name": "SliderStyleModel",
      "state": {
       "description_width": ""
      }
     },
     "6a9518395ca544edaf48ea9078a1cf2f": {
      "model_module": "@jupyter-widgets/base",
      "model_module_version": "1.2.0",
      "model_name": "LayoutModel",
      "state": {
       "margin": "0 0 5px 0",
       "width": "490px"
      }
     },
     "6bccbc0a8b7240a789eba415b18ae103": {
      "model_module": "@jupyter-widgets/controls",
      "model_module_version": "1.5.0",
      "model_name": "FloatProgressModel",
      "state": {
       "description": "Progress:",
       "layout": "IPY_MODEL_b5cc9400b35c42db983464ea87bf79d7",
       "max": 1.5,
       "min": -1.5,
       "style": "IPY_MODEL_c5e9f3e456e24f7cb50ec271660fb168",
       "value": -0.5026955534083812
      }
     },
     "6cba4d6120fe402491f5c5a9f4928cdf": {
      "model_module": "@jupyter-widgets/base",
      "model_module_version": "1.2.0",
      "model_name": "LayoutModel",
      "state": {
       "margin": "0 0 5px 0",
       "width": "490px"
      }
     },
     "6d24b2c4ee0e40baa79a0a432372f458": {
      "model_module": "@jupyter-widgets/controls",
      "model_module_version": "1.5.0",
      "model_name": "HBoxModel",
      "state": {
       "children": [
        "IPY_MODEL_71518037973b45f8b83e9a4b892f6bd8",
        "IPY_MODEL_d8b2457a20ce4277a0bb747e4aaecb61"
       ],
       "layout": "IPY_MODEL_ca5b83a7a6fd4c61a52a6cdc0210f34e"
      }
     },
     "6d423223ae5348b996360d39773f8f0a": {
      "model_module": "@jupyter-widgets/controls",
      "model_module_version": "1.5.0",
      "model_name": "VBoxModel",
      "state": {
       "children": [
        "IPY_MODEL_fa3ed0367d964cd3bad09de099ceebd2",
        "IPY_MODEL_a10c5da76ac2462092695e8181ee333c",
        "IPY_MODEL_ce798f0e43864c0ab0744845da9376e4"
       ],
       "layout": "IPY_MODEL_bbe197b68c664a3a8c3659aadbd8db11"
      }
     },
     "6e0ad26c09df421ea4f1c6bf4c2fe5b8": {
      "model_module": "@jupyter-widgets/base",
      "model_module_version": "1.2.0",
      "model_name": "LayoutModel",
      "state": {
       "width": "365px"
      }
     },
     "6e9eb25c4a1541c6b0d522cc038440ff": {
      "model_module": "bqplot",
      "model_module_version": "^0.5.15",
      "model_name": "LinearScaleModel",
      "state": {
       "stabilized": false
      }
     },
     "6fb435429d0d41a7af2ff674b83d0858": {
      "model_module": "@jupyter-widgets/controls",
      "model_module_version": "1.5.0",
      "model_name": "ButtonModel",
      "state": {
       "button_style": "primary",
       "description": "pause/play",
       "icon": "pause",
       "layout": "IPY_MODEL_dcb7634c7b2744ef8adc139f22d9f9d4",
       "style": "IPY_MODEL_0699d77958e545969e33e909b8861a26"
      }
     },
     "702cbdef50df47f59a95aea763500cb3": {
      "model_module": "bqplot",
      "model_module_version": "^0.5.15",
      "model_name": "LinearScaleModel",
      "state": {
       "allow_padding": false,
       "max": 1,
       "min": 0,
       "stabilized": false
      }
     },
     "705efadf45804aea897b7a2898e7a433": {
      "model_module": "@jupyter-widgets/controls",
      "model_module_version": "1.5.0",
      "model_name": "ButtonStyleModel",
      "state": {}
     },
     "71518037973b45f8b83e9a4b892f6bd8": {
      "model_module": "@jupyter-widgets/controls",
      "model_module_version": "1.5.0",
      "model_name": "ButtonModel",
      "state": {
       "button_style": "warning",
       "description": "stop",
       "icon": "stop",
       "layout": "IPY_MODEL_269ffd483d3244c5b87dfa2207b92790",
       "style": "IPY_MODEL_4f1919dbb4854fdf8115a483a9d4cbdf"
      }
     },
     "72cc3438cc5f4ccda890fc34ff5d8639": {
      "model_module": "@jupyter-widgets/base",
      "model_module_version": "1.2.0",
      "model_name": "LayoutModel",
      "state": {}
     },
     "72fc1d22ca2d415d82413c4702d42c80": {
      "model_module": "@jupyter-widgets/controls",
      "model_module_version": "1.5.0",
      "model_name": "FloatProgressModel",
      "state": {
       "description": "Progress:",
       "layout": "IPY_MODEL_374800007e704e2ba5bfd2bc4415e9f4",
       "max": 1.5,
       "min": -1.5,
       "style": "IPY_MODEL_d0e1e9f4dd354eb3a773574bf5c99e5e",
       "value": -0.536783276749966
      }
     },
     "757a44c211a84e33afc58cd4f9236041": {
      "model_module": "@jupyter-widgets/controls",
      "model_module_version": "1.5.0",
      "model_name": "FloatSliderModel",
      "state": {
       "description": "Slider:",
       "layout": "IPY_MODEL_510982059830407f883d80fc166d83be",
       "max": 0.5,
       "step": 0.01,
       "style": "IPY_MODEL_dd1d10260b304deb8997032b132449ed",
       "value": 0.05
      }
     },
     "765cdc1ac5704014b07b629198754c4e": {
      "model_module": "@jupyter-widgets/base",
      "model_module_version": "1.2.0",
      "model_name": "LayoutModel",
      "state": {
       "height": "300px",
       "width": "500px"
      }
     },
     "78b00515b7924a638ce6c290323e1f8b": {
      "model_module": "@jupyter-widgets/controls",
      "model_module_version": "1.5.0",
      "model_name": "ButtonStyleModel",
      "state": {}
     },
     "78e3a4a9ae854220bdf9d295216324ff": {
      "model_module": "bqplot",
      "model_module_version": "^0.5.15",
      "model_name": "FigureModel",
      "state": {
       "axes": [
        "IPY_MODEL_410c2cb239fd40eb8d6a0f49d1f60910",
        "IPY_MODEL_7ea6ad9f0d4547f48f84f29e9f2089a4"
       ],
       "fig_margin": {
        "bottom": 40,
        "left": 50,
        "right": 10,
        "top": 10
       },
       "layout": "IPY_MODEL_9b798477e1d240f7821f32b1d0010361",
       "marks": [
        "IPY_MODEL_8867f61e41014af5bb3c164f3968ab72"
       ],
       "scale_x": "IPY_MODEL_324a0554179b4a65a2ea09d209b766a0",
       "scale_y": "IPY_MODEL_9cb70f28e3b347b1863a0c7b736f1cf1"
      }
     },
     "7aed214f6f2b43d79be83494ba1100d8": {
      "buffers": [
       {
        "data": "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",
        "encoding": "base64",
        "path": [
         "x",
         "value"
        ]
       },
       {
        "data": "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",
        "encoding": "base64",
        "path": [
         "y",
         "value"
        ]
       }
      ],
      "model_module": "bqplot",
      "model_module_version": "^0.5.15",
      "model_name": "LinesModel",
      "state": {
       "fill_colors": [],
       "labels": [
        "C1"
       ],
       "scales": {
        "x": "IPY_MODEL_49675caa13674293b27f7128e65015a2",
        "y": "IPY_MODEL_6e9eb25c4a1541c6b0d522cc038440ff"
       },
       "x": {
        "dtype": "float64",
        "shape": [
         500
        ],
        "type": null
       },
       "y": {
        "dtype": "float64",
        "shape": [
         500
        ],
        "type": null
       }
      }
     },
     "7b451cb27f2747c1b36c88c81ad20e36": {
      "model_module": "@jupyter-widgets/controls",
      "model_module_version": "1.5.0",
      "model_name": "HBoxModel",
      "state": {
       "children": [
        "IPY_MODEL_71518037973b45f8b83e9a4b892f6bd8",
        "IPY_MODEL_d8b2457a20ce4277a0bb747e4aaecb61"
       ],
       "layout": "IPY_MODEL_c63230b972144e9cb5a7703d10f1a32b"
      }
     },
     "7b505bb535ea41528216c051009422e5": {
      "model_module": "@jupyter-widgets/controls",
      "model_module_version": "1.5.0",
      "model_name": "ButtonModel",
      "state": {
       "button_style": "primary",
       "description": "pause",
       "icon": "pause",
       "layout": "IPY_MODEL_04aeb1b7035b457083e00fb62238f8fe",
       "style": "IPY_MODEL_1bc8413118d149ca804ab1b0577e99db"
      }
     },
     "7ba21447f2724b60a136b0e0e2faa39a": {
      "model_module": "@jupyter-widgets/controls",
      "model_module_version": "1.5.0",
      "model_name": "VBoxModel",
      "state": {
       "children": [
        "IPY_MODEL_85a8952fdc6b43c797b9d623a8dfda91",
        "IPY_MODEL_e6e22ed56f47476a9f8dbfb936001ba1"
       ],
       "layout": "IPY_MODEL_6a45c791d2774b33a678d4dacd725a73"
      }
     },
     "7be016d6d564463f9d294e09c20572fe": {
      "model_module": "@jupyter-widgets/base",
      "model_module_version": "1.2.0",
      "model_name": "LayoutModel",
      "state": {
       "width": "100px"
      }
     },
     "7d313e87054b4d9a96b183c9e2abbcf6": {
      "model_module": "@jupyter-widgets/controls",
      "model_module_version": "1.5.0",
      "model_name": "HBoxModel",
      "state": {
       "children": [
        "IPY_MODEL_8077c87b3103470f93a956d472fbb6ef",
        "IPY_MODEL_1df6b66ea2a14e74aadc4a26fbecc5a8"
       ],
       "layout": "IPY_MODEL_586c65f1bab4437dbaf18b7c16b4d63c"
      }
     },
     "7e994db8187e43a29d5d60cc605b54dd": {
      "model_module": "bqplot",
      "model_module_version": "^0.5.15",
      "model_name": "FigureModel",
      "state": {
       "axes": [
        "IPY_MODEL_528dca415dc742e996fe0778dc5f7be6",
        "IPY_MODEL_5747ad156bbc4ce9a82f2d6af135f28b"
       ],
       "fig_margin": {
        "bottom": 40,
        "left": 50,
        "right": 10,
        "top": 10
       },
       "layout": "IPY_MODEL_f4067c52ce33423caab5b11fc776026b",
       "marks": [
        "IPY_MODEL_dfa52da0b34f4588ad02de04ef63e2d3"
       ],
       "scale_x": "IPY_MODEL_8250e249c55845bc982a14d994f6e459",
       "scale_y": "IPY_MODEL_c72b4a5a7353407faf8504da7eaf2724"
      }
     },
     "7ea6ad9f0d4547f48f84f29e9f2089a4": {
      "model_module": "bqplot",
      "model_module_version": "^0.5.15",
      "model_name": "AxisModel",
      "state": {
       "label": "y(t)",
       "orientation": "vertical",
       "scale": "IPY_MODEL_8cc546955c674a7c8eb8e9757a6364dd",
       "side": "left",
       "tick_values": null
      }
     },
     "7fb0e528f36a47eebb425ca40f9ef706": {
      "model_module": "@jupyter-widgets/controls",
      "model_module_version": "1.5.0",
      "model_name": "VBoxModel",
      "state": {
       "children": [
        "IPY_MODEL_fa3ed0367d964cd3bad09de099ceebd2",
        "IPY_MODEL_a10c5da76ac2462092695e8181ee333c",
        "IPY_MODEL_ce798f0e43864c0ab0744845da9376e4"
       ],
       "layout": "IPY_MODEL_8d2387532fbe44e294b7282364436554"
      }
     },
     "8077c87b3103470f93a956d472fbb6ef": {
      "model_module": "@jupyter-widgets/controls",
      "model_module_version": "1.5.0",
      "model_name": "ButtonModel",
      "state": {
       "button_style": "primary",
       "description": "play",
       "icon": "play",
       "layout": "IPY_MODEL_4dc2d2052bc2425a8ce91f6a92709039",
       "style": "IPY_MODEL_d983eebb4e8349689fb316e4f1bfc404"
      }
     },
     "81667d2c750649b59520ce9d0483d3e8": {
      "model_module": "@jupyter-widgets/controls",
      "model_module_version": "1.5.0",
      "model_name": "ButtonModel",
      "state": {
       "button_style": "warning",
       "description": "stop",
       "icon": "stop",
       "layout": "IPY_MODEL_385ed5d2fa88494eaaa1e2ba790d53cd",
       "style": "IPY_MODEL_705efadf45804aea897b7a2898e7a433"
      }
     },
     "8250e249c55845bc982a14d994f6e459": {
      "model_module": "bqplot",
      "model_module_version": "^0.5.15",
      "model_name": "LinearScaleModel",
      "state": {
       "allow_padding": false,
       "max": 1,
       "min": 0,
       "stabilized": false
      }
     },
     "84d80330170942fb9706947f31b8eaa0": {
      "model_module": "@jupyter-widgets/base",
      "model_module_version": "1.2.0",
      "model_name": "LayoutModel",
      "state": {
       "width": "365px"
      }
     },
     "85a7a47226434642b4e20c514ae070ca": {
      "model_module": "@jupyter-widgets/base",
      "model_module_version": "1.2.0",
      "model_name": "LayoutModel",
      "state": {
       "border": "solid 2px gray",
       "width": "510px"
      }
     },
     "85a8952fdc6b43c797b9d623a8dfda91": {
      "model_module": "@jupyter-widgets/controls",
      "model_module_version": "1.5.0",
      "model_name": "HBoxModel",
      "state": {
       "children": [
        "IPY_MODEL_254403aa8bda4dee8333fe41cc8f116c",
        "IPY_MODEL_be91f01baaae4de89802764bc624fda7"
       ],
       "layout": "IPY_MODEL_b5fc554a5ca24a429eb8739ff15b7cd1"
      }
     },
     "877de94a672b4f85b4f6de241d15561b": {
      "model_module": "@jupyter-widgets/controls",
      "model_module_version": "1.5.0",
      "model_name": "ButtonStyleModel",
      "state": {}
     },
     "8867f61e41014af5bb3c164f3968ab72": {
      "buffers": [
       {
        "data": "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",
        "encoding": "base64",
        "path": [
         "x",
         "value"
        ]
       },
       {
        "data": "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",
        "encoding": "base64",
        "path": [
         "y",
         "value"
        ]
       }
      ],
      "model_module": "bqplot",
      "model_module_version": "^0.5.15",
      "model_name": "LinesModel",
      "state": {
       "fill_colors": [],
       "labels": [
        "C1"
       ],
       "scales": {
        "x": "IPY_MODEL_090e7700a12247f7b9e16b73e766e722",
        "y": "IPY_MODEL_8cc546955c674a7c8eb8e9757a6364dd"
       },
       "x": {
        "dtype": "float64",
        "shape": [
         500
        ],
        "type": null
       },
       "y": {
        "dtype": "float64",
        "shape": [
         500
        ],
        "type": null
       }
      }
     },
     "88bc44791e964b4b9f07ba91ca946fd6": {
      "model_module": "@jupyter-widgets/base",
      "model_module_version": "1.2.0",
      "model_name": "LayoutModel",
      "state": {
       "border": "solid 2px gray",
       "width": "510px"
      }
     },
     "88e279d157fb47d19ab27864afc16c9b": {
      "model_module": "@jupyter-widgets/controls",
      "model_module_version": "1.5.0",
      "model_name": "ButtonStyleModel",
      "state": {}
     },
     "8a9795cde4d748d59863fb02597b08b1": {
      "model_module": "bqplot",
      "model_module_version": "^0.5.15",
      "model_name": "LinearScaleModel",
      "state": {
       "stabilized": false
      }
     },
     "8ad5528e9d6b48d5953f05d395413500": {
      "model_module": "@jupyter-widgets/base",
      "model_module_version": "1.2.0",
      "model_name": "LayoutModel",
      "state": {
       "width": "100px"
      }
     },
     "8cc546955c674a7c8eb8e9757a6364dd": {
      "model_module": "bqplot",
      "model_module_version": "^0.5.15",
      "model_name": "LinearScaleModel",
      "state": {
       "stabilized": false
      }
     },
     "8d2387532fbe44e294b7282364436554": {
      "model_module": "@jupyter-widgets/base",
      "model_module_version": "1.2.0",
      "model_name": "LayoutModel",
      "state": {
       "border": "solid 2px gray",
       "width": "510px"
      }
     },
     "8d8231d9d8024f1b8cc65997a372b15e": {
      "model_module": "@jupyter-widgets/controls",
      "model_module_version": "1.5.0",
      "model_name": "ButtonModel",
      "state": {
       "button_style": "primary",
       "description": "pause/play",
       "icon": "pause fa-play",
       "layout": "IPY_MODEL_42cec9678e1141c3b8283e789b33db8f",
       "style": "IPY_MODEL_5689a2b780cb4d4e95e1dea4bca5dfca"
      }
     },
     "8db9870f253b4ad6b4dca019299a49e9": {
      "model_module": "@jupyter-widgets/controls",
      "model_module_version": "1.5.0",
      "model_name": "ButtonModel",
      "state": {
       "button_style": "primary",
       "description": "pause",
       "icon": "play",
       "layout": "IPY_MODEL_2d10ca8d818e43258f4ba9817d749d3e",
       "style": "IPY_MODEL_64ea17e985e14d9f8a2bb158613280c0"
      }
     },
     "8f0a222ff2c442e59ad9ec8571070934": {
      "model_module": "@jupyter-widgets/base",
      "model_module_version": "1.2.0",
      "model_name": "LayoutModel",
      "state": {
       "width": "365px"
      }
     },
     "8fd2f694d4174defba24dd5720fd7fda": {
      "model_module": "@jupyter-widgets/controls",
      "model_module_version": "1.5.0",
      "model_name": "ButtonModel",
      "state": {
       "button_style": "warning",
       "description": "stop",
       "icon": "stop",
       "layout": "IPY_MODEL_dac45405dac04557ba32c9246c512b75",
       "style": "IPY_MODEL_23e1eb0f6efb4a13b07e13a394d46a64"
      }
     },
     "8ff271e2427b4ea8a4688c88eba0950b": {
      "model_module": "@jupyter-widgets/controls",
      "model_module_version": "1.5.0",
      "model_name": "FloatSliderModel",
      "state": {
       "description": "Slider:",
       "layout": "IPY_MODEL_6a9518395ca544edaf48ea9078a1cf2f",
       "max": 0.5,
       "step": 0.01,
       "style": "IPY_MODEL_654f1c63a83649a38fd3066ce0e1dd24"
      }
     },
     "903de8c2398f45fc817d1265d9508438": {
      "model_module": "@jupyter-widgets/controls",
      "model_module_version": "1.5.0",
      "model_name": "ButtonModel",
      "state": {
       "description": "pause/play",
       "icon": "pause/play",
       "layout": "IPY_MODEL_19a3de899d04401cb120f292346cddcf",
       "style": "IPY_MODEL_465af71795d24bfe89f3532daa611e76"
      }
     },
     "9162a3cc0a544d6a9e8ee52b945d8264": {
      "model_module": "bqplot",
      "model_module_version": "^0.5.15",
      "model_name": "LinearScaleModel",
      "state": {
       "allow_padding": false,
       "max": 1,
       "min": 0,
       "stabilized": false
      }
     },
     "92e7d338cdfb43a6a89cdad09bda9a28": {
      "model_module": "bqplot",
      "model_module_version": "^0.5.15",
      "model_name": "LinearScaleModel",
      "state": {
       "stabilized": false
      }
     },
     "9304af6730a84fe4b8c1e6c38a510d86": {
      "model_module": "bqplot",
      "model_module_version": "^0.5.15",
      "model_name": "AxisModel",
      "state": {
       "label": "x(t)",
       "scale": "IPY_MODEL_e71c320412e144ceb121cca43dc6b166",
       "side": "bottom",
       "tick_values": null
      }
     },
     "93e15e95bd6149aaa1f8a3ac797acf30": {
      "model_module": "@jupyter-widgets/base",
      "model_module_version": "1.2.0",
      "model_name": "LayoutModel",
      "state": {}
     },
     "95dc066709b245bd8fd08a43bfb49334": {
      "model_module": "@jupyter-widgets/base",
      "model_module_version": "1.2.0",
      "model_name": "LayoutModel",
      "state": {
       "width": "100px"
      }
     },
     "96d21f0da2614784b4aa2a38ef5dc63c": {
      "model_module": "@jupyter-widgets/base",
      "model_module_version": "1.2.0",
      "model_name": "LayoutModel",
      "state": {}
     },
     "97687fadf6cf42ffb1041f95ce5ed7b6": {
      "model_module": "@jupyter-widgets/controls",
      "model_module_version": "1.5.0",
      "model_name": "ButtonModel",
      "state": {
       "button_style": "primary",
       "description": "pause",
       "icon": "pause",
       "layout": "IPY_MODEL_1917c2d8a0634aafab2ed657812ac14e",
       "style": "IPY_MODEL_17cb07e190864c16aa286131c2456ec9"
      }
     },
     "979318814104480e84e875d35967effb": {
      "model_module": "@jupyter-widgets/controls",
      "model_module_version": "1.5.0",
      "model_name": "ProgressStyleModel",
      "state": {
       "description_width": ""
      }
     },
     "986f39bf4601440bb7cc68ad6fa14ec1": {
      "model_module": "bqplot",
      "model_module_version": "^0.5.15",
      "model_name": "FigureModel",
      "state": {
       "axes": [
        "IPY_MODEL_9304af6730a84fe4b8c1e6c38a510d86",
        "IPY_MODEL_9eaaece3fde44221a4c0931e3987aa12"
       ],
       "fig_margin": {
        "bottom": 40,
        "left": 50,
        "right": 10,
        "top": 10
       },
       "layout": "IPY_MODEL_765cdc1ac5704014b07b629198754c4e",
       "marks": [
        "IPY_MODEL_aff29afc630b425f8e397ba9b8827f67"
       ],
       "scale_x": "IPY_MODEL_9162a3cc0a544d6a9e8ee52b945d8264",
       "scale_y": "IPY_MODEL_0c163fab2e4c430cab92fa8cbc2ab31c"
      }
     },
     "9b612a79ea8747b696164ae4d352e4be": {
      "model_module": "@jupyter-widgets/controls",
      "model_module_version": "1.5.0",
      "model_name": "HBoxModel",
      "state": {
       "children": [
        "IPY_MODEL_72fc1d22ca2d415d82413c4702d42c80",
        "IPY_MODEL_50dcddf7ba37456688234a4382e7692e"
       ],
       "layout": "IPY_MODEL_5eeef3af9b714297a0e41cf5e8ae6a93"
      }
     },
     "9b798477e1d240f7821f32b1d0010361": {
      "model_module": "@jupyter-widgets/base",
      "model_module_version": "1.2.0",
      "model_name": "LayoutModel",
      "state": {
       "height": "300px",
       "width": "500px"
      }
     },
     "9c73886d6ac24fb090ee2ad6ac7853b9": {
      "model_module": "@jupyter-widgets/controls",
      "model_module_version": "1.5.0",
      "model_name": "ButtonStyleModel",
      "state": {}
     },
     "9cb70f28e3b347b1863a0c7b736f1cf1": {
      "model_module": "bqplot",
      "model_module_version": "^0.5.15",
      "model_name": "LinearScaleModel",
      "state": {
       "allow_padding": false,
       "max": 1,
       "min": 0,
       "stabilized": false
      }
     },
     "9e0756d30e434dd39172db537550783a": {
      "model_module": "@jupyter-widgets/controls",
      "model_module_version": "1.5.0",
      "model_name": "VBoxModel",
      "state": {
       "children": [
        "IPY_MODEL_255f5271740748a08c3ddff3979c308b",
        "IPY_MODEL_1dbaaa47ee954e099aedd125bf89a477"
       ],
       "layout": "IPY_MODEL_72cc3438cc5f4ccda890fc34ff5d8639"
      }
     },
     "9e22da29d2554fad9ea6786bbbf1e8b6": {
      "model_module": "bqplot",
      "model_module_version": "^0.5.15",
      "model_name": "LinearScaleModel",
      "state": {
       "allow_padding": false,
       "max": 1,
       "min": 0,
       "stabilized": false
      }
     },
     "9e678ab96e1946dc90172fba2b25e696": {
      "model_module": "bqplot",
      "model_module_version": "^0.5.15",
      "model_name": "LinearScaleModel",
      "state": {
       "allow_padding": false,
       "max": 1,
       "min": 0,
       "stabilized": false
      }
     },
     "9eaaece3fde44221a4c0931e3987aa12": {
      "model_module": "bqplot",
      "model_module_version": "^0.5.15",
      "model_name": "AxisModel",
      "state": {
       "label": "y(t)",
       "orientation": "vertical",
       "scale": "IPY_MODEL_270b5211243e4ce4ac94fa6e1009baa4",
       "side": "left",
       "tick_values": null
      }
     },
     "9f1d9e44683542b3b9bb1e2231ccaaab": {
      "model_module": "@jupyter-widgets/base",
      "model_module_version": "1.2.0",
      "model_name": "LayoutModel",
      "state": {
       "width": "100px"
      }
     },
     "a10c5da76ac2462092695e8181ee333c": {
      "model_module": "@jupyter-widgets/controls",
      "model_module_version": "1.5.0",
      "model_name": "HBoxModel",
      "state": {
       "children": [
        "IPY_MODEL_6bccbc0a8b7240a789eba415b18ae103",
        "IPY_MODEL_2a6aeb7834614fec8ad1eb3cdd57ab8e"
       ],
       "layout": "IPY_MODEL_2a322dcaf1bf48fc9385b402cca173f6"
      }
     },
     "a45aa25e2bf342e3869a77611a867f14": {
      "model_module": "@jupyter-widgets/controls",
      "model_module_version": "1.5.0",
      "model_name": "ButtonModel",
      "state": {
       "button_style": "primary",
       "description": "pause",
       "icon": "pause",
       "layout": "IPY_MODEL_ba9742536a804358903525bc307992ed",
       "style": "IPY_MODEL_5efe1b9be1c14c56bb83ce75d709a279"
      }
     },
     "a583acd77ddd47e3bd6b91dd1184416e": {
      "model_module": "bqplot",
      "model_module_version": "^0.5.15",
      "model_name": "AxisModel",
      "state": {
       "label": "y(t)",
       "orientation": "vertical",
       "scale": "IPY_MODEL_8a9795cde4d748d59863fb02597b08b1",
       "side": "left",
       "tick_values": null
      }
     },
     "a63d963267504f7d8a7bc35466ecff65": {
      "model_module": "@jupyter-widgets/controls",
      "model_module_version": "1.5.0",
      "model_name": "ButtonModel",
      "state": {
       "button_style": "primary",
       "description": "pause/play",
       "icon": "pause",
       "layout": "IPY_MODEL_a9c92a9c3820453492a80878c5b8371e",
       "style": "IPY_MODEL_da26fd426e5641428dbd4537873b6c57"
      }
     },
     "a646fa101800475d8d23a8eadb688b3a": {
      "buffers": [
       {
        "data": "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",
        "encoding": "base64",
        "path": [
         "x",
         "value"
        ]
       },
       {
        "data": "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",
        "encoding": "base64",
        "path": [
         "y",
         "value"
        ]
       }
      ],
      "model_module": "bqplot",
      "model_module_version": "^0.5.15",
      "model_name": "LinesModel",
      "state": {
       "fill_colors": [],
       "labels": [
        "C1"
       ],
       "scales": {
        "x": "IPY_MODEL_66e047909cf94b069fb44bc51201c7ed",
        "y": "IPY_MODEL_1bf1d800622b4b55b2fce9aaa9804d9a"
       },
       "x": {
        "dtype": "float64",
        "shape": [
         500
        ],
        "type": null
       },
       "y": {
        "dtype": "float64",
        "shape": [
         500
        ],
        "type": null
       }
      }
     },
     "a758e556f859496e88985bd82c83295f": {
      "model_module": "@jupyter-widgets/base",
      "model_module_version": "1.2.0",
      "model_name": "LayoutModel",
      "state": {
       "border": "solid 2px gray",
       "width": "510px"
      }
     },
     "a92b23ecd4cf4a049912830999dce702": {
      "model_module": "@jupyter-widgets/controls",
      "model_module_version": "1.5.0",
      "model_name": "VBoxModel",
      "state": {
       "children": [
        "IPY_MODEL_5f22f4aa99654121b302b6136b938fba",
        "IPY_MODEL_9b612a79ea8747b696164ae4d352e4be",
        "IPY_MODEL_45c1ea54d6134021b59f55472db4ac8b"
       ],
       "layout": "IPY_MODEL_88bc44791e964b4b9f07ba91ca946fd6"
      }
     },
     "a9c92a9c3820453492a80878c5b8371e": {
      "model_module": "@jupyter-widgets/base",
      "model_module_version": "1.2.0",
      "model_name": "LayoutModel",
      "state": {
       "width": "100px"
      }
     },
     "ab1ae8763e524802bb75c25b5b9232ea": {
      "model_module": "@jupyter-widgets/controls",
      "model_module_version": "1.5.0",
      "model_name": "FloatProgressModel",
      "state": {
       "description": "Progress:",
       "layout": "IPY_MODEL_12640bfbace740e0b14e4ed3826193ad",
       "max": 1.5,
       "min": -1.5,
       "style": "IPY_MODEL_beb62e39a4c648058c5e0d5515356b84",
       "value": -0.68564778578784
      }
     },
     "ac235382d1f246da97d1c3ff38b38a9b": {
      "model_module": "@jupyter-widgets/base",
      "model_module_version": "1.2.0",
      "model_name": "LayoutModel",
      "state": {
       "margin": "0 0 5px 0",
       "width": "490px"
      }
     },
     "ac27802f93fd4399987ca4f1dd7546d0": {
      "model_module": "@jupyter-widgets/controls",
      "model_module_version": "1.5.0",
      "model_name": "DescriptionStyleModel",
      "state": {
       "description_width": ""
      }
     },
     "aef18fff6b1849c9a7a33cfabc6863f2": {
      "model_module": "@jupyter-widgets/controls",
      "model_module_version": "1.5.0",
      "model_name": "ButtonStyleModel",
      "state": {}
     },
     "aff29afc630b425f8e397ba9b8827f67": {
      "buffers": [
       {
        "data": "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",
        "encoding": "base64",
        "path": [
         "x",
         "value"
        ]
       },
       {
        "data": "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",
        "encoding": "base64",
        "path": [
         "y",
         "value"
        ]
       }
      ],
      "model_module": "bqplot",
      "model_module_version": "^0.5.15",
      "model_name": "LinesModel",
      "state": {
       "fill_colors": [],
       "labels": [
        "C1"
       ],
       "scales": {
        "x": "IPY_MODEL_e71c320412e144ceb121cca43dc6b166",
        "y": "IPY_MODEL_270b5211243e4ce4ac94fa6e1009baa4"
       },
       "x": {
        "dtype": "float64",
        "shape": [
         500
        ],
        "type": null
       },
       "y": {
        "dtype": "float64",
        "shape": [
         500
        ],
        "type": null
       }
      }
     },
     "b09e59fd505b4cdbb62d8ec780b62243": {
      "model_module": "@jupyter-widgets/controls",
      "model_module_version": "1.5.0",
      "model_name": "DescriptionStyleModel",
      "state": {
       "description_width": ""
      }
     },
     "b14e15b4c22041fda352957dfbdc34d8": {
      "model_module": "@jupyter-widgets/base",
      "model_module_version": "1.2.0",
      "model_name": "LayoutModel",
      "state": {
       "width": "100px"
      }
     },
     "b1e6595d6d2f48748ea6ddedd2093bd2": {
      "model_module": "@jupyter-widgets/controls",
      "model_module_version": "1.5.0",
      "model_name": "ButtonStyleModel",
      "state": {}
     },
     "b1e8d5efb88642b090953632a89ae719": {
      "model_module": "@jupyter-widgets/controls",
      "model_module_version": "1.5.0",
      "model_name": "HBoxModel",
      "state": {
       "children": [
        "IPY_MODEL_a45aa25e2bf342e3869a77611a867f14",
        "IPY_MODEL_495ac402a804445ea05cb45d2623c11e"
       ],
       "layout": "IPY_MODEL_bc404dca91e54aa7adab32dc746de4b1"
      }
     },
     "b3d308675a6f4a61afa0dd2eb4be52e6": {
      "model_module": "@jupyter-widgets/base",
      "model_module_version": "1.2.0",
      "model_name": "LayoutModel",
      "state": {
       "width": "100px"
      }
     },
     "b5cc9400b35c42db983464ea87bf79d7": {
      "model_module": "@jupyter-widgets/base",
      "model_module_version": "1.2.0",
      "model_name": "LayoutModel",
      "state": {
       "width": "365px"
      }
     },
     "b5fc554a5ca24a429eb8739ff15b7cd1": {
      "model_module": "@jupyter-widgets/base",
      "model_module_version": "1.2.0",
      "model_name": "LayoutModel",
      "state": {}
     },
     "b93d2e2be0e4440fb5b663c516d40859": {
      "model_module": "@jupyter-widgets/base",
      "model_module_version": "1.2.0",
      "model_name": "LayoutModel",
      "state": {
       "width": "100px"
      }
     },
     "ba9742536a804358903525bc307992ed": {
      "model_module": "@jupyter-widgets/base",
      "model_module_version": "1.2.0",
      "model_name": "LayoutModel",
      "state": {
       "width": "100px"
      }
     },
     "bb1b3691989a49b5b31b894b0872e4e6": {
      "model_module": "@jupyter-widgets/base",
      "model_module_version": "1.2.0",
      "model_name": "LayoutModel",
      "state": {}
     },
     "bbc01af28bda454ab6389d17b3d112bc": {
      "model_module": "@jupyter-widgets/controls",
      "model_module_version": "1.5.0",
      "model_name": "ButtonModel",
      "state": {
       "button_style": "primary",
       "description": "pause/play",
       "icon": "pause fa-play",
       "layout": "IPY_MODEL_f72ac8df1cb64d50a8bfb7e0e3f14aab",
       "style": "IPY_MODEL_21c044e531ff41559d9c2296484832b8"
      }
     },
     "bbe197b68c664a3a8c3659aadbd8db11": {
      "model_module": "@jupyter-widgets/base",
      "model_module_version": "1.2.0",
      "model_name": "LayoutModel",
      "state": {
       "border": "solid 2px gray",
       "width": "510px"
      }
     },
     "bc404dca91e54aa7adab32dc746de4b1": {
      "model_module": "@jupyter-widgets/base",
      "model_module_version": "1.2.0",
      "model_name": "LayoutModel",
      "state": {}
     },
     "bc5f7163d23b4865b8c34626dd7b1001": {
      "model_module": "@jupyter-widgets/base",
      "model_module_version": "1.2.0",
      "model_name": "LayoutModel",
      "state": {
       "height": "300px",
       "width": "500px"
      }
     },
     "bc7e32b05eb24fb9b03a49948160eb00": {
      "model_module": "@jupyter-widgets/base",
      "model_module_version": "1.2.0",
      "model_name": "LayoutModel",
      "state": {
       "width": "100px"
      }
     },
     "bcc2c94ef3184a918bd10d2353c318d2": {
      "model_module": "@jupyter-widgets/base",
      "model_module_version": "1.2.0",
      "model_name": "LayoutModel",
      "state": {
       "border": "solid 2px gray",
       "width": "510px"
      }
     },
     "bd9f01a89c8544e7b98b8e8f9f102900": {
      "model_module": "@jupyter-widgets/base",
      "model_module_version": "1.2.0",
      "model_name": "LayoutModel",
      "state": {
       "height": "300px",
       "width": "500px"
      }
     },
     "be41e9f157ab4640943bc4d41b25b2c3": {
      "model_module": "@jupyter-widgets/controls",
      "model_module_version": "1.5.0",
      "model_name": "HBoxModel",
      "state": {
       "children": [
        "IPY_MODEL_f4d85cdb0e474f829363f10ad7c9d1d1",
        "IPY_MODEL_c3b9f428e67c4ff693135218a277ede7"
       ],
       "layout": "IPY_MODEL_2c77c4c840cc4836ad2e8f200bc01aa5"
      }
     },
     "be91f01baaae4de89802764bc624fda7": {
      "model_module": "@jupyter-widgets/controls",
      "model_module_version": "1.5.0",
      "model_name": "ButtonModel",
      "state": {
       "button_style": "warning",
       "description": "stop",
       "icon": "stop",
       "layout": "IPY_MODEL_b14e15b4c22041fda352957dfbdc34d8",
       "style": "IPY_MODEL_1f39bc706ed44128a406f7488e1cb1a7"
      }
     },
     "beb62e39a4c648058c5e0d5515356b84": {
      "model_module": "@jupyter-widgets/controls",
      "model_module_version": "1.5.0",
      "model_name": "ProgressStyleModel",
      "state": {
       "description_width": ""
      }
     },
     "beb88107f9564523b090e96fda369948": {
      "model_module": "@jupyter-widgets/controls",
      "model_module_version": "1.5.0",
      "model_name": "FloatSliderModel",
      "state": {
       "description": "Slider:",
       "layout": "IPY_MODEL_40acbda8d98a485b9e9bb8d6dd57aa80",
       "max": 0.5,
       "step": 0.01,
       "style": "IPY_MODEL_e19a23dd286644a884fc071ebf68425f"
      }
     },
     "c09ce805a1e24eb59bde402d1bcd6f38": {
      "model_module": "@jupyter-widgets/controls",
      "model_module_version": "1.5.0",
      "model_name": "HBoxModel",
      "state": {
       "children": [
        "IPY_MODEL_f1419520e7754efab2a86e7cadb7cc4c",
        "IPY_MODEL_8fd2f694d4174defba24dd5720fd7fda"
       ],
       "layout": "IPY_MODEL_bb1b3691989a49b5b31b894b0872e4e6"
      }
     },
     "c1f7c23bc0904321a703647d8e76eceb": {
      "model_module": "bqplot",
      "model_module_version": "^0.5.15",
      "model_name": "AxisModel",
      "state": {
       "label": "y(t)",
       "orientation": "vertical",
       "scale": "IPY_MODEL_6e9eb25c4a1541c6b0d522cc038440ff",
       "side": "left",
       "tick_values": null
      }
     },
     "c2d66a7c6a314609bd16913e4a6418a0": {
      "model_module": "@jupyter-widgets/controls",
      "model_module_version": "1.5.0",
      "model_name": "VBoxModel",
      "state": {
       "children": [
        "IPY_MODEL_c09ce805a1e24eb59bde402d1bcd6f38",
        "IPY_MODEL_d3f1585b8eaa4c18b42d8e0db5f9e6ab"
       ],
       "layout": "IPY_MODEL_93e15e95bd6149aaa1f8a3ac797acf30"
      }
     },
     "c3b9f428e67c4ff693135218a277ede7": {
      "model_module": "@jupyter-widgets/controls",
      "model_module_version": "1.5.0",
      "model_name": "ButtonModel",
      "state": {
       "button_style": "warning",
       "description": "stop",
       "icon": "stop",
       "layout": "IPY_MODEL_01b56c4cdc504192806047ab0101cab1",
       "style": "IPY_MODEL_877de94a672b4f85b4f6de241d15561b"
      }
     },
     "c5e9f3e456e24f7cb50ec271660fb168": {
      "model_module": "@jupyter-widgets/controls",
      "model_module_version": "1.5.0",
      "model_name": "ProgressStyleModel",
      "state": {
       "description_width": ""
      }
     },
     "c63230b972144e9cb5a7703d10f1a32b": {
      "model_module": "@jupyter-widgets/base",
      "model_module_version": "1.2.0",
      "model_name": "LayoutModel",
      "state": {}
     },
     "c72b4a5a7353407faf8504da7eaf2724": {
      "model_module": "bqplot",
      "model_module_version": "^0.5.15",
      "model_name": "LinearScaleModel",
      "state": {
       "allow_padding": false,
       "max": 1,
       "min": 0,
       "stabilized": false
      }
     },
     "c7f736ff916d4e61a3e64627a7c71d92": {
      "model_module": "@jupyter-widgets/controls",
      "model_module_version": "1.5.0",
      "model_name": "ButtonModel",
      "state": {
       "button_style": "warning",
       "description": "stop",
       "icon": "stop",
       "layout": "IPY_MODEL_d3c5bdd9bd884bf697ecfdc38512b415",
       "style": "IPY_MODEL_d5e1a08fe7814bdb9477fb014e484828"
      }
     },
     "c88f3ddeba6d4332ba06c8be4e924982": {
      "model_module": "@jupyter-widgets/base",
      "model_module_version": "1.2.0",
      "model_name": "LayoutModel",
      "state": {
       "width": "365px"
      }
     },
     "c8e8e35b545b4ccfa091716445ededcd": {
      "model_module": "@jupyter-widgets/controls",
      "model_module_version": "1.5.0",
      "model_name": "VBoxModel",
      "state": {
       "children": [
        "IPY_MODEL_be41e9f157ab4640943bc4d41b25b2c3",
        "IPY_MODEL_4cef06f5839d4eaabc1552a062855d2b"
       ],
       "layout": "IPY_MODEL_47cf0d223c6a484691c80b142981bce3"
      }
     },
     "c9e26bb129404400bce27f099a29d056": {
      "model_module": "bqplot",
      "model_module_version": "^0.5.15",
      "model_name": "LinearScaleModel",
      "state": {
       "allow_padding": false,
       "max": 1,
       "min": 0,
       "stabilized": false
      }
     },
     "ca5b83a7a6fd4c61a52a6cdc0210f34e": {
      "model_module": "@jupyter-widgets/base",
      "model_module_version": "1.2.0",
      "model_name": "LayoutModel",
      "state": {}
     },
     "ca9be3de51a24c84a783bb9fe89f54bb": {
      "model_module": "@jupyter-widgets/controls",
      "model_module_version": "1.5.0",
      "model_name": "HBoxModel",
      "state": {
       "children": [
        "IPY_MODEL_e58aa6dc63344ef5b964321b8f86d740",
        "IPY_MODEL_cc4ad4e1e2d84c5598bdc5f4cce55796"
       ],
       "layout": "IPY_MODEL_094e9e2ba42c4d48850aa906de8673bd"
      }
     },
     "cbf1a60518f24d57aa94ae967103adb0": {
      "model_module": "@jupyter-widgets/controls",
      "model_module_version": "1.5.0",
      "model_name": "SliderStyleModel",
      "state": {
       "description_width": ""
      }
     },
     "cc3773c32f7f49b288f3a27037f8ac46": {
      "model_module": "bqplot",
      "model_module_version": "^0.5.15",
      "model_name": "FigureModel",
      "state": {
       "axes": [
        "IPY_MODEL_5bdb536948454c539d8313266ec95f65",
        "IPY_MODEL_2e448e80a10849f1ac51869c4e4b0e34"
       ],
       "fig_margin": {
        "bottom": 40,
        "left": 50,
        "right": 10,
        "top": 10
       },
       "layout": "IPY_MODEL_2f67864abe3a4fceb53d1b2b82edb40b",
       "marks": [
        "IPY_MODEL_a646fa101800475d8d23a8eadb688b3a"
       ],
       "scale_x": "IPY_MODEL_9e678ab96e1946dc90172fba2b25e696",
       "scale_y": "IPY_MODEL_702cbdef50df47f59a95aea763500cb3"
      }
     },
     "cc3f5dc27db34710ae4acc74cef74a58": {
      "model_module": "@jupyter-widgets/controls",
      "model_module_version": "1.5.0",
      "model_name": "ButtonModel",
      "state": {
       "button_style": "primary",
       "description": "pause",
       "icon": "pause",
       "layout": "IPY_MODEL_68d05edd35804fd0a0ddaa4c14d4fc7e",
       "style": "IPY_MODEL_2c7aa55bb7a74b7685ae3a28432958ac"
      }
     },
     "cc4ad4e1e2d84c5598bdc5f4cce55796": {
      "model_module": "@jupyter-widgets/controls",
      "model_module_version": "1.5.0",
      "model_name": "LabelModel",
      "state": {
       "layout": "IPY_MODEL_fe58a34dcb5a4b2d90c18ef3b1f925bf",
       "style": "IPY_MODEL_ac27802f93fd4399987ca4f1dd7546d0",
       "value": "-1.0"
      }
     },
     "cd5e51812054448aab16056f2f55fc45": {
      "model_module": "@jupyter-widgets/base",
      "model_module_version": "1.2.0",
      "model_name": "LayoutModel",
      "state": {
       "width": "100px"
      }
     },
     "ce798f0e43864c0ab0744845da9376e4": {
      "model_module": "@jupyter-widgets/controls",
      "model_module_version": "1.5.0",
      "model_name": "FloatSliderModel",
      "state": {
       "description": "Slider:",
       "layout": "IPY_MODEL_ac235382d1f246da97d1c3ff38b38a9b",
       "max": 0.5,
       "step": 0.01,
       "style": "IPY_MODEL_f26309032c1e441886abef97c76ef4f3",
       "value": 0.09
      }
     },
     "d033edc4e3b94a99a14ac677a7a1a85b": {
      "model_module": "bqplot",
      "model_module_version": "^0.5.15",
      "model_name": "AxisModel",
      "state": {
       "label": "x(t)",
       "scale": "IPY_MODEL_0f72ac95511b407081f9b34af9547035",
       "side": "bottom",
       "tick_values": null
      }
     },
     "d0e1e9f4dd354eb3a773574bf5c99e5e": {
      "model_module": "@jupyter-widgets/controls",
      "model_module_version": "1.5.0",
      "model_name": "ProgressStyleModel",
      "state": {
       "description_width": ""
      }
     },
     "d19126ed560542ad8bb4b5b0e9339829": {
      "model_module": "@jupyter-widgets/controls",
      "model_module_version": "1.5.0",
      "model_name": "ButtonStyleModel",
      "state": {}
     },
     "d3c5bdd9bd884bf697ecfdc38512b415": {
      "model_module": "@jupyter-widgets/base",
      "model_module_version": "1.2.0",
      "model_name": "LayoutModel",
      "state": {
       "width": "100px"
      }
     },
     "d3f1585b8eaa4c18b42d8e0db5f9e6ab": {
      "model_module": "@jupyter-widgets/controls",
      "model_module_version": "1.5.0",
      "model_name": "VBoxModel",
      "state": {
       "children": [
        "IPY_MODEL_7e994db8187e43a29d5d60cc605b54dd",
        "IPY_MODEL_14e5bcaeee464e18831bc45a66657593",
        "IPY_MODEL_4b7a117fff92412fa2a7a0c643ebcbe9"
       ],
       "layout": "IPY_MODEL_85a7a47226434642b4e20c514ae070ca"
      }
     },
     "d5c043b941f04438b3350ca61419f7c4": {
      "model_module": "bqplot",
      "model_module_version": "^0.5.15",
      "model_name": "AxisModel",
      "state": {
       "label": "x(t)",
       "scale": "IPY_MODEL_49675caa13674293b27f7128e65015a2",
       "side": "bottom",
       "tick_values": null
      }
     },
     "d5e1a08fe7814bdb9477fb014e484828": {
      "model_module": "@jupyter-widgets/controls",
      "model_module_version": "1.5.0",
      "model_name": "ButtonStyleModel",
      "state": {}
     },
     "d7f1589ff5364075b6e433a95dbebc05": {
      "model_module": "@jupyter-widgets/base",
      "model_module_version": "1.2.0",
      "model_name": "LayoutModel",
      "state": {
       "border": "solid 2px gray",
       "width": "510px"
      }
     },
     "d8b2457a20ce4277a0bb747e4aaecb61": {
      "model_module": "@jupyter-widgets/controls",
      "model_module_version": "1.5.0",
      "model_name": "ButtonModel",
      "state": {
       "button_style": "primary",
       "description": "play",
       "icon": "play",
       "layout": "IPY_MODEL_8ad5528e9d6b48d5953f05d395413500",
       "style": "IPY_MODEL_64897912b271436381162f6da9a107e9"
      }
     },
     "d8f6b576e75b4d739a6957c244489a65": {
      "model_module": "@jupyter-widgets/base",
      "model_module_version": "1.2.0",
      "model_name": "LayoutModel",
      "state": {}
     },
     "d983eebb4e8349689fb316e4f1bfc404": {
      "model_module": "@jupyter-widgets/controls",
      "model_module_version": "1.5.0",
      "model_name": "ButtonStyleModel",
      "state": {}
     },
     "da26fd426e5641428dbd4537873b6c57": {
      "model_module": "@jupyter-widgets/controls",
      "model_module_version": "1.5.0",
      "model_name": "ButtonStyleModel",
      "state": {}
     },
     "da3bcb74962e43308a8fc24f53bf83c0": {
      "model_module": "@jupyter-widgets/controls",
      "model_module_version": "1.5.0",
      "model_name": "ButtonStyleModel",
      "state": {}
     },
     "dac45405dac04557ba32c9246c512b75": {
      "model_module": "@jupyter-widgets/base",
      "model_module_version": "1.2.0",
      "model_name": "LayoutModel",
      "state": {
       "width": "100px"
      }
     },
     "db80675d3d444aa8b1b43a0907302a3b": {
      "model_module": "@jupyter-widgets/controls",
      "model_module_version": "1.5.0",
      "model_name": "ButtonModel",
      "state": {
       "button_style": "primary",
       "description": "play",
       "icon": "play",
       "layout": "IPY_MODEL_95dc066709b245bd8fd08a43bfb49334",
       "style": "IPY_MODEL_aef18fff6b1849c9a7a33cfabc6863f2"
      }
     },
     "dba5e06665284ba5a8a782b21caf808c": {
      "model_module": "@jupyter-widgets/controls",
      "model_module_version": "1.5.0",
      "model_name": "ButtonStyleModel",
      "state": {}
     },
     "dc1ff50394db44e88ae6259ed6d1e58c": {
      "model_module": "@jupyter-widgets/base",
      "model_module_version": "1.2.0",
      "model_name": "LayoutModel",
      "state": {
       "width": "100px"
      }
     },
     "dcb7634c7b2744ef8adc139f22d9f9d4": {
      "model_module": "@jupyter-widgets/base",
      "model_module_version": "1.2.0",
      "model_name": "LayoutModel",
      "state": {
       "width": "100px"
      }
     },
     "dd1d10260b304deb8997032b132449ed": {
      "model_module": "@jupyter-widgets/controls",
      "model_module_version": "1.5.0",
      "model_name": "SliderStyleModel",
      "state": {
       "description_width": ""
      }
     },
     "dfa52da0b34f4588ad02de04ef63e2d3": {
      "buffers": [
       {
        "data": "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",
        "encoding": "base64",
        "path": [
         "x",
         "value"
        ]
       },
       {
        "data": "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",
        "encoding": "base64",
        "path": [
         "y",
         "value"
        ]
       }
      ],
      "model_module": "bqplot",
      "model_module_version": "^0.5.15",
      "model_name": "LinesModel",
      "state": {
       "fill_colors": [],
       "labels": [
        "C1"
       ],
       "scales": {
        "x": "IPY_MODEL_92e7d338cdfb43a6a89cdad09bda9a28",
        "y": "IPY_MODEL_5e5240281d6e4d689689bc9e22b4ed1c"
       },
       "x": {
        "dtype": "float64",
        "shape": [
         500
        ],
        "type": null
       },
       "y": {
        "dtype": "float64",
        "shape": [
         500
        ],
        "type": null
       }
      }
     },
     "e112bdbdc22d4040948c0202c177449d": {
      "model_module": "@jupyter-widgets/controls",
      "model_module_version": "1.5.0",
      "model_name": "HBoxModel",
      "state": {
       "children": [
        "IPY_MODEL_0968c4674bd0483aa1590ffeea95dc9b",
        "IPY_MODEL_3a7e1780c0f14cd4ae1c5cff3f4ce44d"
       ],
       "layout": "IPY_MODEL_67820a822a3046d0b42c0530d39874c6"
      }
     },
     "e19a23dd286644a884fc071ebf68425f": {
      "model_module": "@jupyter-widgets/controls",
      "model_module_version": "1.5.0",
      "model_name": "SliderStyleModel",
      "state": {
       "description_width": ""
      }
     },
     "e29b934f791a4fba8de9cf493a28d52c": {
      "model_module": "@jupyter-widgets/controls",
      "model_module_version": "1.5.0",
      "model_name": "ButtonStyleModel",
      "state": {}
     },
     "e32da929fea54f4c95c63cff7c2c178b": {
      "model_module": "bqplot",
      "model_module_version": "^0.5.15",
      "model_name": "LinearScaleModel",
      "state": {
       "stabilized": false
      }
     },
     "e58aa6dc63344ef5b964321b8f86d740": {
      "model_module": "@jupyter-widgets/controls",
      "model_module_version": "1.5.0",
      "model_name": "FloatProgressModel",
      "state": {
       "description": "Progress:",
       "layout": "IPY_MODEL_3474b14789784c549e7d2776d30ba306",
       "max": 1.5,
       "min": -1.5,
       "style": "IPY_MODEL_979318814104480e84e875d35967effb",
       "value": -0.9958360736663213
      }
     },
     "e71c320412e144ceb121cca43dc6b166": {
      "model_module": "bqplot",
      "model_module_version": "^0.5.15",
      "model_name": "LinearScaleModel",
      "state": {
       "stabilized": false
      }
     },
     "e750b32283c740c3b67ea0faa67f6dce": {
      "model_module": "@jupyter-widgets/controls",
      "model_module_version": "1.5.0",
      "model_name": "DescriptionStyleModel",
      "state": {
       "description_width": ""
      }
     },
     "e7c4103240944e4fa1564f780d8c7d68": {
      "model_module": "@jupyter-widgets/controls",
      "model_module_version": "1.5.0",
      "model_name": "ButtonModel",
      "state": {
       "button_style": "warning",
       "description": "stop",
       "icon": "stop",
       "layout": "IPY_MODEL_b93d2e2be0e4440fb5b663c516d40859",
       "style": "IPY_MODEL_3995a3f71af446cfab0bd0fe25a85d77"
      }
     },
     "e958d700bedc42139728027705e80de2": {
      "model_module": "@jupyter-widgets/base",
      "model_module_version": "1.2.0",
      "model_name": "LayoutModel",
      "state": {}
     },
     "e9bf7ce5cda94aa4996e40c2f674beac": {
      "model_module": "@jupyter-widgets/controls",
      "model_module_version": "1.5.0",
      "model_name": "VBoxModel",
      "state": {
       "children": [
        "IPY_MODEL_986f39bf4601440bb7cc68ad6fa14ec1",
        "IPY_MODEL_ca9be3de51a24c84a783bb9fe89f54bb",
        "IPY_MODEL_ed1a17fc55a54edfbfc803005cd92d89"
       ],
       "layout": "IPY_MODEL_ff518c4a7a164d059f606f8931b9da6c"
      }
     },
     "ed1a17fc55a54edfbfc803005cd92d89": {
      "model_module": "@jupyter-widgets/controls",
      "model_module_version": "1.5.0",
      "model_name": "FloatSliderModel",
      "state": {
       "description": "Slider:",
       "layout": "IPY_MODEL_607a826ac32e4d1e8141d593b7da3205",
       "max": 0.5,
       "step": 0.01,
       "style": "IPY_MODEL_6a6f3f913edd4e81ae4dc66ed593d018"
      }
     },
     "ee80d79087854f3295fdf202076976e7": {
      "model_module": "@jupyter-widgets/controls",
      "model_module_version": "1.5.0",
      "model_name": "ButtonModel",
      "state": {
       "button_style": "primary",
       "description": "pause/play",
       "icon": "pause",
       "layout": "IPY_MODEL_6110250aa17945738c523f3eb5c632fc",
       "style": "IPY_MODEL_41918954301e47b3bd46cc79635cd822"
      }
     },
     "f0428d3b24db4fc199d0bf17f4ebf8c6": {
      "model_module": "@jupyter-widgets/base",
      "model_module_version": "1.2.0",
      "model_name": "LayoutModel",
      "state": {
       "border": "solid 2px gray",
       "width": "510px"
      }
     },
     "f1419520e7754efab2a86e7cadb7cc4c": {
      "model_module": "@jupyter-widgets/controls",
      "model_module_version": "1.5.0",
      "model_name": "ButtonModel",
      "state": {
       "button_style": "primary",
       "description": "pause",
       "icon": "pause",
       "layout": "IPY_MODEL_ffc1c73abc5a48819ef2080d095deee4",
       "style": "IPY_MODEL_b1e6595d6d2f48748ea6ddedd2093bd2"
      }
     },
     "f26309032c1e441886abef97c76ef4f3": {
      "model_module": "@jupyter-widgets/controls",
      "model_module_version": "1.5.0",
      "model_name": "SliderStyleModel",
      "state": {
       "description_width": ""
      }
     },
     "f4067c52ce33423caab5b11fc776026b": {
      "model_module": "@jupyter-widgets/base",
      "model_module_version": "1.2.0",
      "model_name": "LayoutModel",
      "state": {
       "height": "300px",
       "width": "500px"
      }
     },
     "f4d85cdb0e474f829363f10ad7c9d1d1": {
      "model_module": "@jupyter-widgets/controls",
      "model_module_version": "1.5.0",
      "model_name": "ButtonModel",
      "state": {
       "button_style": "primary",
       "description": "play",
       "icon": "play",
       "layout": "IPY_MODEL_bc7e32b05eb24fb9b03a49948160eb00",
       "style": "IPY_MODEL_0a30949b3cd84588bf06eccc50268591"
      }
     },
     "f6e31ada21d547eda7da3faca5764c8f": {
      "buffers": [
       {
        "data": "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",
        "encoding": "base64",
        "path": [
         "x",
         "value"
        ]
       },
       {
        "data": "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",
        "encoding": "base64",
        "path": [
         "y",
         "value"
        ]
       }
      ],
      "model_module": "bqplot",
      "model_module_version": "^0.5.15",
      "model_name": "LinesModel",
      "state": {
       "fill_colors": [],
       "labels": [
        "C1"
       ],
       "scales": {
        "x": "IPY_MODEL_4b66066a4b324302b9eac1dcf7c51282",
        "y": "IPY_MODEL_e32da929fea54f4c95c63cff7c2c178b"
       },
       "x": {
        "dtype": "float64",
        "shape": [
         500
        ],
        "type": null
       },
       "y": {
        "dtype": "float64",
        "shape": [
         500
        ],
        "type": null
       }
      }
     },
     "f72ac8df1cb64d50a8bfb7e0e3f14aab": {
      "model_module": "@jupyter-widgets/base",
      "model_module_version": "1.2.0",
      "model_name": "LayoutModel",
      "state": {
       "width": "100px"
      }
     },
     "fa3ed0367d964cd3bad09de099ceebd2": {
      "model_module": "bqplot",
      "model_module_version": "^0.5.15",
      "model_name": "FigureModel",
      "state": {
       "axes": [
        "IPY_MODEL_3b967986240843869882d280bb84e67c",
        "IPY_MODEL_154b12b3b64442d1af9d5935f3a1da1a"
       ],
       "fig_margin": {
        "bottom": 40,
        "left": 50,
        "right": 10,
        "top": 10
       },
       "layout": "IPY_MODEL_bc5f7163d23b4865b8c34626dd7b1001",
       "marks": [
        "IPY_MODEL_f6e31ada21d547eda7da3faca5764c8f"
       ],
       "scale_x": "IPY_MODEL_c9e26bb129404400bce27f099a29d056",
       "scale_y": "IPY_MODEL_17a8a193b2c9450394a9863fa0414cb4"
      }
     },
     "fe58a34dcb5a4b2d90c18ef3b1f925bf": {
      "model_module": "@jupyter-widgets/base",
      "model_module_version": "1.2.0",
      "model_name": "LayoutModel",
      "state": {
       "width": "365px"
      }
     },
     "fe61a40da6584c6189b12aff6af357f7": {
      "model_module": "bqplot",
      "model_module_version": "^0.5.15",
      "model_name": "FigureModel",
      "state": {
       "axes": [
        "IPY_MODEL_d033edc4e3b94a99a14ac677a7a1a85b",
        "IPY_MODEL_a583acd77ddd47e3bd6b91dd1184416e"
       ],
       "fig_margin": {
        "bottom": 40,
        "left": 50,
        "right": 10,
        "top": 10
       },
       "layout": "IPY_MODEL_bd9f01a89c8544e7b98b8e8f9f102900",
       "marks": [
        "IPY_MODEL_21912031b3984d9fbe7793c9e9b32cb3"
       ],
       "scale_x": "IPY_MODEL_9e22da29d2554fad9ea6786bbbf1e8b6",
       "scale_y": "IPY_MODEL_3909caaffdeb40bb91c0402febe2f6c8"
      }
     },
     "ff518c4a7a164d059f606f8931b9da6c": {
      "model_module": "@jupyter-widgets/base",
      "model_module_version": "1.2.0",
      "model_name": "LayoutModel",
      "state": {
       "border": "solid 2px gray",
       "width": "510px"
      }
     },
     "ffc1c73abc5a48819ef2080d095deee4": {
      "model_module": "@jupyter-widgets/base",
      "model_module_version": "1.2.0",
      "model_name": "LayoutModel",
      "state": {
       "width": "100px"
      }
     }
    },
    "version_major": 2,
    "version_minor": 0
   }
  }
 },
 "nbformat": 4,
 "nbformat_minor": 4
}
