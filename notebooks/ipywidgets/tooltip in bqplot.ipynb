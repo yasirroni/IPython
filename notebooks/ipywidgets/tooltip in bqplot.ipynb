{
 "cells": [
  {
   "cell_type": "code",
   "execution_count": 58,
   "metadata": {},
   "outputs": [],
   "source": [
    "from IPython.display import display\n",
    "\n",
    "import ipywidgets.widgets as widgets\n",
    "import numpy as np\n",
    "import bqplot as bq\n",
    "import random\n",
    "import time\n",
    "import threading"
   ]
  },
  {
   "cell_type": "code",
   "execution_count": 59,
   "metadata": {},
   "outputs": [],
   "source": [
    "num_data = 10\n",
    "x = np.arange(num_data)\n",
    "y_1 = np.random.random(num_data)\n",
    "y_2 = np.random.random(num_data)"
   ]
  },
  {
   "cell_type": "code",
   "execution_count": 60,
   "metadata": {},
   "outputs": [],
   "source": [
    "#scale\n",
    "x_sc = bq.LinearScale()\n",
    "y_sc = bq.LinearScale()"
   ]
  },
  {
   "cell_type": "code",
   "execution_count": 61,
   "metadata": {},
   "outputs": [],
   "source": [
    "#axis\n",
    "x_ax = bq.Axis(\n",
    "    label = 'x(t)',\n",
    "    scale = x_sc\n",
    ")\n",
    "y_ax = bq.Axis(\n",
    "    label = 'y(t)',\n",
    "    scale = y_sc,\n",
    "    orientation = 'vertical'\n",
    ")"
   ]
  },
  {
   "cell_type": "code",
   "execution_count": 62,
   "metadata": {},
   "outputs": [],
   "source": [
    "# line\n",
    "line = bq.Lines(\n",
    "    x = x,\n",
    "    y = [y_1, y_2],\n",
    "    scales = {\n",
    "        'x': x_sc,'y': y_sc\n",
    "    }\n",
    ")"
   ]
  },
  {
   "cell_type": "code",
   "execution_count": 69,
   "metadata": {},
   "outputs": [],
   "source": [
    "decimals = 2\n",
    "out = widgets.Output()\n",
    "def hover_scatter(_, hover_event):\n",
    "    global out, decimals\n",
    "    out.clear_output()\n",
    "    with out:\n",
    "        print('x: ',hover_event['data']['x'])\n",
    "        print('y: ',round(hover_event['data']['y'],decimals))"
   ]
  },
  {
   "cell_type": "code",
   "execution_count": 70,
   "metadata": {},
   "outputs": [],
   "source": [
    "# scatter\n",
    "scatter = bq.Scatter(\n",
    "    x = [*x, *x],\n",
    "    y = [*y_1, *y_2],\n",
    "    colors=['#ff77ff00'],\n",
    "    stroke_width=1,\n",
    "    display_legend=False,\n",
    "    scales={\n",
    "        'x': x_sc,'y': y_sc\n",
    "    }, \n",
    "    tooltip=out\n",
    ")\n",
    "scatter.on_hover(hover_scatter)"
   ]
  },
  {
   "cell_type": "code",
   "execution_count": 71,
   "metadata": {},
   "outputs": [],
   "source": [
    "# figure\n",
    "fig = bq.Figure(\n",
    "    layout = widgets.Layout(width='500px', height='300px'),\n",
    "    axes = [x_ax, y_ax],\n",
    "    marks = [line, scatter],\n",
    "    fig_margin = dict(top=10, bottom=40, left=50, right=10)\n",
    ")"
   ]
  },
  {
   "cell_type": "code",
   "execution_count": 72,
   "metadata": {},
   "outputs": [
    {
     "data": {
      "application/vnd.jupyter.widget-view+json": {
       "model_id": "ed9d5f809a9141658deaabc6fa3e7d40",
       "version_major": 2,
       "version_minor": 0
      },
      "text/plain": [
       "Figure(axes=[Axis(label='x(t)', scale=LinearScale(), side='bottom'), Axis(label='y(t)', orientation='vertical'…"
      ]
     },
     "metadata": {},
     "output_type": "display_data"
    }
   ],
   "source": [
    "fig"
   ]
  }
 ],
 "metadata": {
  "kernelspec": {
   "display_name": "Python 3",
   "language": "python",
   "name": "python3"
  },
  "language_info": {
   "codemirror_mode": {
    "name": "ipython",
    "version": 3
   },
   "file_extension": ".py",
   "mimetype": "text/x-python",
   "name": "python",
   "nbconvert_exporter": "python",
   "pygments_lexer": "ipython3",
   "version": "3.7.4"
  }
 },
 "nbformat": 4,
 "nbformat_minor": 4
}
