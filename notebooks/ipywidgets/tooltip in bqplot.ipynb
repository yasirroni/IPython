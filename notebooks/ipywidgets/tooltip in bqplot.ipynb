{
 "cells": [
  {
   "cell_type": "code",
   "execution_count": 1,
   "metadata": {},
   "outputs": [],
   "source": [
    "from IPython.display import display\n",
    "\n",
    "import ipywidgets.widgets as widgets\n",
    "import numpy as np\n",
    "import bqplot as bq\n",
    "import random\n",
    "import time\n",
    "import threading"
   ]
  },
  {
   "cell_type": "code",
   "execution_count": 2,
   "metadata": {},
   "outputs": [],
   "source": [
    "num_data = 10\n",
    "x = np.arange(num_data)\n",
    "y_1 = np.random.random(num_data)\n",
    "y_2 = np.random.random(num_data)"
   ]
  },
  {
   "cell_type": "code",
   "execution_count": 3,
   "metadata": {},
   "outputs": [],
   "source": [
    "#scale\n",
    "x_sc = bq.LinearScale()\n",
    "y_sc = bq.LinearScale()"
   ]
  },
  {
   "cell_type": "code",
   "execution_count": 4,
   "metadata": {},
   "outputs": [],
   "source": [
    "#axis\n",
    "x_ax = bq.Axis(\n",
    "    label = 'x(t)',\n",
    "    scale = x_sc\n",
    ")\n",
    "y_ax = bq.Axis(\n",
    "    label = 'y(t)',\n",
    "    scale = y_sc,\n",
    "    orientation = 'vertical'\n",
    ")"
   ]
  },
  {
   "cell_type": "code",
   "execution_count": 5,
   "metadata": {},
   "outputs": [],
   "source": [
    "# line\n",
    "line = bq.Lines(\n",
    "    x = x,\n",
    "    y = [y_1, y_2],\n",
    "    scales = {\n",
    "        'x': x_sc,'y': y_sc\n",
    "    }\n",
    ")"
   ]
  },
  {
   "cell_type": "code",
   "execution_count": 6,
   "metadata": {},
   "outputs": [],
   "source": [
    "decimals = 2\n",
    "out = widgets.Output()\n",
    "out.layout.margin = '0px 0px 0px 0px'\n",
    "out.layout.padding = '0px 0px 0px 0px'\n",
    "\n",
    "def hover_scatter(_, hover_event):\n",
    "    global out, decimals\n",
    "    out.clear_output()\n",
    "    with out:\n",
    "        print('x: ',hover_event['data']['x'])\n",
    "        print('y: ',round(hover_event['data']['y'],decimals))"
   ]
  },
  {
   "cell_type": "code",
   "execution_count": 7,
   "metadata": {},
   "outputs": [],
   "source": [
    "# scatter\n",
    "scatter = bq.Scatter(\n",
    "    x = [*x, *x],\n",
    "    y = [*y_1, *y_2],\n",
    "    colors=['#ff77ff00'],\n",
    "    stroke_width=1,\n",
    "    display_legend=False,\n",
    "    scales={\n",
    "        'x': x_sc,'y': y_sc\n",
    "    }, \n",
    "    tooltip=out,\n",
    "    interactions = {'hover': 'tooltip'}\n",
    ")\n",
    "scatter.on_hover(hover_scatter)"
   ]
  },
  {
   "cell_type": "code",
   "execution_count": 8,
   "metadata": {},
   "outputs": [],
   "source": [
    "# figure\n",
    "fig = bq.Figure(\n",
    "    layout = widgets.Layout(width='500px', height='300px'),\n",
    "    axes = [x_ax, y_ax],\n",
    "    marks = [line, scatter],\n",
    "    fig_margin = dict(top=10, bottom=40, left=50, right=10)\n",
    ")"
   ]
  },
  {
   "cell_type": "code",
   "execution_count": 9,
   "metadata": {},
   "outputs": [
    {
     "data": {
      "application/vnd.jupyter.widget-view+json": {
       "model_id": "3f7e3b8c0e84479b8ff9b5c466fe818f",
       "version_major": 2,
       "version_minor": 0
      },
      "text/plain": [
       "Figure(axes=[Axis(label='x(t)', scale=LinearScale()), Axis(label='y(t)', orientation='vertical', scale=LinearS…"
      ]
     },
     "metadata": {},
     "output_type": "display_data"
    }
   ],
   "source": [
    "fig"
   ]
  },
  {
   "cell_type": "code",
   "execution_count": null,
   "metadata": {},
   "outputs": [],
   "source": []
  }
 ],
 "metadata": {
  "kernelspec": {
   "display_name": "Python 3",
   "language": "python",
   "name": "python3"
  },
  "language_info": {
   "codemirror_mode": {
    "name": "ipython",
    "version": 3
   },
   "file_extension": ".py",
   "mimetype": "text/x-python",
   "name": "python",
   "nbconvert_exporter": "python",
   "pygments_lexer": "ipython3",
   "version": "3.7.4"
  },
  "widgets": {
   "application/vnd.jupyter.widget-state+json": {
    "state": {
     "05139d5075a148948ee743a1940222d4": {
      "buffers": [
       {
        "data": "AAAAAAEAAAACAAAAAwAAAAQAAAAFAAAABgAAAAcAAAAIAAAACQAAAA==",
        "encoding": "base64",
        "path": [
         "x",
         "value"
        ]
       },
       {
        "data": "kPZw+XBnoD/VubvpTR7qP6LUwXRpluc/CEPYmszwzD9HnEJs5jDkP2TTsr3+ysA/bG/YDEzDxT/7KsRuAtTlP6o1mY3y2OY/uMXKg3Fh7D8=",
        "encoding": "base64",
        "path": [
         "y",
         0,
         "value"
        ]
       },
       {
        "data": "wpiSTAkk5T9xRFeZ+2zpP1ApD4alFM0/hMnRedBC0T83s7jxYJniP8ImdGRIPuc/LEJDksc50D9sw/pJFEfPP/qY1Z2bb9A/SMuw5IiOyz8=",
        "encoding": "base64",
        "path": [
         "y",
         1,
         "value"
        ]
       }
      ],
      "model_module": "bqplot",
      "model_module_version": "^0.5.16",
      "model_name": "LinesModel",
      "state": {
       "fill_colors": [],
       "labels": [
        "C1",
        "C2"
       ],
       "scales": {
        "x": "IPY_MODEL_464c5159249342839287ddfdb52a0ec5",
        "y": "IPY_MODEL_1416554e39a54bef9f669d002b1cd9cd"
       },
       "x": {
        "dtype": "int32",
        "shape": [
         10
        ],
        "type": null,
        "value": {}
       },
       "y": [
        {
         "dtype": "float64",
         "shape": [
          10
         ],
         "type": null,
         "value": {}
        },
        {
         "dtype": "float64",
         "shape": [
          10
         ],
         "type": null,
         "value": {}
        }
       ]
      }
     },
     "124bf1044c09444f8da4629a2bf4cfe9": {
      "model_module": "@jupyter-widgets/base",
      "model_module_version": "1.2.0",
      "model_name": "LayoutModel",
      "state": {
       "margin": "0px 0px 0px 0px",
       "padding": "0px 0px 0px 0px"
      }
     },
     "1416554e39a54bef9f669d002b1cd9cd": {
      "model_module": "bqplot",
      "model_module_version": "^0.5.16",
      "model_name": "LinearScaleModel",
      "state": {
       "stabilized": false
      }
     },
     "1c57d93218094aa6a8b336ac11a2869e": {
      "buffers": [
       {
        "data": "AAAAAAAA8D8=",
        "encoding": "base64",
        "path": [
         "default_opacities",
         "value"
        ]
       },
       {
        "data": "AAAAAAEAAAACAAAAAwAAAAQAAAAFAAAABgAAAAcAAAAIAAAACQAAAAAAAAABAAAAAgAAAAMAAAAEAAAABQAAAAYAAAAHAAAACAAAAAkAAAA=",
        "encoding": "base64",
        "path": [
         "x",
         "value"
        ]
       },
       {
        "data": "kPZw+XBnoD/VubvpTR7qP6LUwXRpluc/CEPYmszwzD9HnEJs5jDkP2TTsr3+ysA/bG/YDEzDxT/7KsRuAtTlP6o1mY3y2OY/uMXKg3Fh7D/CmJJMCSTlP3FEV5n7bOk/UCkPhqUUzT+EydF50ELRPzezuPFgmeI/wiZ0ZEg+5z8sQkOSxznQP2zD+kkUR88/+pjVnZtv0D9Iy7DkiI7LPw==",
        "encoding": "base64",
        "path": [
         "y",
         "value"
        ]
       }
      ],
      "model_module": "bqplot",
      "model_module_version": "^0.5.16",
      "model_name": "ScatterModel",
      "state": {
       "colors": [
        "#ff77ff00"
       ],
       "default_opacities": {
        "dtype": "float64",
        "shape": [
         1
        ],
        "type": null,
        "value": {}
       },
       "label_display_horizontal_offset": 0,
       "label_display_vertical_offset": 0,
       "names": null,
       "scales": {
        "x": "IPY_MODEL_464c5159249342839287ddfdb52a0ec5",
        "y": "IPY_MODEL_1416554e39a54bef9f669d002b1cd9cd"
       },
       "scales_metadata": {
        "color": {
         "dimension": "color"
        },
        "opacity": {
         "dimension": "opacity"
        },
        "rotation": {
         "dimension": "rotation"
        },
        "size": {
         "dimension": "size"
        },
        "skew": {
         "dimension": "skew"
        },
        "x": {
         "dimension": "x",
         "orientation": "horizontal"
        },
        "y": {
         "dimension": "y",
         "orientation": "vertical"
        }
       },
       "stroke_width": 1,
       "tooltip": "IPY_MODEL_a733b177ccb34660a6f26a7a53de7a92",
       "x": {
        "dtype": "int32",
        "shape": [
         20
        ],
        "type": null,
        "value": {}
       },
       "y": {
        "dtype": "float64",
        "shape": [
         20
        ],
        "type": null,
        "value": {}
       }
      }
     },
     "3f7e3b8c0e84479b8ff9b5c466fe818f": {
      "model_module": "bqplot",
      "model_module_version": "^0.5.16",
      "model_name": "FigureModel",
      "state": {
       "axes": [
        "IPY_MODEL_a7942e6256dd4fdb9674d39c634a98b9",
        "IPY_MODEL_b1c880e87c9442b1aca31f80b1fbe1f9"
       ],
       "fig_margin": {
        "bottom": 40,
        "left": 50,
        "right": 10,
        "top": 10
       },
       "layout": "IPY_MODEL_437807e7a9f844069f4a549ef03a3df0",
       "marks": [
        "IPY_MODEL_05139d5075a148948ee743a1940222d4",
        "IPY_MODEL_1c57d93218094aa6a8b336ac11a2869e"
       ],
       "scale_x": "IPY_MODEL_e351cf52977c4385b181e86cd84c2e5e",
       "scale_y": "IPY_MODEL_64db0f0ae17945aa9334206d194fb957"
      }
     },
     "437807e7a9f844069f4a549ef03a3df0": {
      "model_module": "@jupyter-widgets/base",
      "model_module_version": "1.2.0",
      "model_name": "LayoutModel",
      "state": {
       "height": "300px",
       "width": "500px"
      }
     },
     "464c5159249342839287ddfdb52a0ec5": {
      "model_module": "bqplot",
      "model_module_version": "^0.5.16",
      "model_name": "LinearScaleModel",
      "state": {
       "stabilized": false
      }
     },
     "64db0f0ae17945aa9334206d194fb957": {
      "model_module": "bqplot",
      "model_module_version": "^0.5.16",
      "model_name": "LinearScaleModel",
      "state": {
       "allow_padding": false,
       "max": 1,
       "min": 0,
       "stabilized": false
      }
     },
     "a733b177ccb34660a6f26a7a53de7a92": {
      "model_module": "@jupyter-widgets/output",
      "model_module_version": "1.0.0",
      "model_name": "OutputModel",
      "state": {
       "layout": "IPY_MODEL_124bf1044c09444f8da4629a2bf4cfe9"
      }
     },
     "a7942e6256dd4fdb9674d39c634a98b9": {
      "model_module": "bqplot",
      "model_module_version": "^0.5.16",
      "model_name": "AxisModel",
      "state": {
       "label": "x(t)",
       "scale": "IPY_MODEL_464c5159249342839287ddfdb52a0ec5",
       "side": "bottom",
       "tick_values": null
      }
     },
     "b1c880e87c9442b1aca31f80b1fbe1f9": {
      "model_module": "bqplot",
      "model_module_version": "^0.5.16",
      "model_name": "AxisModel",
      "state": {
       "label": "y(t)",
       "orientation": "vertical",
       "scale": "IPY_MODEL_1416554e39a54bef9f669d002b1cd9cd",
       "side": "left",
       "tick_values": null
      }
     },
     "e351cf52977c4385b181e86cd84c2e5e": {
      "model_module": "bqplot",
      "model_module_version": "^0.5.16",
      "model_name": "LinearScaleModel",
      "state": {
       "allow_padding": false,
       "max": 1,
       "min": 0,
       "stabilized": false
      }
     }
    },
    "version_major": 2,
    "version_minor": 0
   }
  }
 },
 "nbformat": 4,
 "nbformat_minor": 4
}
