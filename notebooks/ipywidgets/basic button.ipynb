{
 "cells": [
  {
   "cell_type": "code",
   "execution_count": 1,
   "metadata": {},
   "outputs": [],
   "source": [
    "from ipywidgets import widgets\n",
    "from IPython.display import display"
   ]
  },
  {
   "cell_type": "code",
   "execution_count": 2,
   "metadata": {},
   "outputs": [],
   "source": [
    "screen = widgets.Label(\n",
    "    value = '0'\n",
    ")"
   ]
  },
  {
   "cell_type": "code",
   "execution_count": 3,
   "metadata": {},
   "outputs": [],
   "source": [
    "layout_button = widgets.Layout(width='100px')"
   ]
  },
  {
   "cell_type": "code",
   "execution_count": 4,
   "metadata": {},
   "outputs": [],
   "source": [
    "button_add = widgets.Button(\n",
    "#     description = 'add',\n",
    "    icon = 'fa-plus',\n",
    "    button_style = '',\n",
    "    layout = layout_button\n",
    ")\n",
    "\n",
    "def button_add_click(self):\n",
    "    screen.value = str(int(screen.value)+1)\n",
    "\n",
    "button_add.on_click(button_add_click)"
   ]
  },
  {
   "cell_type": "code",
   "execution_count": 5,
   "metadata": {},
   "outputs": [],
   "source": [
    "button_substract = widgets.Button(\n",
    "#     description = 'substract',\n",
    "    icon = 'fa-minus',\n",
    "    button_style = '',\n",
    "    layout = layout_button\n",
    ")\n",
    "\n",
    "def button_substract_click(self):\n",
    "    screen.value = str(int(screen.value)-1)\n",
    "\n",
    "button_substract.on_click(button_substract_click)"
   ]
  },
  {
   "cell_type": "code",
   "execution_count": 6,
   "metadata": {},
   "outputs": [],
   "source": [
    "wrapper = widgets.VBox(\n",
    "    children = (\n",
    "        screen,\n",
    "        widgets.HBox(\n",
    "        children = (button_add,button_substract)\n",
    "        )\n",
    "    ),\n",
    "    layout = widgets.Layout(\n",
    "        display='flex',\n",
    "        flex_flow='column',\n",
    "        align_items='center',\n",
    "        border='solid',\n",
    "        width='25%'\n",
    "    )\n",
    ")"
   ]
  },
  {
   "cell_type": "code",
   "execution_count": 7,
   "metadata": {},
   "outputs": [
    {
     "data": {
      "application/vnd.jupyter.widget-view+json": {
       "model_id": "1f21701c961846dd8ee106da21e43af3",
       "version_major": 2,
       "version_minor": 0
      },
      "text/plain": [
       "VBox(children=(Label(value='0'), HBox(children=(Button(icon='plus', layout=Layout(width='100px'), style=Button…"
      ]
     },
     "metadata": {},
     "output_type": "display_data"
    }
   ],
   "source": [
    "display(wrapper)"
   ]
  },
  {
   "cell_type": "code",
   "execution_count": null,
   "metadata": {},
   "outputs": [],
   "source": []
  }
 ],
 "metadata": {
  "kernelspec": {
   "display_name": "Python 3",
   "language": "python",
   "name": "python3"
  },
  "language_info": {
   "codemirror_mode": {
    "name": "ipython",
    "version": 3
   },
   "file_extension": ".py",
   "mimetype": "text/x-python",
   "name": "python",
   "nbconvert_exporter": "python",
   "pygments_lexer": "ipython3",
   "version": "3.7.4"
  }
 },
 "nbformat": 4,
 "nbformat_minor": 4
}
