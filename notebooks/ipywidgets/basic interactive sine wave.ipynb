{
 "cells": [
  {
   "cell_type": "markdown",
   "metadata": {},
   "source": [
    "# basic interactive sine wave\n",
    "Based on [ipywidgets documentation](https://ipywidgets.readthedocs.io/en)"
   ]
  },
  {
   "cell_type": "code",
   "execution_count": 1,
   "metadata": {},
   "outputs": [],
   "source": [
    "# library\n",
    "from ipywidgets import fixed, interactive, FloatSlider\n",
    "import matplotlib.pyplot as plt\n",
    "import numpy as np"
   ]
  },
  {
   "cell_type": "code",
   "execution_count": 2,
   "metadata": {},
   "outputs": [],
   "source": [
    "# setting widget\n",
    "amplitude_widget = FloatSlider(min=0, max=5.0, step=0.1, value=1)\n",
    "frequency_widget = FloatSlider(min=0, max=1, step=0.1, value=0.5)\n",
    "ylim_widget = FloatSlider(min=0.05, max=10, step=0.05, value=1.25)\n",
    "x_max = fixed(10)\n",
    "step = fixed(10)"
   ]
  },
  {
   "cell_type": "code",
   "execution_count": 3,
   "metadata": {},
   "outputs": [],
   "source": [
    "# function\n",
    "def sine_wave(amplitude, frequency, ylim, x_max=10, step=10):\n",
    "    plt.figure('Plot 1')\n",
    "    x_axis = np.linspace(0, x_max, x_max * step)\n",
    "    plt.plot(x_axis, amplitude * np.sin(2 * np.pi * frequency * x_axis))\n",
    "    plt.ylim(ylim, -1 * ylim)\n",
    "    plt.show()\n",
    "\n",
    "def update_ylim(*args):\n",
    "    if amplitude_widget.value >= ylim_widget.min:\n",
    "        ylim_widget.max = 2 * amplitude_widget.value\n",
    "    else:\n",
    "        ylim_widget.max = ylim_widget.min\n",
    "\n",
    "amplitude_widget.observe(update_ylim, 'value')\n",
    "\n",
    "widget = interactive(sine_wave, amplitude=amplitude_widget, frequency=frequency_widget, ylim=ylim_widget, x_max=x_max, step=step)"
   ]
  },
  {
   "cell_type": "code",
   "execution_count": 4,
   "metadata": {},
   "outputs": [
    {
     "data": {
      "application/vnd.jupyter.widget-view+json": {
       "model_id": "39bdfaea4b81473f8d60e6a59539524d",
       "version_major": 2,
       "version_minor": 0
      },
      "text/plain": [
       "interactive(children=(FloatSlider(value=1.0, description='amplitude', max=5.0), FloatSlider(value=0.5, descrip…"
      ]
     },
     "metadata": {},
     "output_type": "display_data"
    }
   ],
   "source": [
    "# show\n",
    "display(widget)"
   ]
  }
 ],
 "metadata": {
  "kernelspec": {
   "display_name": "Python 3",
   "language": "python",
   "name": "python3"
  },
  "language_info": {
   "codemirror_mode": {
    "name": "ipython",
    "version": 3
   },
   "file_extension": ".py",
   "mimetype": "text/x-python",
   "name": "python",
   "nbconvert_exporter": "python",
   "pygments_lexer": "ipython3",
   "version": "3.7.4"
  },
  "widgets": {
   "application/vnd.jupyter.widget-state+json": {
    "state": {
     "0918612e68424809a2ddb99ca8a3d13b": {
      "model_module": "@jupyter-widgets/controls",
      "model_module_version": "1.5.0",
      "model_name": "FloatSliderModel",
      "state": {
       "description": "frequency",
       "layout": "IPY_MODEL_7fe42e033b1a45c19c0b4a7a97e26b7c",
       "max": 1,
       "step": 0.1,
       "style": "IPY_MODEL_632b9610696244288ebd4cdfce3160e3",
       "value": 0.5
      }
     },
     "2476982938284ed396e6e10a5f8bde20": {
      "model_module": "@jupyter-widgets/controls",
      "model_module_version": "1.5.0",
      "model_name": "FloatSliderModel",
      "state": {
       "description": "ylim",
       "layout": "IPY_MODEL_472feefe0f1b4cedb18c306a4e7cc233",
       "max": 10,
       "min": 0.05,
       "step": 0.05,
       "style": "IPY_MODEL_947a91e2970b465daa7f03c2af059cd0",
       "value": 1.25
      }
     },
     "39bdfaea4b81473f8d60e6a59539524d": {
      "model_module": "@jupyter-widgets/controls",
      "model_module_version": "1.5.0",
      "model_name": "VBoxModel",
      "state": {
       "_dom_classes": [
        "widget-interact"
       ],
       "children": [
        "IPY_MODEL_f9b98f453b0a4bd89133b5efede52d8c",
        "IPY_MODEL_0918612e68424809a2ddb99ca8a3d13b",
        "IPY_MODEL_2476982938284ed396e6e10a5f8bde20",
        "IPY_MODEL_a25ba769bdfa46cd9b30913c6472e6ab"
       ],
       "layout": "IPY_MODEL_a3630e7318b24c28b437369832c2a5a3"
      }
     },
     "3f15e786a6454459a843e49aa55bad96": {
      "model_module": "@jupyter-widgets/base",
      "model_module_version": "1.2.0",
      "model_name": "LayoutModel",
      "state": {}
     },
     "472feefe0f1b4cedb18c306a4e7cc233": {
      "model_module": "@jupyter-widgets/base",
      "model_module_version": "1.2.0",
      "model_name": "LayoutModel",
      "state": {}
     },
     "632b9610696244288ebd4cdfce3160e3": {
      "model_module": "@jupyter-widgets/controls",
      "model_module_version": "1.5.0",
      "model_name": "SliderStyleModel",
      "state": {
       "description_width": ""
      }
     },
     "6396c53c27aa496484c57c05e3695932": {
      "model_module": "@jupyter-widgets/base",
      "model_module_version": "1.2.0",
      "model_name": "LayoutModel",
      "state": {}
     },
     "7fe42e033b1a45c19c0b4a7a97e26b7c": {
      "model_module": "@jupyter-widgets/base",
      "model_module_version": "1.2.0",
      "model_name": "LayoutModel",
      "state": {}
     },
     "821801e2bda942abb82b27aaff87d9fc": {
      "model_module": "@jupyter-widgets/controls",
      "model_module_version": "1.5.0",
      "model_name": "SliderStyleModel",
      "state": {
       "description_width": ""
      }
     },
     "947a91e2970b465daa7f03c2af059cd0": {
      "model_module": "@jupyter-widgets/controls",
      "model_module_version": "1.5.0",
      "model_name": "SliderStyleModel",
      "state": {
       "description_width": ""
      }
     },
     "a25ba769bdfa46cd9b30913c6472e6ab": {
      "model_module": "@jupyter-widgets/output",
      "model_module_version": "1.0.0",
      "model_name": "OutputModel",
      "state": {
       "layout": "IPY_MODEL_3f15e786a6454459a843e49aa55bad96",
       "outputs": [
        {
         "data": {
          "image/png": "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\n",
          "text/plain": "<Figure size 432x288 with 1 Axes>"
         },
         "metadata": {
          "needs_background": "light"
         },
         "output_type": "display_data"
        }
       ]
      }
     },
     "a3630e7318b24c28b437369832c2a5a3": {
      "model_module": "@jupyter-widgets/base",
      "model_module_version": "1.2.0",
      "model_name": "LayoutModel",
      "state": {}
     },
     "f9b98f453b0a4bd89133b5efede52d8c": {
      "model_module": "@jupyter-widgets/controls",
      "model_module_version": "1.5.0",
      "model_name": "FloatSliderModel",
      "state": {
       "description": "amplitude",
       "layout": "IPY_MODEL_6396c53c27aa496484c57c05e3695932",
       "max": 5,
       "step": 0.1,
       "style": "IPY_MODEL_821801e2bda942abb82b27aaff87d9fc",
       "value": 1
      }
     }
    },
    "version_major": 2,
    "version_minor": 0
   }
  }
 },
 "nbformat": 4,
 "nbformat_minor": 4
}
