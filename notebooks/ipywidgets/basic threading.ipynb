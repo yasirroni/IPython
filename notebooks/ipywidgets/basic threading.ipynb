{
 "cells": [
  {
   "cell_type": "code",
   "execution_count": 1,
   "metadata": {},
   "outputs": [],
   "source": [
    "from ipywidgets import widgets\n",
    "from IPython.display import display\n",
    "import numpy as np\n",
    "import bqplot as bq\n",
    "import threading\n",
    "import numpy"
   ]
  },
  {
   "cell_type": "code",
   "execution_count": 2,
   "metadata": {},
   "outputs": [],
   "source": [
    "# slider\n",
    "silder_amplitude = widgets.FloatSlider(min=0, max=5.0, step=0.1, value=1)\n",
    "slider_frequency = widgets.FloatSlider(min=0, max=1, step=0.1, value=0.5)\n",
    "\n",
    "# label\n",
    "label_current_thread = widgets.Label()\n",
    "label_thread_list = widgets.Label()\n",
    "\n",
    "# button \n",
    "button_stop = widgets.Button(\n",
    "    description = 'stop',\n",
    "    icon = 'fa-stop',\n",
    "    button_style = 'warning',\n",
    "    layout = widgets.Layout(width='100px')\n",
    ")\n",
    "def button_stop_click(self):\n",
    "    global thread_status\n",
    "    thread_status = False\n",
    "button_stop.on_click(button_stop_click)\n",
    "\n",
    "button_check_thread = widgets.Button(\n",
    "    description = 'check thread',\n",
    "    button_style = '',\n",
    "    layout = widgets.Layout(width='100px')\n",
    ")\n",
    "def button_check_thread_click(self):\n",
    "    # print if work() still running\n",
    "    work_count = 0\n",
    "    name='work'\n",
    "    for thread_object in threading.enumerate():\n",
    "        if thread_object.name == name:\n",
    "            work_count+=1\n",
    "    if work_count > 0:\n",
    "        label_thread_list.value=f'{work_count} thread with name {name} still exist. Consider use exit() and restart kernel'\n",
    "    else:\n",
    "        label_thread_list.value=f'No thread with name {name} exist'\n",
    "button_check_thread.on_click(button_check_thread_click)"
   ]
  },
  {
   "cell_type": "code",
   "execution_count": 3,
   "metadata": {},
   "outputs": [],
   "source": [
    "#scale\n",
    "x_sc = bq.LinearScale()\n",
    "y_sc = bq.LinearScale()\n",
    "\n",
    "#axis\n",
    "x_ax = bq.Axis(\n",
    "    label = 'x(t)',\n",
    "    scale = x_sc\n",
    ")\n",
    "y_ax = bq.Axis(\n",
    "    label = 'y(t)',\n",
    "    scale = y_sc,\n",
    "    orientation = 'vertical'\n",
    ")\n",
    "\n",
    "# line\n",
    "line = bq.Lines(\n",
    "    scales = {\n",
    "        'x': x_sc,'y': y_sc\n",
    "    }\n",
    ")\n",
    "\n",
    "# figure\n",
    "fig = bq.Figure(\n",
    "    layout = widgets.Layout(width='500px', height='300px'),\n",
    "    axes = [x_ax, y_ax],\n",
    "    marks = [line],\n",
    "    fig_margin = dict(top=10, bottom=40, left=50, right=10),   \n",
    ")"
   ]
  },
  {
   "cell_type": "code",
   "execution_count": 4,
   "metadata": {},
   "outputs": [],
   "source": [
    "def make_x(start=0,stop=2*np.pi,num=100,endpoint=True):\n",
    "    return np.linspace(start=start,stop=stop,num=num,endpoint=endpoint)"
   ]
  },
  {
   "cell_type": "code",
   "execution_count": 5,
   "metadata": {},
   "outputs": [],
   "source": [
    "def make_sin_wave(x, amplitude, frequency):\n",
    "    return amplitude * np.sin(2 * np.pi * frequency * x)"
   ]
  },
  {
   "cell_type": "code",
   "execution_count": 6,
   "metadata": {},
   "outputs": [],
   "source": [
    "def work():\n",
    "    global thread_status\n",
    "    \n",
    "    if thread_status:\n",
    "        label_current_thread.value = 'Thread On'\n",
    "    \n",
    "    current_state = []\n",
    "    \n",
    "    while thread_status:\n",
    "        if current_state != [\n",
    "            silder_amplitude.value,\n",
    "            slider_frequency.value\n",
    "        ]:\n",
    "\n",
    "            current_state = [\n",
    "                silder_amplitude.value,\n",
    "                slider_frequency.value\n",
    "            ]\n",
    "\n",
    "            line.x = make_x()\n",
    "            line.y = make_sin_wave(line.x,silder_amplitude.value, slider_frequency.value)\n",
    "    \n",
    "    if not thread_status:\n",
    "        label_current_thread.value = 'Thread Off'"
   ]
  },
  {
   "cell_type": "code",
   "execution_count": 7,
   "metadata": {},
   "outputs": [],
   "source": [
    "# restart flag\n",
    "thread_status = False\n",
    "thread_status = True\n",
    "\n",
    "# create thread\n",
    "thread_work = threading.Thread(target=work)\n",
    "thread_work.name = 'work'\n",
    "\n",
    "# start thread\n",
    "thread_work.start()"
   ]
  },
  {
   "cell_type": "code",
   "execution_count": 8,
   "metadata": {},
   "outputs": [
    {
     "data": {
      "application/vnd.jupyter.widget-view+json": {
       "model_id": "8edacc171f8d4a5aa06494c40294d4fa",
       "version_major": 2,
       "version_minor": 0
      },
      "text/plain": [
       "VBox(children=(Figure(axes=[Axis(label='x(t)', scale=LinearScale()), Axis(label='y(t)', orientation='vertical'…"
      ]
     },
     "metadata": {},
     "output_type": "display_data"
    }
   ],
   "source": [
    "# wrapper\n",
    "wrapper = widgets.VBox(\n",
    "    children = (\n",
    "        fig,\n",
    "        silder_amplitude,\n",
    "        slider_frequency,\n",
    "        label_current_thread,\n",
    "        button_stop,\n",
    "    )\n",
    ")\n",
    "display(wrapper)"
   ]
  },
  {
   "cell_type": "code",
   "execution_count": 9,
   "metadata": {},
   "outputs": [
    {
     "data": {
      "application/vnd.jupyter.widget-view+json": {
       "model_id": "07585aa79aac4087a6ce3244ae4ac497",
       "version_major": 2,
       "version_minor": 0
      },
      "text/plain": [
       "Button(description='check thread', layout=Layout(width='100px'), style=ButtonStyle())"
      ]
     },
     "metadata": {},
     "output_type": "display_data"
    },
    {
     "data": {
      "application/vnd.jupyter.widget-view+json": {
       "model_id": "7efc047053ac4085b77891021b68a4a1",
       "version_major": 2,
       "version_minor": 0
      },
      "text/plain": [
       "Label(value='')"
      ]
     },
     "metadata": {},
     "output_type": "display_data"
    }
   ],
   "source": [
    "display(button_check_thread)\n",
    "display(label_thread_list)"
   ]
  },
  {
   "cell_type": "code",
   "execution_count": null,
   "metadata": {},
   "outputs": [],
   "source": []
  }
 ],
 "metadata": {
  "kernelspec": {
   "display_name": "Python 3",
   "language": "python",
   "name": "python3"
  },
  "language_info": {
   "codemirror_mode": {
    "name": "ipython",
    "version": 3
   },
   "file_extension": ".py",
   "mimetype": "text/x-python",
   "name": "python",
   "nbconvert_exporter": "python",
   "pygments_lexer": "ipython3",
   "version": "3.7.4"
  },
  "widgets": {
   "application/vnd.jupyter.widget-state+json": {
    "state": {
     "013f41eec98243559379a752cad94dc4": {
      "model_module": "@jupyter-widgets/controls",
      "model_module_version": "1.5.0",
      "model_name": "LabelModel",
      "state": {
       "layout": "IPY_MODEL_c2ddb7ee481548008f95b16b0ed7deaf",
       "style": "IPY_MODEL_8b420e3090a741638a4beda314c32998",
       "value": "Thread On"
      }
     },
     "01d4ea07dd734573985d9a1020e5fdfb": {
      "model_module": "@jupyter-widgets/base",
      "model_module_version": "1.2.0",
      "model_name": "LayoutModel",
      "state": {}
     },
     "023b3276b6a9472c8870f5f8d3f97013": {
      "model_module": "@jupyter-widgets/base",
      "model_module_version": "1.2.0",
      "model_name": "LayoutModel",
      "state": {}
     },
     "0349b9bd4d0e4bb2ab0bf78b937f85fc": {
      "model_module": "@jupyter-widgets/controls",
      "model_module_version": "1.5.0",
      "model_name": "DescriptionStyleModel",
      "state": {
       "description_width": ""
      }
     },
     "035b8e4e864047648056e2e214af0fbf": {
      "model_module": "@jupyter-widgets/controls",
      "model_module_version": "1.5.0",
      "model_name": "DescriptionStyleModel",
      "state": {
       "description_width": ""
      }
     },
     "042457a3f8ab4420be5a1b9b23f621bd": {
      "model_module": "@jupyter-widgets/base",
      "model_module_version": "1.2.0",
      "model_name": "LayoutModel",
      "state": {
       "height": "300px",
       "width": "500px"
      }
     },
     "0424a3923d7e44ddaa349c12d3df1219": {
      "model_module": "@jupyter-widgets/base",
      "model_module_version": "1.2.0",
      "model_name": "LayoutModel",
      "state": {
       "width": "100px"
      }
     },
     "04c8c370f5784cbcaa994b35d4aa10c3": {
      "model_module": "@jupyter-widgets/base",
      "model_module_version": "1.2.0",
      "model_name": "LayoutModel",
      "state": {}
     },
     "0546323cbcf04220b33a401773c27a1a": {
      "model_module": "bqplot",
      "model_module_version": "^0.5.16",
      "model_name": "LinearScaleModel",
      "state": {
       "allow_padding": false,
       "max": 1,
       "min": 0,
       "stabilized": false
      }
     },
     "056e9684b471494c822aea2e07248acd": {
      "model_module": "@jupyter-widgets/controls",
      "model_module_version": "1.5.0",
      "model_name": "DescriptionStyleModel",
      "state": {
       "description_width": ""
      }
     },
     "057ded67cb4f474d84d6ba4a22c95ca7": {
      "model_module": "@jupyter-widgets/controls",
      "model_module_version": "1.5.0",
      "model_name": "ButtonModel",
      "state": {
       "button_style": "warning",
       "description": "stop",
       "icon": "stop",
       "layout": "IPY_MODEL_0424a3923d7e44ddaa349c12d3df1219",
       "style": "IPY_MODEL_5673da55d8fe4f4e8f23880ef4337b7b"
      }
     },
     "05e68101f52f4d71868685d8ceb8ff2a": {
      "model_module": "@jupyter-widgets/base",
      "model_module_version": "1.2.0",
      "model_name": "LayoutModel",
      "state": {}
     },
     "06ccaf450ca844e38a91e314ef4af520": {
      "model_module": "@jupyter-widgets/controls",
      "model_module_version": "1.5.0",
      "model_name": "SliderStyleModel",
      "state": {
       "description_width": ""
      }
     },
     "082801c092044ec5b0b1271704fe3cba": {
      "model_module": "bqplot",
      "model_module_version": "^0.5.16",
      "model_name": "LinearScaleModel",
      "state": {
       "stabilized": false
      }
     },
     "08d367cb4bf64e4b887ad34bae385aae": {
      "model_module": "@jupyter-widgets/base",
      "model_module_version": "1.2.0",
      "model_name": "LayoutModel",
      "state": {
       "height": "300px",
       "width": "500px"
      }
     },
     "08d6651e6b834cae90561bf2330ce64c": {
      "model_module": "bqplot",
      "model_module_version": "^0.5.16",
      "model_name": "AxisModel",
      "state": {
       "label": "x(t)",
       "scale": "IPY_MODEL_e6f61226d1e34c4a932e2747aec84e22",
       "side": "bottom",
       "tick_values": null
      }
     },
     "0a052e1a92504704b15e50639511e498": {
      "model_module": "@jupyter-widgets/base",
      "model_module_version": "1.2.0",
      "model_name": "LayoutModel",
      "state": {}
     },
     "0b0e88093c4b4d15a5c29880741de9b6": {
      "model_module": "@jupyter-widgets/controls",
      "model_module_version": "1.5.0",
      "model_name": "LabelModel",
      "state": {
       "layout": "IPY_MODEL_707bae656e834a2ebd2faa2714497389",
       "style": "IPY_MODEL_16e76d95e1df4ed79c65aa7abbe6320a"
      }
     },
     "0bd6a78d9cf94e48bf1b2e68521d658a": {
      "buffers": [
       {
        "data": "AAAAAAAAAACRGkt8Vz+wP5EaS3xXP8A/2qdwOgNfyD+RGkt8Vz/QPzXhXVstT9Q/2qdwOgNf2D9+boMZ2W7cP5EaS3xXP+A/433Ua0JH4j814V1bLU/kP4dE50oYV+Y/2qdwOgNf6D8sC/op7mbqP35ugxnZbuw/0NEMCcR27j+RGkt8Vz/wPzrMD/RMQ/E/433Ua0JH8j+ML5njN0vzPzXhXVstT/Q/3pIi0yJT9T+HROdKGFf2PzD2q8INW/c/2qdwOgNf+D+DWTWy+GL5PywL+inuZvo/1by+oeNq+z9+boMZ2W78PycgSJHOcv0/0NEMCcR2/j95g9GAuXr/P5EaS3xXPwBAZnMtOFLBAEA6zA/0TEMBQA8l8q9HxQFA433Ua0JHAkC41rYnPckCQIwvmeM3SwNAYYh7nzLNA0A14V1bLU8EQAo6QBco0QRA3pIi0yJTBUCz6wSPHdUFQIdE50oYVwZAXJ3JBhPZBkAw9qvCDVsHQAVPjn4I3QdA2qdwOgNfCECuAFP2/eAIQINZNbL4YglAV7IXbvPkCUAsC/op7mYKQABk3OXo6ApA1by+oeNqC0CpFaFd3uwLQH5ugxnZbgxAUsdl1dPwDEAnIEiRznINQPt4Kk3J9A1A0NEMCcR2DkCkKu/EvvgOQHmD0YC5eg9ATdyzPLT8D0CRGkt8Vz8QQPtGPNpUgBBAZnMtOFLBEEDQnx6WTwIRQDrMD/RMQxFApPgAUkqEEUAPJfKvR8URQHlR4w1FBhJA433Ua0JHEkBNqsXJP4gSQLjWtic9yRJAIgOohToKE0CML5njN0sTQPZbikE1jBNAYYh7nzLNE0DLtGz9Lw4UQDXhXVstTxRAoA1PuSqQFEAKOkAXKNEUQHRmMXUlEhVA3pIi0yJTFUBJvxMxIJQVQLPrBI8d1RVAHRj27BoWFkCHROdKGFcWQPJw2KgVmBZAXJ3JBhPZFkDGybpkEBoXQDD2q8INWxdAmyKdIAucF0AFT45+CN0XQG97f9wFHhhA2qdwOgNfGEBE1GGYAKAYQK4AU/b94BhAGC1EVPshGUA=",
        "encoding": "base64",
        "path": [
         "x",
         "value"
        ]
       },
       {
        "data": "AAAAAAAAAACgGGRdOEjUP/wWNZpa4eM/9QsW7fDU7D+0UaQqCVLyPykNiEbEf/U/aFVLrGvT9z9JqvpQZTX5PxRIV6Sql/k/6/Li1Vb2+D9RpBtUzlf3P2pYQ/V9zPQ/zO1qWzRu8T+UYoRbOL7qPzRQBw3DkOE/H8WEh4LEzj/i6LbFPeSzv/jUAc7uIdm/PKrMou8l5r/S9YCcPtruvxLrc7DMKvO/ycOfuQ0m9r9rM35PpED4vx+DREA5Zfm/qHDNujSI+b/2aMnmM6j4v2VqIfQWzva/GATuEqcM9L9lQT/l13/wv7BjPO9Xl+i/wkoY8R1r3r88i50R/uXEv1jpJqQ73sM/evTKdHbs3T9sQtxqI13oP2sF/XN0ZvA/EXn++fv38z9sKQLa9b72P+Kud0I2n/g/7roYv7WF+T/EHLs+Umn5PxQ/m7crS/g/LdRnvpg29j9khsuDs0DzPydMH44HD+8/Ltoucpxh5j88nT+GVaLZPwAz7kWz9bU/QsSEw1e+zb/gYXwudVLhv8+2qkufheq/q54SSOFV8b+VZiATG7n0vwCFakggSve/aBPNY+ju+L8JOWgtx5b5v5OVftgVO/m/VdDie3bf9797oJA3r5H1v5uZQ30eafK/RT2ICpwL7b8JocKnWx7kvw7UHcAQytS/S3C4XjKRgL/4bmUAPsbTP6BEtj44pOM/rwu3ghWe7D/z9ggn1TryP1VrT1G1bfU/mDal8jjH9z9g22iOii/5PzehlztjmPk/oaGNdpv9+D+MANREVWX3P8G1iv+93/Q/ENRzO2qG8T/H4juepPbqPzNoXn7zzuE/0E1kwHnKzz/8CrjyptKxv6QdUftdodi/pVbauB3q5b8s7Fj7QaXuv94J/sDFFPO/aCcVml0V9r++cVlG9DX4v5hdoLb1YPm/B++58IiK+b/n3pU8CLH4v5R9/dkR3fa/rQJjlTAh9L8Qo4KyH5nwvzyUVUFj0ei/XZMGeJLp3r/EX4B8ne3Fv1F1+e1X1sI/5AVM15xt3T+RSbcVxiLoP7ggRIn1TPA/bEs0bS/j8z8=",
        "encoding": "base64",
        "path": [
         "y",
         "value"
        ]
       }
      ],
      "model_module": "bqplot",
      "model_module_version": "^0.5.16",
      "model_name": "LinesModel",
      "state": {
       "fill_colors": [],
       "labels": [
        "C1"
       ],
       "scales": {
        "x": "IPY_MODEL_d7edb1a0d0b24469bb142ef2a105a34a",
        "y": "IPY_MODEL_8a7ca134148f4bb98cdc2a0b6c951e68"
       },
       "x": {
        "dtype": "float64",
        "shape": [
         100
        ],
        "type": null
       },
       "y": {
        "dtype": "float64",
        "shape": [
         100
        ],
        "type": null
       }
      }
     },
     "0bd8dad058b14036a22cfee3cd246594": {
      "model_module": "bqplot",
      "model_module_version": "^0.5.16",
      "model_name": "LinearScaleModel",
      "state": {
       "stabilized": false
      }
     },
     "0c29fc40dc0946a58e1fd1252797deb7": {
      "model_module": "@jupyter-widgets/controls",
      "model_module_version": "1.5.0",
      "model_name": "DescriptionStyleModel",
      "state": {
       "description_width": ""
      }
     },
     "0c5689fa30db41bbbc0955532877a87f": {
      "model_module": "@jupyter-widgets/controls",
      "model_module_version": "1.5.0",
      "model_name": "LabelModel",
      "state": {
       "layout": "IPY_MODEL_69e510f17c384d1895e89274811da515",
       "style": "IPY_MODEL_2c9a3de8aa6f4e27b4825daad84010cc",
       "value": "[<_MainThread(MainThread, started 4744)>, <Thread(Thread-4, started daemon 12632)>, <Heartbeat(Thread-5, started daemon 12672)>, <HistorySavingThread(IPythonHistorySavingThread, started 11400)>, <ParentPollerWindows(Thread-3, started daemon 5752)>, <Thread(Thread-6, started 12224)>]"
      }
     },
     "0f3fb68768eb4beebdf23c8f2b5d6a97": {
      "model_module": "@jupyter-widgets/base",
      "model_module_version": "1.2.0",
      "model_name": "LayoutModel",
      "state": {}
     },
     "0f9322df25f74bfdaf8a23448d2fe238": {
      "model_module": "@jupyter-widgets/controls",
      "model_module_version": "1.5.0",
      "model_name": "FloatSliderModel",
      "state": {
       "layout": "IPY_MODEL_3397d733d56c4fc6b8ef95d8f4716107",
       "max": 1,
       "step": 0.1,
       "style": "IPY_MODEL_2d952691624a46a38eb114326859e173",
       "value": 0.5
      }
     },
     "0f9e946daf0c49a480c88d152e215199": {
      "model_module": "@jupyter-widgets/base",
      "model_module_version": "1.2.0",
      "model_name": "LayoutModel",
      "state": {}
     },
     "10990bfb59be48b889c641ba297a660e": {
      "model_module": "@jupyter-widgets/base",
      "model_module_version": "1.2.0",
      "model_name": "LayoutModel",
      "state": {
       "width": "100px"
      }
     },
     "110c17c9c1524135990e48447a1babce": {
      "model_module": "@jupyter-widgets/controls",
      "model_module_version": "1.5.0",
      "model_name": "SliderStyleModel",
      "state": {
       "description_width": ""
      }
     },
     "11edd45fd83c4f9da53fad0937c071f3": {
      "model_module": "@jupyter-widgets/controls",
      "model_module_version": "1.5.0",
      "model_name": "SliderStyleModel",
      "state": {
       "description_width": ""
      }
     },
     "129d6673df124cfc891eabbb81983f0c": {
      "model_module": "@jupyter-widgets/controls",
      "model_module_version": "1.5.0",
      "model_name": "ButtonModel",
      "state": {
       "button_style": "warning",
       "description": "stop",
       "icon": "stop",
       "layout": "IPY_MODEL_da9ca1346ae347d6a88aed4a3fbcbb1f",
       "style": "IPY_MODEL_a31b9cd205e14e278364137f2a61dd5d"
      }
     },
     "1350aeef028642f19a039c0cccefe9f8": {
      "model_module": "bqplot",
      "model_module_version": "^0.5.16",
      "model_name": "LinearScaleModel",
      "state": {
       "stabilized": false
      }
     },
     "146d593cafb246a5966239c4e5332be4": {
      "model_module": "bqplot",
      "model_module_version": "^0.5.16",
      "model_name": "FigureModel",
      "state": {
       "axes": [
        "IPY_MODEL_beb083e889044d0e94f1f5aab15216f6",
        "IPY_MODEL_681b8b1b7b7d48ddafe5b0681b4d8eca"
       ],
       "fig_margin": {
        "bottom": 40,
        "left": 50,
        "right": 10,
        "top": 10
       },
       "layout": "IPY_MODEL_e1af0b0f09a14552bcc12222adc7f390",
       "marks": [
        "IPY_MODEL_36f7fa6477d742cb9842c353dae24923"
       ],
       "scale_x": "IPY_MODEL_2f72dfca5da84313aa683f483a343422",
       "scale_y": "IPY_MODEL_65a6a27fd3a9486580e0a035a6f2e25e"
      }
     },
     "16afa3e10b8b4f24be1daa4c731170aa": {
      "model_module": "@jupyter-widgets/base",
      "model_module_version": "1.2.0",
      "model_name": "LayoutModel",
      "state": {}
     },
     "16e76d95e1df4ed79c65aa7abbe6320a": {
      "model_module": "@jupyter-widgets/controls",
      "model_module_version": "1.5.0",
      "model_name": "DescriptionStyleModel",
      "state": {
       "description_width": ""
      }
     },
     "17537640fff6485bafd09ad7f5f99a27": {
      "model_module": "@jupyter-widgets/base",
      "model_module_version": "1.2.0",
      "model_name": "LayoutModel",
      "state": {}
     },
     "17cb9686ffdd4f9589e029a3ba8e8c67": {
      "model_module": "@jupyter-widgets/controls",
      "model_module_version": "1.5.0",
      "model_name": "SliderStyleModel",
      "state": {
       "description_width": ""
      }
     },
     "1859b3556aa64edb999086ec65b52ff7": {
      "model_module": "@jupyter-widgets/base",
      "model_module_version": "1.2.0",
      "model_name": "LayoutModel",
      "state": {}
     },
     "1b4e65317f9d4270b266eae476f25cf1": {
      "model_module": "@jupyter-widgets/controls",
      "model_module_version": "1.5.0",
      "model_name": "SliderStyleModel",
      "state": {
       "description_width": ""
      }
     },
     "1c0d2fae38db426d89edc4116f562d65": {
      "model_module": "bqplot",
      "model_module_version": "^0.5.16",
      "model_name": "FigureModel",
      "state": {
       "axes": [
        "IPY_MODEL_08d6651e6b834cae90561bf2330ce64c",
        "IPY_MODEL_bf2783bd759344ea8de2d16362ea08a6"
       ],
       "fig_margin": {
        "bottom": 40,
        "left": 50,
        "right": 10,
        "top": 10
       },
       "layout": "IPY_MODEL_a7195d7759d744d2b730ee7bb88b7e80",
       "marks": [
        "IPY_MODEL_273010fb2bd544f2ac586c45ebe03be4"
       ],
       "scale_x": "IPY_MODEL_29126d60dc814f80a837fa7e9a39f15b",
       "scale_y": "IPY_MODEL_bead0f3663ce42aeb56e5d81561c71df"
      }
     },
     "1c4a46f9e3034829b435497bbe31ec0d": {
      "model_module": "@jupyter-widgets/controls",
      "model_module_version": "1.5.0",
      "model_name": "ButtonModel",
      "state": {
       "button_style": "warning",
       "description": "stop",
       "icon": "stop",
       "layout": "IPY_MODEL_b5798a475463408882063bd98746369a",
       "style": "IPY_MODEL_bfe360095abb41fd9408abc8c184ba9e"
      }
     },
     "1dba771d3ded4ba5a5318eb819e2b558": {
      "model_module": "bqplot",
      "model_module_version": "^0.5.16",
      "model_name": "AxisModel",
      "state": {
       "label": "x(t)",
       "scale": "IPY_MODEL_d7edb1a0d0b24469bb142ef2a105a34a",
       "side": "bottom",
       "tick_values": null
      }
     },
     "1e24e7f594cc4c5daa25f2ab65264a58": {
      "model_module": "@jupyter-widgets/controls",
      "model_module_version": "1.5.0",
      "model_name": "ButtonStyleModel",
      "state": {}
     },
     "1edbbf4964754686853f5a9bbea0152e": {
      "model_module": "@jupyter-widgets/base",
      "model_module_version": "1.2.0",
      "model_name": "LayoutModel",
      "state": {}
     },
     "1f3d775f92c84ad1969d2de32693d4a3": {
      "model_module": "bqplot",
      "model_module_version": "^0.5.16",
      "model_name": "LinearScaleModel",
      "state": {
       "stabilized": false
      }
     },
     "20300e7be89e4910ba2cd5299a49a797": {
      "model_module": "@jupyter-widgets/controls",
      "model_module_version": "1.5.0",
      "model_name": "LabelModel",
      "state": {
       "layout": "IPY_MODEL_483693175c47452882867762d4211a05",
       "style": "IPY_MODEL_0349b9bd4d0e4bb2ab0bf78b937f85fc",
       "value": "Thread On"
      }
     },
     "213a9cb2aa7747c7934e99f0c602f65e": {
      "model_module": "bqplot",
      "model_module_version": "^0.5.16",
      "model_name": "AxisModel",
      "state": {
       "label": "x(t)",
       "scale": "IPY_MODEL_1f3d775f92c84ad1969d2de32693d4a3",
       "side": "bottom",
       "tick_values": null
      }
     },
     "217b09d0e3994a3496826c660d9cb959": {
      "model_module": "@jupyter-widgets/controls",
      "model_module_version": "1.5.0",
      "model_name": "LabelModel",
      "state": {
       "layout": "IPY_MODEL_468ce92d325b474eaff3df9b61272565",
       "style": "IPY_MODEL_c59644578d0a46bc83ffae9fa96a739a"
      }
     },
     "23d7f901c8ad487fa432f76b637b6310": {
      "model_module": "bqplot",
      "model_module_version": "^0.5.16",
      "model_name": "AxisModel",
      "state": {
       "label": "y(t)",
       "orientation": "vertical",
       "scale": "IPY_MODEL_66a63d31b5414ee7a85e4f609859335d",
       "side": "left",
       "tick_values": null
      }
     },
     "23d895f590364672b21c19f4e76a9a9c": {
      "model_module": "@jupyter-widgets/controls",
      "model_module_version": "1.5.0",
      "model_name": "ButtonStyleModel",
      "state": {}
     },
     "252c90a4e482497db09124096ffe9f36": {
      "model_module": "@jupyter-widgets/base",
      "model_module_version": "1.2.0",
      "model_name": "LayoutModel",
      "state": {}
     },
     "253201d0f86d44c093b99a78a1a461d8": {
      "model_module": "@jupyter-widgets/controls",
      "model_module_version": "1.5.0",
      "model_name": "FloatSliderModel",
      "state": {
       "layout": "IPY_MODEL_47500cc15abd4c9e95ed8c777fb3bcda",
       "max": 5,
       "step": 0.1,
       "style": "IPY_MODEL_17cb9686ffdd4f9589e029a3ba8e8c67",
       "value": 1
      }
     },
     "25c839532b664f078e94e29c6b042ea0": {
      "model_module": "@jupyter-widgets/controls",
      "model_module_version": "1.5.0",
      "model_name": "LabelModel",
      "state": {
       "layout": "IPY_MODEL_de65ed6665ef4a30a99622e7fbadaf34",
       "style": "IPY_MODEL_33f96bfbf07444c9a066cdb813161031",
       "value": "[<_MainThread(MainThread, started 12064)>, <Thread(Thread-4, started daemon 9756)>, <Heartbeat(Thread-5, started daemon 9708)>, <HistorySavingThread(IPythonHistorySavingThread, started 8588)>, <ParentPollerWindows(Thread-3, started daemon 13076)>, <Thread(Thread-6, started 4944)>]"
      }
     },
     "26433f24e89e432b816ce00895259bd4": {
      "model_module": "bqplot",
      "model_module_version": "^0.5.16",
      "model_name": "FigureModel",
      "state": {
       "axes": [
        "IPY_MODEL_3f74e9c06fc648b5a0cc89c34a4a4e59",
        "IPY_MODEL_dcd443e5e0784010b5f5576032a34a79"
       ],
       "fig_margin": {
        "bottom": 40,
        "left": 50,
        "right": 10,
        "top": 10
       },
       "layout": "IPY_MODEL_08d367cb4bf64e4b887ad34bae385aae",
       "marks": [
        "IPY_MODEL_b1e7c10dabd84effb316ac615c2ad0c0"
       ],
       "scale_x": "IPY_MODEL_4a3e1285ad5d47c6a23d8ca410ed51b7",
       "scale_y": "IPY_MODEL_b33a5b1aa0c44e69a377ef822979eb65"
      }
     },
     "26ff17e0f9d9424fb239e3da08b220ce": {
      "buffers": [
       {
        "data": "AAAAAAAAAACRGkt8Vz+wP5EaS3xXP8A/2qdwOgNfyD+RGkt8Vz/QPzXhXVstT9Q/2qdwOgNf2D9+boMZ2W7cP5EaS3xXP+A/433Ua0JH4j814V1bLU/kP4dE50oYV+Y/2qdwOgNf6D8sC/op7mbqP35ugxnZbuw/0NEMCcR27j+RGkt8Vz/wPzrMD/RMQ/E/433Ua0JH8j+ML5njN0vzPzXhXVstT/Q/3pIi0yJT9T+HROdKGFf2PzD2q8INW/c/2qdwOgNf+D+DWTWy+GL5PywL+inuZvo/1by+oeNq+z9+boMZ2W78PycgSJHOcv0/0NEMCcR2/j95g9GAuXr/P5EaS3xXPwBAZnMtOFLBAEA6zA/0TEMBQA8l8q9HxQFA433Ua0JHAkC41rYnPckCQIwvmeM3SwNAYYh7nzLNA0A14V1bLU8EQAo6QBco0QRA3pIi0yJTBUCz6wSPHdUFQIdE50oYVwZAXJ3JBhPZBkAw9qvCDVsHQAVPjn4I3QdA2qdwOgNfCECuAFP2/eAIQINZNbL4YglAV7IXbvPkCUAsC/op7mYKQABk3OXo6ApA1by+oeNqC0CpFaFd3uwLQH5ugxnZbgxAUsdl1dPwDEAnIEiRznINQPt4Kk3J9A1A0NEMCcR2DkCkKu/EvvgOQHmD0YC5eg9ATdyzPLT8D0CRGkt8Vz8QQPtGPNpUgBBAZnMtOFLBEEDQnx6WTwIRQDrMD/RMQxFApPgAUkqEEUAPJfKvR8URQHlR4w1FBhJA433Ua0JHEkBNqsXJP4gSQLjWtic9yRJAIgOohToKE0CML5njN0sTQPZbikE1jBNAYYh7nzLNE0DLtGz9Lw4UQDXhXVstTxRAoA1PuSqQFEAKOkAXKNEUQHRmMXUlEhVA3pIi0yJTFUBJvxMxIJQVQLPrBI8d1RVAHRj27BoWFkCHROdKGFcWQPJw2KgVmBZAXJ3JBhPZFkDGybpkEBoXQDD2q8INWxdAmyKdIAucF0AFT45+CN0XQG97f9wFHhhA2qdwOgNfGEBE1GGYAKAYQK4AU/b94BhAGC1EVPshGUA=",
        "encoding": "base64",
        "path": [
         "x",
         "value"
        ]
       },
       {
        "data": "AAAAAAAAAADHHr10RlrJP7pcwkCx2dg/ecctlBYF4j8hZk11i+bmP3MQKli13+o/wSpel0bI7T/bVDmlvoLvPxkabU2V/e8/pa9bi+wz7z9ljSLpwS3tP4QulHKd/+k/P6lFcsHJ5T+cvTI547bgP0EkSdDz9NU/M/uylNE6wz8aoyQ3Td2ovzZKgoFqas+/y9R/i2uv27+jmdAhZ0jjv9blkNx/9ee/u7QHKJGv679FwF1jzVDuv+ajVZCHvu+/0cyA6UHq778zw3vgQNLuv/7EKbGcgey/HoWp19AP6b++EY/ezZ/kv5t8C+stvd6/uS6vtvIC078K7gSWfR+6v66jMI3K1bg/zNj+CMqz0j8GU5NFbHTeP8VG/JARgOQ/VRd++Pr16D/Gs4JQs27sP5qaFdMDx+4/qeneLiPn7z/042nOpsPvP9gOgqX2Xe4/OMkB7j7E6z/9Z75k4BDoP5iP07hkaeM/uZC6jgP62z9FwudzdQXQP7+/aRcgc6s/qfoy2vaWwr9Yeht6EqfVv0GySo+Dk+C/VkYXmlmr5b86gOjXYefpv0AmhVqoHO2/QVjAfKIq779LR8L4ePzvv/c6nk7bie+/aoTbGlTX7b+ZyHQFG/bqvwGAlBxmA+e/SyaVhkEn4r9LSbOR8iXZvxFJJfCU/Mm/Xoxm9n61dL+2yn6AzbfIP8jVY05Gjdg/TWeycc3i4T+vNMtwisnmPypGo6Uiyeo/PoROLwe57T84EgMybXvvP4SJfQp8/u8/CQoxVAI97z+vAAmWqj7tPzFjbX+tF+o/FMlQygTo5T+8beXiJtrgPz8C9l2wQtY/orA+GIzewz+7DWavUEemvwxlJXq1yc6/TuwQJ6Vk27+bkxc9SSfjv1WMPTH32ee/QXGaALWa678tzu9XcUPuv/10SCQzue+/yGroLCvt77+gVrtLSt3uv/ncfFBWlOy/WMO7unwp6b/USyOfZ7/kv0v5qhG8Bd+/GhwEi/tR07+1d6DbBGm7v6XSd+nti7c/roOPBoJk0j/1GyWbdyveP+YolesyYOQ/Rl6BSPvb6D8=",
        "encoding": "base64",
        "path": [
         "y",
         "value"
        ]
       }
      ],
      "model_module": "bqplot",
      "model_module_version": "^0.5.16",
      "model_name": "LinesModel",
      "state": {
       "fill_colors": [],
       "labels": [
        "C1"
       ],
       "scales": {
        "x": "IPY_MODEL_afeae614fba941de917f0fbc3cc80946",
        "y": "IPY_MODEL_7c54ea6495ff4483bc79b57b9ddeb26a"
       },
       "x": {
        "dtype": "float64",
        "shape": [
         100
        ],
        "type": null
       },
       "y": {
        "dtype": "float64",
        "shape": [
         100
        ],
        "type": null
       }
      }
     },
     "273010fb2bd544f2ac586c45ebe03be4": {
      "buffers": [
       {
        "data": "",
        "encoding": "base64",
        "path": [
         "x",
         "value"
        ]
       },
       {
        "data": "",
        "encoding": "base64",
        "path": [
         "y",
         "value"
        ]
       }
      ],
      "model_module": "bqplot",
      "model_module_version": "^0.5.16",
      "model_name": "LinesModel",
      "state": {
       "fill_colors": [],
       "scales": {
        "x": "IPY_MODEL_e6f61226d1e34c4a932e2747aec84e22",
        "y": "IPY_MODEL_b7cd1604995c42d681d265a402149409"
       },
       "x": {
        "dtype": "float64",
        "shape": [
         0
        ],
        "type": null
       },
       "y": {
        "dtype": "float64",
        "shape": [
         0
        ],
        "type": null
       }
      }
     },
     "276e1b9663094ce39f306f3f01d47e70": {
      "model_module": "@jupyter-widgets/controls",
      "model_module_version": "1.5.0",
      "model_name": "ButtonModel",
      "state": {
       "button_style": "warning",
       "description": "stop",
       "icon": "stop",
       "layout": "IPY_MODEL_449b1f034300482493057c8f47c6b94a",
       "style": "IPY_MODEL_1e24e7f594cc4c5daa25f2ab65264a58"
      }
     },
     "29126d60dc814f80a837fa7e9a39f15b": {
      "model_module": "bqplot",
      "model_module_version": "^0.5.16",
      "model_name": "LinearScaleModel",
      "state": {
       "allow_padding": false,
       "max": 1,
       "min": 0,
       "stabilized": false
      }
     },
     "2b83220e40794877a6a336ef252b873b": {
      "model_module": "@jupyter-widgets/controls",
      "model_module_version": "1.5.0",
      "model_name": "ButtonStyleModel",
      "state": {}
     },
     "2b917a8b54b8489bb91e0dd991027a02": {
      "model_module": "@jupyter-widgets/controls",
      "model_module_version": "1.5.0",
      "model_name": "VBoxModel",
      "state": {
       "children": [
        "IPY_MODEL_1c0d2fae38db426d89edc4116f562d65",
        "IPY_MODEL_5b27cf7029eb45738067bca3dbd12060",
        "IPY_MODEL_503afd0b0b43490f9f391f9e8c0ad4f5",
        "IPY_MODEL_cbcbef3ceaab46c285e1721d188150ae",
        "IPY_MODEL_129d6673df124cfc891eabbb81983f0c",
        "IPY_MODEL_dec203790eaf4467bfd4aa8e80e6db0d"
       ],
       "layout": "IPY_MODEL_d6a466b04ae14335a1f27c24d55b2aeb"
      }
     },
     "2be09625ce544bf4acd2ac39d243a1b2": {
      "model_module": "@jupyter-widgets/base",
      "model_module_version": "1.2.0",
      "model_name": "LayoutModel",
      "state": {}
     },
     "2bf9cb4b0a4f4d62bd4175458b3df715": {
      "model_module": "@jupyter-widgets/controls",
      "model_module_version": "1.5.0",
      "model_name": "SliderStyleModel",
      "state": {
       "description_width": ""
      }
     },
     "2c9a3de8aa6f4e27b4825daad84010cc": {
      "model_module": "@jupyter-widgets/controls",
      "model_module_version": "1.5.0",
      "model_name": "DescriptionStyleModel",
      "state": {
       "description_width": ""
      }
     },
     "2d69635a12d44b7284826666c7aa6285": {
      "model_module": "@jupyter-widgets/base",
      "model_module_version": "1.2.0",
      "model_name": "LayoutModel",
      "state": {
       "height": "300px",
       "width": "500px"
      }
     },
     "2d952691624a46a38eb114326859e173": {
      "model_module": "@jupyter-widgets/controls",
      "model_module_version": "1.5.0",
      "model_name": "SliderStyleModel",
      "state": {
       "description_width": ""
      }
     },
     "2e264705c9b349d3b78a9bb367da5039": {
      "model_module": "bqplot",
      "model_module_version": "^0.5.16",
      "model_name": "LinearScaleModel",
      "state": {
       "allow_padding": false,
       "max": 1,
       "min": 0,
       "stabilized": false
      }
     },
     "2e469c949b554a7e9e26b028f9952cc4": {
      "model_module": "@jupyter-widgets/controls",
      "model_module_version": "1.5.0",
      "model_name": "LabelModel",
      "state": {
       "layout": "IPY_MODEL_d20d392edfb84cc39a06708bdbc06420",
       "style": "IPY_MODEL_035b8e4e864047648056e2e214af0fbf",
       "value": "Thread Off"
      }
     },
     "2e81e2edfc4c471882947050516fb74e": {
      "model_module": "bqplot",
      "model_module_version": "^0.5.16",
      "model_name": "AxisModel",
      "state": {
       "label": "y(t)",
       "orientation": "vertical",
       "scale": "IPY_MODEL_7c54ea6495ff4483bc79b57b9ddeb26a",
       "side": "left",
       "tick_values": null
      }
     },
     "2f4cdf42304b42d5ac55f678693bea1a": {
      "model_module": "@jupyter-widgets/controls",
      "model_module_version": "1.5.0",
      "model_name": "ButtonModel",
      "state": {
       "button_style": "warning",
       "description": "stop",
       "icon": "stop",
       "layout": "IPY_MODEL_49785072fbf342bf844479f534137812",
       "style": "IPY_MODEL_629871adbe0240a4a9d74141821114b2"
      }
     },
     "2f72dfca5da84313aa683f483a343422": {
      "model_module": "bqplot",
      "model_module_version": "^0.5.16",
      "model_name": "LinearScaleModel",
      "state": {
       "allow_padding": false,
       "max": 1,
       "min": 0,
       "stabilized": false
      }
     },
     "31d8e554822f4f7682b5c6d7de047fd7": {
      "model_module": "@jupyter-widgets/controls",
      "model_module_version": "1.5.0",
      "model_name": "FloatSliderModel",
      "state": {
       "layout": "IPY_MODEL_b756777ef70941e8966c7dc90577875f",
       "max": 1,
       "step": 0.1,
       "style": "IPY_MODEL_3c5291ae45414d8b85192570a40db09c",
       "value": 0.5
      }
     },
     "327a9a727b3948ffba3e730564ec0657": {
      "model_module": "@jupyter-widgets/controls",
      "model_module_version": "1.5.0",
      "model_name": "DescriptionStyleModel",
      "state": {
       "description_width": ""
      }
     },
     "335d112accad4bb8869ad8f24f2f8a4d": {
      "model_module": "@jupyter-widgets/controls",
      "model_module_version": "1.5.0",
      "model_name": "LabelModel",
      "state": {
       "layout": "IPY_MODEL_e339331645624ff2aac3d3a68b6c2b46",
       "style": "IPY_MODEL_40585a35102d4ecd959e7635ff71100d",
       "value": "[<_MainThread(MainThread, started 7964)>, <Thread(Thread-4, started daemon 9812)>, <Heartbeat(Thread-5, started daemon 8132)>, <HistorySavingThread(IPythonHistorySavingThread, started 2932)>, <ParentPollerWindows(Thread-3, started daemon 8652)>, <Thread(work_thread, started 10936)>]"
      }
     },
     "3397d733d56c4fc6b8ef95d8f4716107": {
      "model_module": "@jupyter-widgets/base",
      "model_module_version": "1.2.0",
      "model_name": "LayoutModel",
      "state": {}
     },
     "33f96bfbf07444c9a066cdb813161031": {
      "model_module": "@jupyter-widgets/controls",
      "model_module_version": "1.5.0",
      "model_name": "DescriptionStyleModel",
      "state": {
       "description_width": ""
      }
     },
     "34ac233183404ae6a34011325ce5a040": {
      "model_module": "@jupyter-widgets/controls",
      "model_module_version": "1.5.0",
      "model_name": "LabelModel",
      "state": {
       "layout": "IPY_MODEL_d426d358e1164905a0f6075c279be544",
       "style": "IPY_MODEL_e06fba5afebc4729b624b7fb49aa1399",
       "value": "[<_MainThread(MainThread, started 11408)>, <Thread(Thread-4, started daemon 2928)>, <Heartbeat(Thread-5, started daemon 6704)>, <HistorySavingThread(IPythonHistorySavingThread, started 10572)>, <ParentPollerWindows(Thread-3, started daemon 11036)>, <Thread(work, started 8232)>]"
      }
     },
     "351f279c182140bcbdc03c6b456f4203": {
      "model_module": "@jupyter-widgets/controls",
      "model_module_version": "1.5.0",
      "model_name": "VBoxModel",
      "state": {
       "children": [
        "IPY_MODEL_f32964c3a47441499df88989e0bcd4fa",
        "IPY_MODEL_a9fbe605d21a4bcaad4b455e6b9d0464",
        "IPY_MODEL_c9a6a3480e094f5fad0f3181bf631241",
        "IPY_MODEL_85b952c5c631460082a934ddabed3a79",
        "IPY_MODEL_2f4cdf42304b42d5ac55f678693bea1a",
        "IPY_MODEL_0c5689fa30db41bbbc0955532877a87f"
       ],
       "layout": "IPY_MODEL_4a634fe3ad174e628313eb7ca3860eb0"
      }
     },
     "353852d06961403b9dfc1a47da9db66f": {
      "model_module": "@jupyter-widgets/controls",
      "model_module_version": "1.5.0",
      "model_name": "LabelModel",
      "state": {
       "layout": "IPY_MODEL_fd195aa53f6f4929bbdf563a8f992494",
       "style": "IPY_MODEL_d95019922ba94bdda69008acac0b47c3",
       "value": "Thread On"
      }
     },
     "36878d9606b54350b1819d0f63a92841": {
      "model_module": "@jupyter-widgets/base",
      "model_module_version": "1.2.0",
      "model_name": "LayoutModel",
      "state": {}
     },
     "36f7fa6477d742cb9842c353dae24923": {
      "buffers": [
       {
        "data": "AAAAAAAAAACRGkt8Vz+wP5EaS3xXP8A/2qdwOgNfyD+RGkt8Vz/QPzXhXVstT9Q/2qdwOgNf2D9+boMZ2W7cP5EaS3xXP+A/433Ua0JH4j814V1bLU/kP4dE50oYV+Y/2qdwOgNf6D8sC/op7mbqP35ugxnZbuw/0NEMCcR27j+RGkt8Vz/wPzrMD/RMQ/E/433Ua0JH8j+ML5njN0vzPzXhXVstT/Q/3pIi0yJT9T+HROdKGFf2PzD2q8INW/c/2qdwOgNf+D+DWTWy+GL5PywL+inuZvo/1by+oeNq+z9+boMZ2W78PycgSJHOcv0/0NEMCcR2/j95g9GAuXr/P5EaS3xXPwBAZnMtOFLBAEA6zA/0TEMBQA8l8q9HxQFA433Ua0JHAkC41rYnPckCQIwvmeM3SwNAYYh7nzLNA0A14V1bLU8EQAo6QBco0QRA3pIi0yJTBUCz6wSPHdUFQIdE50oYVwZAXJ3JBhPZBkAw9qvCDVsHQAVPjn4I3QdA2qdwOgNfCECuAFP2/eAIQINZNbL4YglAV7IXbvPkCUAsC/op7mYKQABk3OXo6ApA1by+oeNqC0CpFaFd3uwLQH5ugxnZbgxAUsdl1dPwDEAnIEiRznINQPt4Kk3J9A1A0NEMCcR2DkCkKu/EvvgOQHmD0YC5eg9ATdyzPLT8D0CRGkt8Vz8QQPtGPNpUgBBAZnMtOFLBEEDQnx6WTwIRQDrMD/RMQxFApPgAUkqEEUAPJfKvR8URQHlR4w1FBhJA433Ua0JHEkBNqsXJP4gSQLjWtic9yRJAIgOohToKE0CML5njN0sTQPZbikE1jBNAYYh7nzLNE0DLtGz9Lw4UQDXhXVstTxRAoA1PuSqQFEAKOkAXKNEUQHRmMXUlEhVA3pIi0yJTFUBJvxMxIJQVQLPrBI8d1RVAHRj27BoWFkCHROdKGFcWQPJw2KgVmBZAXJ3JBhPZFkDGybpkEBoXQDD2q8INWxdAmyKdIAucF0AFT45+CN0XQG97f9wFHhhA2qdwOgNfGEBE1GGYAKAYQK4AU/b94BhAGC1EVPshGUA=",
        "encoding": "base64",
        "path": [
         "x",
         "value"
        ]
       },
       {
        "data": "AAAAAAAAAADHHr10RlrJP7pcwkCx2dg/ecctlBYF4j8hZk11i+bmP3MQKli13+o/wSpel0bI7T/bVDmlvoLvPxkabU2V/e8/pa9bi+wz7z9ljSLpwS3tP4QulHKd/+k/P6lFcsHJ5T+cvTI547bgP0EkSdDz9NU/M/uylNE6wz8aoyQ3Td2ovzZKgoFqas+/y9R/i2uv27+jmdAhZ0jjv9blkNx/9ee/u7QHKJGv679FwF1jzVDuv+ajVZCHvu+/0cyA6UHq778zw3vgQNLuv/7EKbGcgey/HoWp19AP6b++EY/ezZ/kv5t8C+stvd6/uS6vtvIC078K7gSWfR+6v66jMI3K1bg/zNj+CMqz0j8GU5NFbHTeP8VG/JARgOQ/VRd++Pr16D/Gs4JQs27sP5qaFdMDx+4/qeneLiPn7z/042nOpsPvP9gOgqX2Xe4/OMkB7j7E6z/9Z75k4BDoP5iP07hkaeM/uZC6jgP62z9FwudzdQXQP7+/aRcgc6s/qfoy2vaWwr9Yeht6EqfVv0GySo+Dk+C/VkYXmlmr5b86gOjXYefpv0AmhVqoHO2/QVjAfKIq779LR8L4ePzvv/c6nk7bie+/aoTbGlTX7b+ZyHQFG/bqvwGAlBxmA+e/SyaVhkEn4r9LSbOR8iXZvxFJJfCU/Mm/Xoxm9n61dL+2yn6AzbfIP8jVY05Gjdg/TWeycc3i4T+vNMtwisnmPypGo6Uiyeo/PoROLwe57T84EgMybXvvP4SJfQp8/u8/CQoxVAI97z+vAAmWqj7tPzFjbX+tF+o/FMlQygTo5T+8beXiJtrgPz8C9l2wQtY/orA+GIzewz+7DWavUEemvwxlJXq1yc6/TuwQJ6Vk27+bkxc9SSfjv1WMPTH32ee/QXGaALWa678tzu9XcUPuv/10SCQzue+/yGroLCvt77+gVrtLSt3uv/ncfFBWlOy/WMO7unwp6b/USyOfZ7/kv0v5qhG8Bd+/GhwEi/tR07+1d6DbBGm7v6XSd+nti7c/roOPBoJk0j/1GyWbdyveP+YolesyYOQ/Rl6BSPvb6D8=",
        "encoding": "base64",
        "path": [
         "y",
         "value"
        ]
       }
      ],
      "model_module": "bqplot",
      "model_module_version": "^0.5.16",
      "model_name": "LinesModel",
      "state": {
       "fill_colors": [],
       "labels": [
        "C1"
       ],
       "scales": {
        "x": "IPY_MODEL_1350aeef028642f19a039c0cccefe9f8",
        "y": "IPY_MODEL_4dbac15c56154e7dafb3110d983be9e0"
       },
       "x": {
        "dtype": "float64",
        "shape": [
         100
        ],
        "type": null
       },
       "y": {
        "dtype": "float64",
        "shape": [
         100
        ],
        "type": null
       }
      }
     },
     "36ff90e3eed74fdf8ab0f3739c731417": {
      "model_module": "bqplot",
      "model_module_version": "^0.5.16",
      "model_name": "FigureModel",
      "state": {
       "axes": [
        "IPY_MODEL_62b72e7a07fb4683b752fa357e90d456",
        "IPY_MODEL_dce278aa9e98409a95652901f4011378"
       ],
       "fig_margin": {
        "bottom": 40,
        "left": 50,
        "right": 10,
        "top": 10
       },
       "layout": "IPY_MODEL_efb1027f84854bd7a43501e1c72f5dd8",
       "marks": [
        "IPY_MODEL_a64b1d57ddc84e67aaa97d466a8d7282"
       ],
       "scale_x": "IPY_MODEL_2e264705c9b349d3b78a9bb367da5039",
       "scale_y": "IPY_MODEL_9c648b6292e94b1087ae874bbd37276b"
      }
     },
     "37664dfc44c84590aa0022321a3b2e70": {
      "model_module": "@jupyter-widgets/controls",
      "model_module_version": "1.5.0",
      "model_name": "VBoxModel",
      "state": {
       "children": [
        "IPY_MODEL_b51a7ed3fdad4d0687fd8e5413d7ecb0",
        "IPY_MODEL_cc0aa209c2044397bf11ed358050e435",
        "IPY_MODEL_31d8e554822f4f7682b5c6d7de047fd7",
        "IPY_MODEL_b19fa76cf1484500b0ff5fa4b3a93d9d",
        "IPY_MODEL_8a5365638b16436cb88a2dcd59abe50a",
        "IPY_MODEL_335d112accad4bb8869ad8f24f2f8a4d"
       ],
       "layout": "IPY_MODEL_c7207f97449d402cb766d12c7a3bd682"
      }
     },
     "37a099b7d46244c9afb5216b4fe959db": {
      "model_module": "@jupyter-widgets/controls",
      "model_module_version": "1.5.0",
      "model_name": "SliderStyleModel",
      "state": {
       "description_width": ""
      }
     },
     "394bf96f9d3e45d8bf254fc4c6e9e275": {
      "model_module": "@jupyter-widgets/controls",
      "model_module_version": "1.5.0",
      "model_name": "VBoxModel",
      "state": {
       "children": [
        "IPY_MODEL_686f680284a6457e80fe1a572197d17e",
        "IPY_MODEL_9f1b01e9d64d42dca56ce1262407f9c7",
        "IPY_MODEL_4e232b956cc74052a755d70d101ed220",
        "IPY_MODEL_ac542c6465b04bdd962e810d4e912daf",
        "IPY_MODEL_057ded67cb4f474d84d6ba4a22c95ca7",
        "IPY_MODEL_0b0e88093c4b4d15a5c29880741de9b6"
       ],
       "layout": "IPY_MODEL_96292d9cceba45eea36d09a9512c5eee"
      }
     },
     "39f77c66838e4ddd8e8fa28187a5344d": {
      "model_module": "@jupyter-widgets/base",
      "model_module_version": "1.2.0",
      "model_name": "LayoutModel",
      "state": {}
     },
     "3a6a3d94130b417580f4db67f6d2fe9e": {
      "model_module": "@jupyter-widgets/base",
      "model_module_version": "1.2.0",
      "model_name": "LayoutModel",
      "state": {}
     },
     "3af02c36ba0f49c8bf6f736fa5936c82": {
      "model_module": "@jupyter-widgets/controls",
      "model_module_version": "1.5.0",
      "model_name": "SliderStyleModel",
      "state": {
       "description_width": ""
      }
     },
     "3b0cbe72834f47c18e4c5f4876717c80": {
      "model_module": "@jupyter-widgets/controls",
      "model_module_version": "1.5.0",
      "model_name": "DescriptionStyleModel",
      "state": {
       "description_width": ""
      }
     },
     "3c5291ae45414d8b85192570a40db09c": {
      "model_module": "@jupyter-widgets/controls",
      "model_module_version": "1.5.0",
      "model_name": "SliderStyleModel",
      "state": {
       "description_width": ""
      }
     },
     "3ece5d6a8b0147088658d132b3ff883a": {
      "model_module": "@jupyter-widgets/controls",
      "model_module_version": "1.5.0",
      "model_name": "LabelModel",
      "state": {
       "layout": "IPY_MODEL_8cb04afb7c5e45ab9bfdc312895615df",
       "style": "IPY_MODEL_6a19b393054447eebc4cd381bf11e578",
       "value": "Thread On"
      }
     },
     "3f74e9c06fc648b5a0cc89c34a4a4e59": {
      "model_module": "bqplot",
      "model_module_version": "^0.5.16",
      "model_name": "AxisModel",
      "state": {
       "label": "x(t)",
       "scale": "IPY_MODEL_b468cc961210428797008fc1ebd61532",
       "side": "bottom",
       "tick_values": null
      }
     },
     "3ff9855f320e401f8c064a8630135d0d": {
      "model_module": "bqplot",
      "model_module_version": "^0.5.16",
      "model_name": "LinearScaleModel",
      "state": {
       "allow_padding": false,
       "max": 1,
       "min": 0,
       "stabilized": false
      }
     },
     "40585a35102d4ecd959e7635ff71100d": {
      "model_module": "@jupyter-widgets/controls",
      "model_module_version": "1.5.0",
      "model_name": "DescriptionStyleModel",
      "state": {
       "description_width": ""
      }
     },
     "40e60d69f0b740d49339d4b9a0192a4f": {
      "model_module": "bqplot",
      "model_module_version": "^0.5.16",
      "model_name": "FigureModel",
      "state": {
       "axes": [
        "IPY_MODEL_1dba771d3ded4ba5a5318eb819e2b558",
        "IPY_MODEL_44fc1e830803488d96b99abbc08dd117"
       ],
       "fig_margin": {
        "bottom": 40,
        "left": 50,
        "right": 10,
        "top": 10
       },
       "layout": "IPY_MODEL_9e45a8fbb6494b53b939a5570a1c2b07",
       "marks": [
        "IPY_MODEL_0bd6a78d9cf94e48bf1b2e68521d658a"
       ],
       "scale_x": "IPY_MODEL_9a1a405d050043f99a50d9cfa4a86235",
       "scale_y": "IPY_MODEL_c82a46bca74d47b9ada7fc09da0e476e"
      }
     },
     "41466cb77f574eecb8651df18c842997": {
      "model_module": "@jupyter-widgets/base",
      "model_module_version": "1.2.0",
      "model_name": "LayoutModel",
      "state": {}
     },
     "42dde8a20be045519e6881a62e2a5dc1": {
      "model_module": "@jupyter-widgets/controls",
      "model_module_version": "1.5.0",
      "model_name": "SliderStyleModel",
      "state": {
       "description_width": ""
      }
     },
     "43ca0e4a7d1d4dc7be9f706281207ad5": {
      "model_module": "@jupyter-widgets/base",
      "model_module_version": "1.2.0",
      "model_name": "LayoutModel",
      "state": {}
     },
     "449b1f034300482493057c8f47c6b94a": {
      "model_module": "@jupyter-widgets/base",
      "model_module_version": "1.2.0",
      "model_name": "LayoutModel",
      "state": {
       "width": "100px"
      }
     },
     "44f931f0b3d14285854105231a2f5082": {
      "model_module": "@jupyter-widgets/controls",
      "model_module_version": "1.5.0",
      "model_name": "DescriptionStyleModel",
      "state": {
       "description_width": ""
      }
     },
     "44fc1e830803488d96b99abbc08dd117": {
      "model_module": "bqplot",
      "model_module_version": "^0.5.16",
      "model_name": "AxisModel",
      "state": {
       "label": "y(t)",
       "orientation": "vertical",
       "scale": "IPY_MODEL_8a7ca134148f4bb98cdc2a0b6c951e68",
       "side": "left",
       "tick_values": null
      }
     },
     "468ce92d325b474eaff3df9b61272565": {
      "model_module": "@jupyter-widgets/base",
      "model_module_version": "1.2.0",
      "model_name": "LayoutModel",
      "state": {}
     },
     "46e926b4f285447d91ccf94e3f487168": {
      "model_module": "@jupyter-widgets/controls",
      "model_module_version": "1.5.0",
      "model_name": "DescriptionStyleModel",
      "state": {
       "description_width": ""
      }
     },
     "47500cc15abd4c9e95ed8c777fb3bcda": {
      "model_module": "@jupyter-widgets/base",
      "model_module_version": "1.2.0",
      "model_name": "LayoutModel",
      "state": {}
     },
     "47aa9dd405a14d3b98060899b2678a68": {
      "model_module": "@jupyter-widgets/base",
      "model_module_version": "1.2.0",
      "model_name": "LayoutModel",
      "state": {}
     },
     "483693175c47452882867762d4211a05": {
      "model_module": "@jupyter-widgets/base",
      "model_module_version": "1.2.0",
      "model_name": "LayoutModel",
      "state": {}
     },
     "486a33b1ad20421d9554d7b70b7a626f": {
      "model_module": "@jupyter-widgets/controls",
      "model_module_version": "1.5.0",
      "model_name": "LabelModel",
      "state": {
       "layout": "IPY_MODEL_efdb5b4308f54f139c0de1ad65bee825",
       "style": "IPY_MODEL_a29d057a38f74d2cbe934e50331371df"
      }
     },
     "487701ae996b44aca3cb33171e6451da": {
      "model_module": "bqplot",
      "model_module_version": "^0.5.16",
      "model_name": "LinearScaleModel",
      "state": {
       "stabilized": false
      }
     },
     "494a4ec20b504444905a00cd2e743071": {
      "model_module": "@jupyter-widgets/controls",
      "model_module_version": "1.5.0",
      "model_name": "VBoxModel",
      "state": {
       "children": [
        "IPY_MODEL_c500ea2921274ddd9ca7c083534d4b95",
        "IPY_MODEL_ce63d0a2bbf247bb825b23c53b4d021d",
        "IPY_MODEL_66175b9d4b264dc4bab4f1ca9b529f72",
        "IPY_MODEL_2e469c949b554a7e9e26b028f9952cc4",
        "IPY_MODEL_fab8d6b6f78246ef9542dbbe75a58899"
       ],
       "layout": "IPY_MODEL_874c5ef7100f4e54a0e97710e91e773d"
      }
     },
     "494e373a8d4c4c9f96238c0160e5ffc1": {
      "model_module": "@jupyter-widgets/base",
      "model_module_version": "1.2.0",
      "model_name": "LayoutModel",
      "state": {
       "width": "100px"
      }
     },
     "49785072fbf342bf844479f534137812": {
      "model_module": "@jupyter-widgets/base",
      "model_module_version": "1.2.0",
      "model_name": "LayoutModel",
      "state": {
       "width": "100px"
      }
     },
     "49adfa4c81844015adde183c3b539a4f": {
      "model_module": "bqplot",
      "model_module_version": "^0.5.16",
      "model_name": "LinearScaleModel",
      "state": {
       "stabilized": false
      }
     },
     "4a31e8db98f64b069b287c7c736674a0": {
      "model_module": "@jupyter-widgets/base",
      "model_module_version": "1.2.0",
      "model_name": "LayoutModel",
      "state": {}
     },
     "4a3e1285ad5d47c6a23d8ca410ed51b7": {
      "model_module": "bqplot",
      "model_module_version": "^0.5.16",
      "model_name": "LinearScaleModel",
      "state": {
       "allow_padding": false,
       "max": 1,
       "min": 0,
       "stabilized": false
      }
     },
     "4a634fe3ad174e628313eb7ca3860eb0": {
      "model_module": "@jupyter-widgets/base",
      "model_module_version": "1.2.0",
      "model_name": "LayoutModel",
      "state": {}
     },
     "4a78a8f405eb403c91b5c33be0f39004": {
      "model_module": "@jupyter-widgets/controls",
      "model_module_version": "1.5.0",
      "model_name": "SliderStyleModel",
      "state": {
       "description_width": ""
      }
     },
     "4aaf6afd92454862ad32e1189aba2515": {
      "model_module": "bqplot",
      "model_module_version": "^0.5.16",
      "model_name": "FigureModel",
      "state": {
       "axes": [
        "IPY_MODEL_9ee0687c6b6e420d81e6ea1abf16f5a7",
        "IPY_MODEL_89f9b35a1db541a5b4447393e6f28480"
       ],
       "fig_margin": {
        "bottom": 40,
        "left": 50,
        "right": 10,
        "top": 10
       },
       "layout": "IPY_MODEL_b7b975a9b78b4b2abd476ab660f1ea20",
       "marks": [
        "IPY_MODEL_daf03d06abfb4570a56c68d48cb51112"
       ],
       "scale_x": "IPY_MODEL_0546323cbcf04220b33a401773c27a1a",
       "scale_y": "IPY_MODEL_a97e9fb0bce24b3fb7728b78e97e6b2b"
      }
     },
     "4b41575d56ed4a75ab315e9c49351d11": {
      "model_module": "@jupyter-widgets/controls",
      "model_module_version": "1.5.0",
      "model_name": "SliderStyleModel",
      "state": {
       "description_width": ""
      }
     },
     "4dbac15c56154e7dafb3110d983be9e0": {
      "model_module": "bqplot",
      "model_module_version": "^0.5.16",
      "model_name": "LinearScaleModel",
      "state": {
       "stabilized": false
      }
     },
     "4e232b956cc74052a755d70d101ed220": {
      "model_module": "@jupyter-widgets/controls",
      "model_module_version": "1.5.0",
      "model_name": "FloatSliderModel",
      "state": {
       "layout": "IPY_MODEL_0a052e1a92504704b15e50639511e498",
       "max": 1,
       "step": 0.1,
       "style": "IPY_MODEL_574f51c86cb44ef9a6c20876d7086958",
       "value": 0.3
      }
     },
     "4e2f64aee895482a98ee8b510371017b": {
      "model_module": "bqplot",
      "model_module_version": "^0.5.16",
      "model_name": "LinearScaleModel",
      "state": {
       "allow_padding": false,
       "max": 1,
       "min": 0,
       "stabilized": false
      }
     },
     "4e651e2e402e446086075f7339d44826": {
      "model_module": "@jupyter-widgets/controls",
      "model_module_version": "1.5.0",
      "model_name": "FloatSliderModel",
      "state": {
       "layout": "IPY_MODEL_39f77c66838e4ddd8e8fa28187a5344d",
       "max": 1,
       "step": 0.1,
       "style": "IPY_MODEL_9556d130ed634c868db638f3c7ef28d8",
       "value": 0.5
      }
     },
     "4f794cb3af7f450e8a11cef51371901d": {
      "model_module": "bqplot",
      "model_module_version": "^0.5.16",
      "model_name": "LinearScaleModel",
      "state": {
       "stabilized": false
      }
     },
     "503982e5d3194363830c7754ddd3fec1": {
      "model_module": "bqplot",
      "model_module_version": "^0.5.16",
      "model_name": "AxisModel",
      "state": {
       "label": "y(t)",
       "orientation": "vertical",
       "scale": "IPY_MODEL_72f4dc44dc9c4de49a1d0d288e9052d8",
       "side": "left",
       "tick_values": null
      }
     },
     "503afd0b0b43490f9f391f9e8c0ad4f5": {
      "model_module": "@jupyter-widgets/controls",
      "model_module_version": "1.5.0",
      "model_name": "FloatSliderModel",
      "state": {
       "layout": "IPY_MODEL_be25a3c376f540a89d7885f37fead78f",
       "max": 1,
       "step": 0.1,
       "style": "IPY_MODEL_9f9d926eb55c4c8682f02b27bd02080e",
       "value": 0.4
      }
     },
     "517be7d596f44af8bccda21e93c0f295": {
      "model_module": "@jupyter-widgets/base",
      "model_module_version": "1.2.0",
      "model_name": "LayoutModel",
      "state": {
       "width": "100px"
      }
     },
     "5201ebbbbeb1422abf9ea1414bf63d54": {
      "model_module": "@jupyter-widgets/base",
      "model_module_version": "1.2.0",
      "model_name": "LayoutModel",
      "state": {
       "height": "300px",
       "width": "500px"
      }
     },
     "524fb72dd7c54877b1c39ab04aeb942f": {
      "model_module": "bqplot",
      "model_module_version": "^0.5.16",
      "model_name": "LinearScaleModel",
      "state": {
       "stabilized": false
      }
     },
     "53f567eb6d154733bb42d307d8149879": {
      "model_module": "bqplot",
      "model_module_version": "^0.5.16",
      "model_name": "LinearScaleModel",
      "state": {
       "allow_padding": false,
       "max": 1,
       "min": 0,
       "stabilized": false
      }
     },
     "5406c24fb5b44f769cecb2d89547c274": {
      "model_module": "@jupyter-widgets/controls",
      "model_module_version": "1.5.0",
      "model_name": "SliderStyleModel",
      "state": {
       "description_width": ""
      }
     },
     "5673da55d8fe4f4e8f23880ef4337b7b": {
      "model_module": "@jupyter-widgets/controls",
      "model_module_version": "1.5.0",
      "model_name": "ButtonStyleModel",
      "state": {}
     },
     "5718b5954f0e4d08b09fd026f4efb098": {
      "model_module": "@jupyter-widgets/base",
      "model_module_version": "1.2.0",
      "model_name": "LayoutModel",
      "state": {}
     },
     "574f51c86cb44ef9a6c20876d7086958": {
      "model_module": "@jupyter-widgets/controls",
      "model_module_version": "1.5.0",
      "model_name": "SliderStyleModel",
      "state": {
       "description_width": ""
      }
     },
     "575bac7bead64afaa84bb6a40127ebc9": {
      "model_module": "bqplot",
      "model_module_version": "^0.5.16",
      "model_name": "LinearScaleModel",
      "state": {
       "allow_padding": false,
       "max": 1,
       "min": 0,
       "stabilized": false
      }
     },
     "5799a73ccb714d6ca2fec3c2c13c87a8": {
      "model_module": "@jupyter-widgets/base",
      "model_module_version": "1.2.0",
      "model_name": "LayoutModel",
      "state": {
       "height": "300px",
       "width": "500px"
      }
     },
     "5b27cf7029eb45738067bca3dbd12060": {
      "model_module": "@jupyter-widgets/controls",
      "model_module_version": "1.5.0",
      "model_name": "FloatSliderModel",
      "state": {
       "layout": "IPY_MODEL_717950049042434d84c275d14d3aa690",
       "max": 5,
       "step": 0.1,
       "style": "IPY_MODEL_d169ed7f144b41f695abd96ed07dfcf9",
       "value": 2.9
      }
     },
     "5b471749ef364becbc3c375313fa9579": {
      "model_module": "@jupyter-widgets/base",
      "model_module_version": "1.2.0",
      "model_name": "LayoutModel",
      "state": {}
     },
     "5dd8726646cf4bd2bfc5337510ccbde6": {
      "model_module": "@jupyter-widgets/base",
      "model_module_version": "1.2.0",
      "model_name": "LayoutModel",
      "state": {}
     },
     "5e3b0040449a4e73a05634c360f63f8c": {
      "model_module": "@jupyter-widgets/base",
      "model_module_version": "1.2.0",
      "model_name": "LayoutModel",
      "state": {
       "width": "100px"
      }
     },
     "606b70411cd84c1194f6014b44d183b3": {
      "model_module": "@jupyter-widgets/controls",
      "model_module_version": "1.5.0",
      "model_name": "ButtonModel",
      "state": {
       "button_style": "warning",
       "description": "stop",
       "icon": "stop",
       "layout": "IPY_MODEL_a92c2f23e1e9484aaa484999bf86dd31",
       "style": "IPY_MODEL_f1d640398a53454ab5e54c1b7fe096be"
      }
     },
     "61eac85c8e0945b0a5117a9c8aa44ab0": {
      "model_module": "@jupyter-widgets/base",
      "model_module_version": "1.2.0",
      "model_name": "LayoutModel",
      "state": {
       "height": "300px",
       "width": "500px"
      }
     },
     "629871adbe0240a4a9d74141821114b2": {
      "model_module": "@jupyter-widgets/controls",
      "model_module_version": "1.5.0",
      "model_name": "ButtonStyleModel",
      "state": {}
     },
     "62b72e7a07fb4683b752fa357e90d456": {
      "model_module": "bqplot",
      "model_module_version": "^0.5.16",
      "model_name": "AxisModel",
      "state": {
       "label": "x(t)",
       "scale": "IPY_MODEL_81189851c8624246b48d3ff52715472b",
       "side": "bottom",
       "tick_values": null
      }
     },
     "638a418686064e0abaa64ec3320cb9f0": {
      "model_module": "bqplot",
      "model_module_version": "^0.5.16",
      "model_name": "AxisModel",
      "state": {
       "label": "y(t)",
       "orientation": "vertical",
       "scale": "IPY_MODEL_49adfa4c81844015adde183c3b539a4f",
       "side": "left",
       "tick_values": null
      }
     },
     "65a6a27fd3a9486580e0a035a6f2e25e": {
      "model_module": "bqplot",
      "model_module_version": "^0.5.16",
      "model_name": "LinearScaleModel",
      "state": {
       "allow_padding": false,
       "max": 1,
       "min": 0,
       "stabilized": false
      }
     },
     "66175b9d4b264dc4bab4f1ca9b529f72": {
      "model_module": "@jupyter-widgets/controls",
      "model_module_version": "1.5.0",
      "model_name": "FloatSliderModel",
      "state": {
       "layout": "IPY_MODEL_84e2b47113774d43ab02a9fb86c4a281",
       "max": 1,
       "step": 0.1,
       "style": "IPY_MODEL_42dde8a20be045519e6881a62e2a5dc1",
       "value": 0.1
      }
     },
     "66a63d31b5414ee7a85e4f609859335d": {
      "model_module": "bqplot",
      "model_module_version": "^0.5.16",
      "model_name": "LinearScaleModel",
      "state": {
       "stabilized": false
      }
     },
     "671afbf18df347babddcd9d3f8ff301f": {
      "model_module": "@jupyter-widgets/controls",
      "model_module_version": "1.5.0",
      "model_name": "FloatSliderModel",
      "state": {
       "layout": "IPY_MODEL_8f5f13140a544f5ca12bb50b230ae6a7",
       "max": 1,
       "step": 0.1,
       "style": "IPY_MODEL_4a78a8f405eb403c91b5c33be0f39004",
       "value": 0.5
      }
     },
     "681b8b1b7b7d48ddafe5b0681b4d8eca": {
      "model_module": "bqplot",
      "model_module_version": "^0.5.16",
      "model_name": "AxisModel",
      "state": {
       "label": "y(t)",
       "orientation": "vertical",
       "scale": "IPY_MODEL_4dbac15c56154e7dafb3110d983be9e0",
       "side": "left",
       "tick_values": null
      }
     },
     "686f680284a6457e80fe1a572197d17e": {
      "model_module": "bqplot",
      "model_module_version": "^0.5.16",
      "model_name": "FigureModel",
      "state": {
       "axes": [
        "IPY_MODEL_213a9cb2aa7747c7934e99f0c602f65e",
        "IPY_MODEL_7920c78fc78b40929c38881825bd2425"
       ],
       "fig_margin": {
        "bottom": 40,
        "left": 50,
        "right": 10,
        "top": 10
       },
       "layout": "IPY_MODEL_5201ebbbbeb1422abf9ea1414bf63d54",
       "marks": [
        "IPY_MODEL_703dd168520f47ae8e1d1f6b89f826ae"
       ],
       "scale_x": "IPY_MODEL_c1d217d168b4412190acb4f934d3de1b",
       "scale_y": "IPY_MODEL_575bac7bead64afaa84bb6a40127ebc9"
      }
     },
     "68a1b9edc86b4c158349945c830a516b": {
      "model_module": "bqplot",
      "model_module_version": "^0.5.16",
      "model_name": "FigureModel",
      "state": {
       "axes": [
        "IPY_MODEL_dd0015de98f944cf8703c0c85d54e076",
        "IPY_MODEL_23d7f901c8ad487fa432f76b637b6310"
       ],
       "fig_margin": {
        "bottom": 40,
        "left": 50,
        "right": 10,
        "top": 10
       },
       "layout": "IPY_MODEL_042457a3f8ab4420be5a1b9b23f621bd",
       "marks": [
        "IPY_MODEL_982957f2924f4b8390d43823db27f3a3"
       ],
       "scale_x": "IPY_MODEL_9f478f72a94f477285783d39a5a8d601",
       "scale_y": "IPY_MODEL_da8100412ffc40c8bd134f6c9b39ff41"
      }
     },
     "69df41df96df44548137abef36bd0624": {
      "model_module": "bqplot",
      "model_module_version": "^0.5.16",
      "model_name": "LinearScaleModel",
      "state": {
       "stabilized": false
      }
     },
     "69e510f17c384d1895e89274811da515": {
      "model_module": "@jupyter-widgets/base",
      "model_module_version": "1.2.0",
      "model_name": "LayoutModel",
      "state": {}
     },
     "6a19b393054447eebc4cd381bf11e578": {
      "model_module": "@jupyter-widgets/controls",
      "model_module_version": "1.5.0",
      "model_name": "DescriptionStyleModel",
      "state": {
       "description_width": ""
      }
     },
     "6b0572d05945434895a1d2dad8eb53ee": {
      "model_module": "bqplot",
      "model_module_version": "^0.5.16",
      "model_name": "AxisModel",
      "state": {
       "label": "x(t)",
       "scale": "IPY_MODEL_487701ae996b44aca3cb33171e6451da",
       "side": "bottom",
       "tick_values": null
      }
     },
     "6b07f78b5df1457aa7fd649d5d3f2a24": {
      "model_module": "@jupyter-widgets/controls",
      "model_module_version": "1.5.0",
      "model_name": "SliderStyleModel",
      "state": {
       "description_width": ""
      }
     },
     "6c64349339c142b5bf1b1e985a9b48c0": {
      "model_module": "@jupyter-widgets/controls",
      "model_module_version": "1.5.0",
      "model_name": "LabelModel",
      "state": {
       "layout": "IPY_MODEL_d1db25ab08bf4967804e51d998d01825",
       "style": "IPY_MODEL_44f931f0b3d14285854105231a2f5082",
       "value": "Thread Off"
      }
     },
     "6ce5a678c1d84ab59ab6c720aeb8efdd": {
      "model_module": "@jupyter-widgets/controls",
      "model_module_version": "1.5.0",
      "model_name": "VBoxModel",
      "state": {
       "children": [
        "IPY_MODEL_68a1b9edc86b4c158349945c830a516b",
        "IPY_MODEL_aea1c633c8da49cb81c7585f557d5724",
        "IPY_MODEL_0f9322df25f74bfdaf8a23448d2fe238",
        "IPY_MODEL_013f41eec98243559379a752cad94dc4",
        "IPY_MODEL_dd98c769c80b491caf675f7190d64357"
       ],
       "layout": "IPY_MODEL_daecae7824184dfc94d83bec18340cb7"
      }
     },
     "6ce605a8ca5f477d8c20e65cd599c56a": {
      "model_module": "@jupyter-widgets/base",
      "model_module_version": "1.2.0",
      "model_name": "LayoutModel",
      "state": {}
     },
     "6dcb588815c24b70ad3cbdc8bcde7af9": {
      "model_module": "@jupyter-widgets/base",
      "model_module_version": "1.2.0",
      "model_name": "LayoutModel",
      "state": {}
     },
     "6ea48335fa164261a6521fe80e5209ce": {
      "model_module": "@jupyter-widgets/controls",
      "model_module_version": "1.5.0",
      "model_name": "FloatSliderModel",
      "state": {
       "layout": "IPY_MODEL_f4361b5f19c04ac59cb1592b6cb3ea90",
       "max": 5,
       "step": 0.1,
       "style": "IPY_MODEL_4b41575d56ed4a75ab315e9c49351d11",
       "value": 1
      }
     },
     "6ece10db2e78457c82be6b44217f373d": {
      "model_module": "@jupyter-widgets/controls",
      "model_module_version": "1.5.0",
      "model_name": "FloatSliderModel",
      "state": {
       "layout": "IPY_MODEL_718698af8dbb4b9a8c6503e56c331823",
       "max": 1,
       "step": 0.1,
       "style": "IPY_MODEL_110c17c9c1524135990e48447a1babce",
       "value": 0.5
      }
     },
     "703dd168520f47ae8e1d1f6b89f826ae": {
      "buffers": [
       {
        "data": "AAAAAAAAAACRGkt8Vz+wP5EaS3xXP8A/2qdwOgNfyD+RGkt8Vz/QPzXhXVstT9Q/2qdwOgNf2D9+boMZ2W7cP5EaS3xXP+A/433Ua0JH4j814V1bLU/kP4dE50oYV+Y/2qdwOgNf6D8sC/op7mbqP35ugxnZbuw/0NEMCcR27j+RGkt8Vz/wPzrMD/RMQ/E/433Ua0JH8j+ML5njN0vzPzXhXVstT/Q/3pIi0yJT9T+HROdKGFf2PzD2q8INW/c/2qdwOgNf+D+DWTWy+GL5PywL+inuZvo/1by+oeNq+z9+boMZ2W78PycgSJHOcv0/0NEMCcR2/j95g9GAuXr/P5EaS3xXPwBAZnMtOFLBAEA6zA/0TEMBQA8l8q9HxQFA433Ua0JHAkC41rYnPckCQIwvmeM3SwNAYYh7nzLNA0A14V1bLU8EQAo6QBco0QRA3pIi0yJTBUCz6wSPHdUFQIdE50oYVwZAXJ3JBhPZBkAw9qvCDVsHQAVPjn4I3QdA2qdwOgNfCECuAFP2/eAIQINZNbL4YglAV7IXbvPkCUAsC/op7mYKQABk3OXo6ApA1by+oeNqC0CpFaFd3uwLQH5ugxnZbgxAUsdl1dPwDEAnIEiRznINQPt4Kk3J9A1A0NEMCcR2DkCkKu/EvvgOQHmD0YC5eg9ATdyzPLT8D0CRGkt8Vz8QQPtGPNpUgBBAZnMtOFLBEEDQnx6WTwIRQDrMD/RMQxFApPgAUkqEEUAPJfKvR8URQHlR4w1FBhJA433Ua0JHEkBNqsXJP4gSQLjWtic9yRJAIgOohToKE0CML5njN0sTQPZbikE1jBNAYYh7nzLNE0DLtGz9Lw4UQDXhXVstTxRAoA1PuSqQFEAKOkAXKNEUQHRmMXUlEhVA3pIi0yJTFUBJvxMxIJQVQLPrBI8d1RVAHRj27BoWFkCHROdKGFcWQPJw2KgVmBZAXJ3JBhPZFkDGybpkEBoXQDD2q8INWxdAmyKdIAucF0AFT45+CN0XQG97f9wFHhhA2qdwOgNfGEBE1GGYAKAYQK4AU/b94BhAGC1EVPshGUA=",
        "encoding": "base64",
        "path": [
         "x",
         "value"
        ]
       },
       {
        "data": "AAAAAAAAAABKtr+efI3OPzL5d4aVVd4/EFm7j7V65j/iOWxmXXjtP3nHLZQWBfI/q4E5Lg0M9T+/mquU/sX3P8J2krTwKPo/XJAt1ycs/D/BKl6XRsj9P7dJINVo9/4/P8trRDm1/z/5rZlIAf//P2lwRuKy0/8/pa9bi+wz/z+7XSHz9iH+PxLJoKK8ofw/9Djvp7u4+j/egdF88W34Pz+pRXLByfU/yD2O/tXV8j+WEia8+jnvP4hoDxEEVug/9HAYFv8Y4T8z+7KU0TrTPzs4zjIy6q8/ccUYobydxr9BsFxVoXHav1BP8q3PmeS/y9R/i2uv678oxVS+2y/xv5vMvLwcSfS/e5Fm5SEY978IrfgDpJL5v7+0ByiRr/u/TfsP1i1n/b/sBj1TMbP+v/+gcqTcjv+/gkxw7Av3/7/RzIDpQer/v/DXqGitaP+/W2Fjmih0/r9kOF5LMhD9v50NBRrhQfu/HoWp19AP+b8ERWxZCoL2v/LcZhHmofO/+Xau2+l58L+oMKv4RCvqv7kur7byAuO/3XFkZBwq17/NOTsbOua/vxtrMRm5UL0/3p93UhmH1j+92P4IyrPiP9IycdOW3+k/fbt4hlpW8D8WppyaIIHzP+xPt62GZPY/VRd++Pr1+D8/sWSSFyz7P3OC3tXE/vw/w9Jq/VZn/j95iA2NpmD/P6np3i4j5/8/KJqsveD4/z/AWvJNnpX/P78BbBvHvv4/qk3bV213/T8wyQHuPsT7P44F72F0q/k/gf5MDbo09z+BuvgKFGn0PxGeqDi9UvE/uZC6jgP66z+arjbHK+jkP8as4jKkE9s/1KBS9bXnxz8jdmSOXL2qv6n6Mtr2ltK/eUlyhB3J4L9UZ8ucUgnov8KJiAyS8e6/ytPuhUq08r9hRheaWav1v+rThIkcU/i/iBj3yduh+r9qISGPJY/8v/e3nLHsE/6/QVjAfKIq/7/TOeoES8//v41Y1LuL//+/mUuXDbS6/79e1NbmvwH/v2qE2xpU1/2/GRvHtrQ//L+3REtltUD6v27cAhyk4fe/N0B1YC4r9b8=",
        "encoding": "base64",
        "path": [
         "y",
         "value"
        ]
       }
      ],
      "model_module": "bqplot",
      "model_module_version": "^0.5.16",
      "model_name": "LinesModel",
      "state": {
       "fill_colors": [],
       "labels": [
        "C1"
       ],
       "scales": {
        "x": "IPY_MODEL_1f3d775f92c84ad1969d2de32693d4a3",
        "y": "IPY_MODEL_69df41df96df44548137abef36bd0624"
       },
       "x": {
        "dtype": "float64",
        "shape": [
         100
        ],
        "type": null
       },
       "y": {
        "dtype": "float64",
        "shape": [
         100
        ],
        "type": null
       }
      }
     },
     "70729ac47aad42499e8c8a01adda128d": {
      "model_module": "@jupyter-widgets/controls",
      "model_module_version": "1.5.0",
      "model_name": "ButtonModel",
      "state": {
       "button_style": "warning",
       "description": "stop",
       "icon": "stop",
       "layout": "IPY_MODEL_a185b73fcbca44c58be379cb340bb5c7",
       "style": "IPY_MODEL_8c59902eda234255b9fe13c96fc8cc65"
      }
     },
     "707bae656e834a2ebd2faa2714497389": {
      "model_module": "@jupyter-widgets/base",
      "model_module_version": "1.2.0",
      "model_name": "LayoutModel",
      "state": {}
     },
     "717950049042434d84c275d14d3aa690": {
      "model_module": "@jupyter-widgets/base",
      "model_module_version": "1.2.0",
      "model_name": "LayoutModel",
      "state": {}
     },
     "718698af8dbb4b9a8c6503e56c331823": {
      "model_module": "@jupyter-widgets/base",
      "model_module_version": "1.2.0",
      "model_name": "LayoutModel",
      "state": {}
     },
     "72f4dc44dc9c4de49a1d0d288e9052d8": {
      "model_module": "bqplot",
      "model_module_version": "^0.5.16",
      "model_name": "LinearScaleModel",
      "state": {
       "stabilized": false
      }
     },
     "738013acd6494be2b08142db802fdb4b": {
      "model_module": "bqplot",
      "model_module_version": "^0.5.16",
      "model_name": "AxisModel",
      "state": {
       "label": "x(t)",
       "scale": "IPY_MODEL_801af93f82ff45ffb8697dfcd38e61df",
       "side": "bottom",
       "tick_values": null
      }
     },
     "7408c591c23a486dade35f13ae4403ad": {
      "model_module": "@jupyter-widgets/base",
      "model_module_version": "1.2.0",
      "model_name": "LayoutModel",
      "state": {}
     },
     "740ea30c33d3448a9dadc260517e73c2": {
      "model_module": "@jupyter-widgets/controls",
      "model_module_version": "1.5.0",
      "model_name": "ButtonModel",
      "state": {
       "description": "check thread",
       "layout": "IPY_MODEL_7f5977d942224c6eb5b8c3d5f74aba42",
       "style": "IPY_MODEL_daffa2a6cdba4a41b0def3e0c71a2b84"
      }
     },
     "7920c78fc78b40929c38881825bd2425": {
      "model_module": "bqplot",
      "model_module_version": "^0.5.16",
      "model_name": "AxisModel",
      "state": {
       "label": "y(t)",
       "orientation": "vertical",
       "scale": "IPY_MODEL_69df41df96df44548137abef36bd0624",
       "side": "left",
       "tick_values": null
      }
     },
     "7beec2fe7cd246c0a333da402ba18d3e": {
      "model_module": "@jupyter-widgets/controls",
      "model_module_version": "1.5.0",
      "model_name": "SliderStyleModel",
      "state": {
       "description_width": ""
      }
     },
     "7c54ea6495ff4483bc79b57b9ddeb26a": {
      "model_module": "bqplot",
      "model_module_version": "^0.5.16",
      "model_name": "LinearScaleModel",
      "state": {
       "stabilized": false
      }
     },
     "7cd8d62b00b046ed8d1eeddac851e92b": {
      "model_module": "@jupyter-widgets/controls",
      "model_module_version": "1.5.0",
      "model_name": "FloatSliderModel",
      "state": {
       "layout": "IPY_MODEL_252c90a4e482497db09124096ffe9f36",
       "max": 1,
       "step": 0.1,
       "style": "IPY_MODEL_11edd45fd83c4f9da53fad0937c071f3",
       "value": 0.5
      }
     },
     "7d96d76f003c4e268e2453e732be468d": {
      "model_module": "@jupyter-widgets/controls",
      "model_module_version": "1.5.0",
      "model_name": "DescriptionStyleModel",
      "state": {
       "description_width": ""
      }
     },
     "7ecf3fbff2b4403a99b8c8cf3d3e783a": {
      "buffers": [
       {
        "data": "AAAAAAAAAACRGkt8Vz+wP5EaS3xXP8A/2qdwOgNfyD+RGkt8Vz/QPzXhXVstT9Q/2qdwOgNf2D9+boMZ2W7cP5EaS3xXP+A/433Ua0JH4j814V1bLU/kP4dE50oYV+Y/2qdwOgNf6D8sC/op7mbqP35ugxnZbuw/0NEMCcR27j+RGkt8Vz/wPzrMD/RMQ/E/433Ua0JH8j+ML5njN0vzPzXhXVstT/Q/3pIi0yJT9T+HROdKGFf2PzD2q8INW/c/2qdwOgNf+D+DWTWy+GL5PywL+inuZvo/1by+oeNq+z9+boMZ2W78PycgSJHOcv0/0NEMCcR2/j95g9GAuXr/P5EaS3xXPwBAZnMtOFLBAEA6zA/0TEMBQA8l8q9HxQFA433Ua0JHAkC41rYnPckCQIwvmeM3SwNAYYh7nzLNA0A14V1bLU8EQAo6QBco0QRA3pIi0yJTBUCz6wSPHdUFQIdE50oYVwZAXJ3JBhPZBkAw9qvCDVsHQAVPjn4I3QdA2qdwOgNfCECuAFP2/eAIQINZNbL4YglAV7IXbvPkCUAsC/op7mYKQABk3OXo6ApA1by+oeNqC0CpFaFd3uwLQH5ugxnZbgxAUsdl1dPwDEAnIEiRznINQPt4Kk3J9A1A0NEMCcR2DkCkKu/EvvgOQHmD0YC5eg9ATdyzPLT8D0CRGkt8Vz8QQPtGPNpUgBBAZnMtOFLBEEDQnx6WTwIRQDrMD/RMQxFApPgAUkqEEUAPJfKvR8URQHlR4w1FBhJA433Ua0JHEkBNqsXJP4gSQLjWtic9yRJAIgOohToKE0CML5njN0sTQPZbikE1jBNAYYh7nzLNE0DLtGz9Lw4UQDXhXVstTxRAoA1PuSqQFEAKOkAXKNEUQHRmMXUlEhVA3pIi0yJTFUBJvxMxIJQVQLPrBI8d1RVAHRj27BoWFkCHROdKGFcWQPJw2KgVmBZAXJ3JBhPZFkDGybpkEBoXQDD2q8INWxdAmyKdIAucF0AFT45+CN0XQG97f9wFHhhA2qdwOgNfGEBE1GGYAKAYQK4AU/b94BhAGC1EVPshGUA=",
        "encoding": "base64",
        "path": [
         "x",
         "value"
        ]
       },
       {
        "data": "AAAAAAAAAADHHr10RlrJP7pcwkCx2dg/ecctlBYF4j8hZk11i+bmP3MQKli13+o/wSpel0bI7T/bVDmlvoLvPxkabU2V/e8/pa9bi+wz7z9ljSLpwS3tP4QulHKd/+k/P6lFcsHJ5T+cvTI547bgP0EkSdDz9NU/M/uylNE6wz8aoyQ3Td2ovzZKgoFqas+/y9R/i2uv27+jmdAhZ0jjv9blkNx/9ee/u7QHKJGv679FwF1jzVDuv+ajVZCHvu+/0cyA6UHq778zw3vgQNLuv/7EKbGcgey/HoWp19AP6b++EY/ezZ/kv5t8C+stvd6/uS6vtvIC078K7gSWfR+6v66jMI3K1bg/zNj+CMqz0j8GU5NFbHTeP8VG/JARgOQ/VRd++Pr16D/Gs4JQs27sP5qaFdMDx+4/qeneLiPn7z/042nOpsPvP9gOgqX2Xe4/OMkB7j7E6z/9Z75k4BDoP5iP07hkaeM/uZC6jgP62z9FwudzdQXQP7+/aRcgc6s/qfoy2vaWwr9Yeht6EqfVv0GySo+Dk+C/VkYXmlmr5b86gOjXYefpv0AmhVqoHO2/QVjAfKIq779LR8L4ePzvv/c6nk7bie+/aoTbGlTX7b+ZyHQFG/bqvwGAlBxmA+e/SyaVhkEn4r9LSbOR8iXZvxFJJfCU/Mm/Xoxm9n61dL+2yn6AzbfIP8jVY05Gjdg/TWeycc3i4T+vNMtwisnmPypGo6Uiyeo/PoROLwe57T84EgMybXvvP4SJfQp8/u8/CQoxVAI97z+vAAmWqj7tPzFjbX+tF+o/FMlQygTo5T+8beXiJtrgPz8C9l2wQtY/orA+GIzewz+7DWavUEemvwxlJXq1yc6/TuwQJ6Vk27+bkxc9SSfjv1WMPTH32ee/QXGaALWa678tzu9XcUPuv/10SCQzue+/yGroLCvt77+gVrtLSt3uv/ncfFBWlOy/WMO7unwp6b/USyOfZ7/kv0v5qhG8Bd+/GhwEi/tR07+1d6DbBGm7v6XSd+nti7c/roOPBoJk0j/1GyWbdyveP+YolesyYOQ/Rl6BSPvb6D8=",
        "encoding": "base64",
        "path": [
         "y",
         "value"
        ]
       }
      ],
      "model_module": "bqplot",
      "model_module_version": "^0.5.16",
      "model_name": "LinesModel",
      "state": {
       "fill_colors": [],
       "labels": [
        "C1"
       ],
       "scales": {
        "x": "IPY_MODEL_b95d784de1964a8da67dfbbc015461fb",
        "y": "IPY_MODEL_49adfa4c81844015adde183c3b539a4f"
       },
       "x": {
        "dtype": "float64",
        "shape": [
         100
        ],
        "type": null
       },
       "y": {
        "dtype": "float64",
        "shape": [
         100
        ],
        "type": null
       }
      }
     },
     "7f5977d942224c6eb5b8c3d5f74aba42": {
      "model_module": "@jupyter-widgets/base",
      "model_module_version": "1.2.0",
      "model_name": "LayoutModel",
      "state": {
       "width": "100px"
      }
     },
     "801af93f82ff45ffb8697dfcd38e61df": {
      "model_module": "bqplot",
      "model_module_version": "^0.5.16",
      "model_name": "LinearScaleModel",
      "state": {
       "stabilized": false
      }
     },
     "81189851c8624246b48d3ff52715472b": {
      "model_module": "bqplot",
      "model_module_version": "^0.5.16",
      "model_name": "LinearScaleModel",
      "state": {
       "stabilized": false
      }
     },
     "8133fbca41bb417d9b7877197d3b08c0": {
      "model_module": "@jupyter-widgets/base",
      "model_module_version": "1.2.0",
      "model_name": "LayoutModel",
      "state": {
       "width": "100px"
      }
     },
     "813b6009be82440aaea63d4b340a7163": {
      "buffers": [
       {
        "data": "AAAAAAAAAACRGkt8Vz+wP5EaS3xXP8A/2qdwOgNfyD+RGkt8Vz/QPzXhXVstT9Q/2qdwOgNf2D9+boMZ2W7cP5EaS3xXP+A/433Ua0JH4j814V1bLU/kP4dE50oYV+Y/2qdwOgNf6D8sC/op7mbqP35ugxnZbuw/0NEMCcR27j+RGkt8Vz/wPzrMD/RMQ/E/433Ua0JH8j+ML5njN0vzPzXhXVstT/Q/3pIi0yJT9T+HROdKGFf2PzD2q8INW/c/2qdwOgNf+D+DWTWy+GL5PywL+inuZvo/1by+oeNq+z9+boMZ2W78PycgSJHOcv0/0NEMCcR2/j95g9GAuXr/P5EaS3xXPwBAZnMtOFLBAEA6zA/0TEMBQA8l8q9HxQFA433Ua0JHAkC41rYnPckCQIwvmeM3SwNAYYh7nzLNA0A14V1bLU8EQAo6QBco0QRA3pIi0yJTBUCz6wSPHdUFQIdE50oYVwZAXJ3JBhPZBkAw9qvCDVsHQAVPjn4I3QdA2qdwOgNfCECuAFP2/eAIQINZNbL4YglAV7IXbvPkCUAsC/op7mYKQABk3OXo6ApA1by+oeNqC0CpFaFd3uwLQH5ugxnZbgxAUsdl1dPwDEAnIEiRznINQPt4Kk3J9A1A0NEMCcR2DkCkKu/EvvgOQHmD0YC5eg9ATdyzPLT8D0CRGkt8Vz8QQPtGPNpUgBBAZnMtOFLBEEDQnx6WTwIRQDrMD/RMQxFApPgAUkqEEUAPJfKvR8URQHlR4w1FBhJA433Ua0JHEkBNqsXJP4gSQLjWtic9yRJAIgOohToKE0CML5njN0sTQPZbikE1jBNAYYh7nzLNE0DLtGz9Lw4UQDXhXVstTxRAoA1PuSqQFEAKOkAXKNEUQHRmMXUlEhVA3pIi0yJTFUBJvxMxIJQVQLPrBI8d1RVAHRj27BoWFkCHROdKGFcWQPJw2KgVmBZAXJ3JBhPZFkDGybpkEBoXQDD2q8INWxdAmyKdIAucF0AFT45+CN0XQG97f9wFHhhA2qdwOgNfGEBE1GGYAKAYQK4AU/b94BhAGC1EVPshGUA=",
        "encoding": "base64",
        "path": [
         "x",
         "value"
        ]
       },
       {
        "data": "AAAAAAAAAADHHr10RlrJP7pcwkCx2dg/ecctlBYF4j8hZk11i+bmP3MQKli13+o/wSpel0bI7T/bVDmlvoLvPxkabU2V/e8/pa9bi+wz7z9ljSLpwS3tP4QulHKd/+k/P6lFcsHJ5T+cvTI547bgP0EkSdDz9NU/M/uylNE6wz8aoyQ3Td2ovzZKgoFqas+/y9R/i2uv27+jmdAhZ0jjv9blkNx/9ee/u7QHKJGv679FwF1jzVDuv+ajVZCHvu+/0cyA6UHq778zw3vgQNLuv/7EKbGcgey/HoWp19AP6b++EY/ezZ/kv5t8C+stvd6/uS6vtvIC078K7gSWfR+6v66jMI3K1bg/zNj+CMqz0j8GU5NFbHTeP8VG/JARgOQ/VRd++Pr16D/Gs4JQs27sP5qaFdMDx+4/qeneLiPn7z/042nOpsPvP9gOgqX2Xe4/OMkB7j7E6z/9Z75k4BDoP5iP07hkaeM/uZC6jgP62z9FwudzdQXQP7+/aRcgc6s/qfoy2vaWwr9Yeht6EqfVv0GySo+Dk+C/VkYXmlmr5b86gOjXYefpv0AmhVqoHO2/QVjAfKIq779LR8L4ePzvv/c6nk7bie+/aoTbGlTX7b+ZyHQFG/bqvwGAlBxmA+e/SyaVhkEn4r9LSbOR8iXZvxFJJfCU/Mm/Xoxm9n61dL+2yn6AzbfIP8jVY05Gjdg/TWeycc3i4T+vNMtwisnmPypGo6Uiyeo/PoROLwe57T84EgMybXvvP4SJfQp8/u8/CQoxVAI97z+vAAmWqj7tPzFjbX+tF+o/FMlQygTo5T+8beXiJtrgPz8C9l2wQtY/orA+GIzewz+7DWavUEemvwxlJXq1yc6/TuwQJ6Vk27+bkxc9SSfjv1WMPTH32ee/QXGaALWa678tzu9XcUPuv/10SCQzue+/yGroLCvt77+gVrtLSt3uv/ncfFBWlOy/WMO7unwp6b/USyOfZ7/kv0v5qhG8Bd+/GhwEi/tR07+1d6DbBGm7v6XSd+nti7c/roOPBoJk0j/1GyWbdyveP+YolesyYOQ/Rl6BSPvb6D8=",
        "encoding": "base64",
        "path": [
         "y",
         "value"
        ]
       }
      ],
      "model_module": "bqplot",
      "model_module_version": "^0.5.16",
      "model_name": "LinesModel",
      "state": {
       "fill_colors": [],
       "labels": [
        "C1"
       ],
       "scales": {
        "x": "IPY_MODEL_487701ae996b44aca3cb33171e6451da",
        "y": "IPY_MODEL_f827e15c2efd44c0aa937626a1a46d9a"
       },
       "x": {
        "dtype": "float64",
        "shape": [
         100
        ],
        "type": null
       },
       "y": {
        "dtype": "float64",
        "shape": [
         100
        ],
        "type": null
       }
      }
     },
     "829c23979a1243479adcd572d305f12c": {
      "model_module": "@jupyter-widgets/controls",
      "model_module_version": "1.5.0",
      "model_name": "FloatSliderModel",
      "state": {
       "layout": "IPY_MODEL_2be09625ce544bf4acd2ac39d243a1b2",
       "max": 5,
       "step": 0.1,
       "style": "IPY_MODEL_aacdd390284d40a586eec0fe487ceac4",
       "value": 1
      }
     },
     "831da5057963493898ab6939cf530353": {
      "model_module": "@jupyter-widgets/controls",
      "model_module_version": "1.5.0",
      "model_name": "DescriptionStyleModel",
      "state": {
       "description_width": ""
      }
     },
     "84e2b47113774d43ab02a9fb86c4a281": {
      "model_module": "@jupyter-widgets/base",
      "model_module_version": "1.2.0",
      "model_name": "LayoutModel",
      "state": {}
     },
     "85b952c5c631460082a934ddabed3a79": {
      "model_module": "@jupyter-widgets/controls",
      "model_module_version": "1.5.0",
      "model_name": "LabelModel",
      "state": {
       "layout": "IPY_MODEL_0f3fb68768eb4beebdf23c8f2b5d6a97",
       "style": "IPY_MODEL_831da5057963493898ab6939cf530353",
       "value": "Thread On"
      }
     },
     "85f58a5c783442dbb4642be428c33c07": {
      "model_module": "@jupyter-widgets/controls",
      "model_module_version": "1.5.0",
      "model_name": "FloatSliderModel",
      "state": {
       "layout": "IPY_MODEL_1edbbf4964754686853f5a9bbea0152e",
       "max": 5,
       "step": 0.1,
       "style": "IPY_MODEL_cc19fcfc35fa491db9ed1dd092e81310",
       "value": 1
      }
     },
     "8649003de47241acab2a8da0583c2d0b": {
      "model_module": "@jupyter-widgets/controls",
      "model_module_version": "1.5.0",
      "model_name": "ButtonModel",
      "state": {
       "button_style": "warning",
       "description": "stop",
       "icon": "stop",
       "layout": "IPY_MODEL_96738a642b03493f93133e3f1a4d5fa9",
       "style": "IPY_MODEL_9f64db4d871444838ec64750f7e6b941"
      }
     },
     "874c5ef7100f4e54a0e97710e91e773d": {
      "model_module": "@jupyter-widgets/base",
      "model_module_version": "1.2.0",
      "model_name": "LayoutModel",
      "state": {}
     },
     "89f2d4efe6c2478f975833e9426b8242": {
      "model_module": "@jupyter-widgets/base",
      "model_module_version": "1.2.0",
      "model_name": "LayoutModel",
      "state": {}
     },
     "89f9b35a1db541a5b4447393e6f28480": {
      "model_module": "bqplot",
      "model_module_version": "^0.5.16",
      "model_name": "AxisModel",
      "state": {
       "label": "y(t)",
       "orientation": "vertical",
       "scale": "IPY_MODEL_95fd4252f883437f9c2dff9e6e538dfc",
       "side": "left",
       "tick_values": null
      }
     },
     "8a5365638b16436cb88a2dcd59abe50a": {
      "model_module": "@jupyter-widgets/controls",
      "model_module_version": "1.5.0",
      "model_name": "ButtonModel",
      "state": {
       "button_style": "warning",
       "description": "stop",
       "icon": "stop",
       "layout": "IPY_MODEL_5e3b0040449a4e73a05634c360f63f8c",
       "style": "IPY_MODEL_2b83220e40794877a6a336ef252b873b"
      }
     },
     "8a7ca134148f4bb98cdc2a0b6c951e68": {
      "model_module": "bqplot",
      "model_module_version": "^0.5.16",
      "model_name": "LinearScaleModel",
      "state": {
       "stabilized": false
      }
     },
     "8b420e3090a741638a4beda314c32998": {
      "model_module": "@jupyter-widgets/controls",
      "model_module_version": "1.5.0",
      "model_name": "DescriptionStyleModel",
      "state": {
       "description_width": ""
      }
     },
     "8c59902eda234255b9fe13c96fc8cc65": {
      "model_module": "@jupyter-widgets/controls",
      "model_module_version": "1.5.0",
      "model_name": "ButtonStyleModel",
      "state": {}
     },
     "8caad8209316444abcbd5a760cbf77cf": {
      "model_module": "@jupyter-widgets/controls",
      "model_module_version": "1.5.0",
      "model_name": "LabelModel",
      "state": {
       "layout": "IPY_MODEL_a1de10d2865841eaad652e518b373a40",
       "style": "IPY_MODEL_d57d4a9f74e34599a0d4d24ad86591a3",
       "value": "Thread On"
      }
     },
     "8cb04afb7c5e45ab9bfdc312895615df": {
      "model_module": "@jupyter-widgets/base",
      "model_module_version": "1.2.0",
      "model_name": "LayoutModel",
      "state": {}
     },
     "8de8a1cf47864649af6cc7fba687d2cb": {
      "model_module": "@jupyter-widgets/controls",
      "model_module_version": "1.5.0",
      "model_name": "SliderStyleModel",
      "state": {
       "description_width": ""
      }
     },
     "8f168e7a92b14b578399ff4693032f23": {
      "model_module": "@jupyter-widgets/base",
      "model_module_version": "1.2.0",
      "model_name": "LayoutModel",
      "state": {
       "width": "100px"
      }
     },
     "8f5f13140a544f5ca12bb50b230ae6a7": {
      "model_module": "@jupyter-widgets/base",
      "model_module_version": "1.2.0",
      "model_name": "LayoutModel",
      "state": {}
     },
     "914524213ad648e7b9867f9198441793": {
      "model_module": "@jupyter-widgets/controls",
      "model_module_version": "1.5.0",
      "model_name": "ButtonStyleModel",
      "state": {}
     },
     "91580b57781a41aebc942718e2524261": {
      "buffers": [
       {
        "data": "AAAAAAAAAACRGkt8Vz+wP5EaS3xXP8A/2qdwOgNfyD+RGkt8Vz/QPzXhXVstT9Q/2qdwOgNf2D9+boMZ2W7cP5EaS3xXP+A/433Ua0JH4j814V1bLU/kP4dE50oYV+Y/2qdwOgNf6D8sC/op7mbqP35ugxnZbuw/0NEMCcR27j+RGkt8Vz/wPzrMD/RMQ/E/433Ua0JH8j+ML5njN0vzPzXhXVstT/Q/3pIi0yJT9T+HROdKGFf2PzD2q8INW/c/2qdwOgNf+D+DWTWy+GL5PywL+inuZvo/1by+oeNq+z9+boMZ2W78PycgSJHOcv0/0NEMCcR2/j95g9GAuXr/P5EaS3xXPwBAZnMtOFLBAEA6zA/0TEMBQA8l8q9HxQFA433Ua0JHAkC41rYnPckCQIwvmeM3SwNAYYh7nzLNA0A14V1bLU8EQAo6QBco0QRA3pIi0yJTBUCz6wSPHdUFQIdE50oYVwZAXJ3JBhPZBkAw9qvCDVsHQAVPjn4I3QdA2qdwOgNfCECuAFP2/eAIQINZNbL4YglAV7IXbvPkCUAsC/op7mYKQABk3OXo6ApA1by+oeNqC0CpFaFd3uwLQH5ugxnZbgxAUsdl1dPwDEAnIEiRznINQPt4Kk3J9A1A0NEMCcR2DkCkKu/EvvgOQHmD0YC5eg9ATdyzPLT8D0CRGkt8Vz8QQPtGPNpUgBBAZnMtOFLBEEDQnx6WTwIRQDrMD/RMQxFApPgAUkqEEUAPJfKvR8URQHlR4w1FBhJA433Ua0JHEkBNqsXJP4gSQLjWtic9yRJAIgOohToKE0CML5njN0sTQPZbikE1jBNAYYh7nzLNE0DLtGz9Lw4UQDXhXVstTxRAoA1PuSqQFEAKOkAXKNEUQHRmMXUlEhVA3pIi0yJTFUBJvxMxIJQVQLPrBI8d1RVAHRj27BoWFkCHROdKGFcWQPJw2KgVmBZAXJ3JBhPZFkDGybpkEBoXQDD2q8INWxdAmyKdIAucF0AFT45+CN0XQG97f9wFHhhA2qdwOgNfGEBE1GGYAKAYQK4AU/b94BhAGC1EVPshGUA=",
        "encoding": "base64",
        "path": [
         "x",
         "value"
        ]
       },
       {
        "data": "AAAAAAAAAADHHr10RlrJP7pcwkCx2dg/ecctlBYF4j8hZk11i+bmP3MQKli13+o/wSpel0bI7T/bVDmlvoLvPxkabU2V/e8/pa9bi+wz7z9ljSLpwS3tP4QulHKd/+k/P6lFcsHJ5T+cvTI547bgP0EkSdDz9NU/M/uylNE6wz8aoyQ3Td2ovzZKgoFqas+/y9R/i2uv27+jmdAhZ0jjv9blkNx/9ee/u7QHKJGv679FwF1jzVDuv+ajVZCHvu+/0cyA6UHq778zw3vgQNLuv/7EKbGcgey/HoWp19AP6b++EY/ezZ/kv5t8C+stvd6/uS6vtvIC078K7gSWfR+6v66jMI3K1bg/zNj+CMqz0j8GU5NFbHTeP8VG/JARgOQ/VRd++Pr16D/Gs4JQs27sP5qaFdMDx+4/qeneLiPn7z/042nOpsPvP9gOgqX2Xe4/OMkB7j7E6z/9Z75k4BDoP5iP07hkaeM/uZC6jgP62z9FwudzdQXQP7+/aRcgc6s/qfoy2vaWwr9Yeht6EqfVv0GySo+Dk+C/VkYXmlmr5b86gOjXYefpv0AmhVqoHO2/QVjAfKIq779LR8L4ePzvv/c6nk7bie+/aoTbGlTX7b+ZyHQFG/bqvwGAlBxmA+e/SyaVhkEn4r9LSbOR8iXZvxFJJfCU/Mm/Xoxm9n61dL+2yn6AzbfIP8jVY05Gjdg/TWeycc3i4T+vNMtwisnmPypGo6Uiyeo/PoROLwe57T84EgMybXvvP4SJfQp8/u8/CQoxVAI97z+vAAmWqj7tPzFjbX+tF+o/FMlQygTo5T+8beXiJtrgPz8C9l2wQtY/orA+GIzewz+7DWavUEemvwxlJXq1yc6/TuwQJ6Vk27+bkxc9SSfjv1WMPTH32ee/QXGaALWa678tzu9XcUPuv/10SCQzue+/yGroLCvt77+gVrtLSt3uv/ncfFBWlOy/WMO7unwp6b/USyOfZ7/kv0v5qhG8Bd+/GhwEi/tR07+1d6DbBGm7v6XSd+nti7c/roOPBoJk0j/1GyWbdyveP+YolesyYOQ/Rl6BSPvb6D8=",
        "encoding": "base64",
        "path": [
         "y",
         "value"
        ]
       }
      ],
      "model_module": "bqplot",
      "model_module_version": "^0.5.16",
      "model_name": "LinesModel",
      "state": {
       "fill_colors": [],
       "labels": [
        "C1"
       ],
       "scales": {
        "x": "IPY_MODEL_082801c092044ec5b0b1271704fe3cba",
        "y": "IPY_MODEL_72f4dc44dc9c4de49a1d0d288e9052d8"
       },
       "x": {
        "dtype": "float64",
        "shape": [
         100
        ],
        "type": null
       },
       "y": {
        "dtype": "float64",
        "shape": [
         100
        ],
        "type": null
       }
      }
     },
     "91f74fe3471c44b09663941b508d74a7": {
      "model_module": "@jupyter-widgets/controls",
      "model_module_version": "1.5.0",
      "model_name": "ButtonModel",
      "state": {
       "description": "check thread",
       "layout": "IPY_MODEL_c9b3bcb7835e4eeeab16923b286eeaf1",
       "style": "IPY_MODEL_93d0a599fa3d42aa8f9cd44be9296c56"
      }
     },
     "9267833fe7fb460a94d2e2d42048cf0d": {
      "model_module": "@jupyter-widgets/controls",
      "model_module_version": "1.5.0",
      "model_name": "DescriptionStyleModel",
      "state": {
       "description_width": ""
      }
     },
     "931a5fa3095c45f5a41b57ea84387750": {
      "model_module": "@jupyter-widgets/base",
      "model_module_version": "1.2.0",
      "model_name": "LayoutModel",
      "state": {}
     },
     "93d0a599fa3d42aa8f9cd44be9296c56": {
      "model_module": "@jupyter-widgets/controls",
      "model_module_version": "1.5.0",
      "model_name": "ButtonStyleModel",
      "state": {}
     },
     "94af7ed32c774e2192516fb61f355088": {
      "model_module": "bqplot",
      "model_module_version": "^0.5.16",
      "model_name": "LinearScaleModel",
      "state": {
       "stabilized": false
      }
     },
     "95071ff2ba3c4ba79b25db4bd83f98b5": {
      "model_module": "@jupyter-widgets/controls",
      "model_module_version": "1.5.0",
      "model_name": "VBoxModel",
      "state": {
       "children": [
        "IPY_MODEL_ebb1d0a329084feeb62bed02b9be162b",
        "IPY_MODEL_253201d0f86d44c093b99a78a1a461d8",
        "IPY_MODEL_4e651e2e402e446086075f7339d44826",
        "IPY_MODEL_a922d95fc8fd4abe98917fb473ae267c",
        "IPY_MODEL_1c4a46f9e3034829b435497bbe31ec0d",
        "IPY_MODEL_486a33b1ad20421d9554d7b70b7a626f"
       ],
       "layout": "IPY_MODEL_931a5fa3095c45f5a41b57ea84387750"
      }
     },
     "9556d130ed634c868db638f3c7ef28d8": {
      "model_module": "@jupyter-widgets/controls",
      "model_module_version": "1.5.0",
      "model_name": "SliderStyleModel",
      "state": {
       "description_width": ""
      }
     },
     "95fd4252f883437f9c2dff9e6e538dfc": {
      "model_module": "bqplot",
      "model_module_version": "^0.5.16",
      "model_name": "LinearScaleModel",
      "state": {
       "stabilized": false
      }
     },
     "96292d9cceba45eea36d09a9512c5eee": {
      "model_module": "@jupyter-widgets/base",
      "model_module_version": "1.2.0",
      "model_name": "LayoutModel",
      "state": {}
     },
     "96738a642b03493f93133e3f1a4d5fa9": {
      "model_module": "@jupyter-widgets/base",
      "model_module_version": "1.2.0",
      "model_name": "LayoutModel",
      "state": {
       "width": "100px"
      }
     },
     "982957f2924f4b8390d43823db27f3a3": {
      "buffers": [
       {
        "data": "AAAAAAAAAACRGkt8Vz+wP5EaS3xXP8A/2qdwOgNfyD+RGkt8Vz/QPzXhXVstT9Q/2qdwOgNf2D9+boMZ2W7cP5EaS3xXP+A/433Ua0JH4j814V1bLU/kP4dE50oYV+Y/2qdwOgNf6D8sC/op7mbqP35ugxnZbuw/0NEMCcR27j+RGkt8Vz/wPzrMD/RMQ/E/433Ua0JH8j+ML5njN0vzPzXhXVstT/Q/3pIi0yJT9T+HROdKGFf2PzD2q8INW/c/2qdwOgNf+D+DWTWy+GL5PywL+inuZvo/1by+oeNq+z9+boMZ2W78PycgSJHOcv0/0NEMCcR2/j95g9GAuXr/P5EaS3xXPwBAZnMtOFLBAEA6zA/0TEMBQA8l8q9HxQFA433Ua0JHAkC41rYnPckCQIwvmeM3SwNAYYh7nzLNA0A14V1bLU8EQAo6QBco0QRA3pIi0yJTBUCz6wSPHdUFQIdE50oYVwZAXJ3JBhPZBkAw9qvCDVsHQAVPjn4I3QdA2qdwOgNfCECuAFP2/eAIQINZNbL4YglAV7IXbvPkCUAsC/op7mYKQABk3OXo6ApA1by+oeNqC0CpFaFd3uwLQH5ugxnZbgxAUsdl1dPwDEAnIEiRznINQPt4Kk3J9A1A0NEMCcR2DkCkKu/EvvgOQHmD0YC5eg9ATdyzPLT8D0CRGkt8Vz8QQPtGPNpUgBBAZnMtOFLBEEDQnx6WTwIRQDrMD/RMQxFApPgAUkqEEUAPJfKvR8URQHlR4w1FBhJA433Ua0JHEkBNqsXJP4gSQLjWtic9yRJAIgOohToKE0CML5njN0sTQPZbikE1jBNAYYh7nzLNE0DLtGz9Lw4UQDXhXVstTxRAoA1PuSqQFEAKOkAXKNEUQHRmMXUlEhVA3pIi0yJTFUBJvxMxIJQVQLPrBI8d1RVAHRj27BoWFkCHROdKGFcWQPJw2KgVmBZAXJ3JBhPZFkDGybpkEBoXQDD2q8INWxdAmyKdIAucF0AFT45+CN0XQG97f9wFHhhA2qdwOgNfGEBE1GGYAKAYQK4AU/b94BhAGC1EVPshGUA=",
        "encoding": "base64",
        "path": [
         "x",
         "value"
        ]
       },
       {
        "data": "AAAAAAAAAADHHr10RlrJP7pcwkCx2dg/ecctlBYF4j8hZk11i+bmP3MQKli13+o/wSpel0bI7T/bVDmlvoLvPxkabU2V/e8/pa9bi+wz7z9ljSLpwS3tP4QulHKd/+k/P6lFcsHJ5T+cvTI547bgP0EkSdDz9NU/M/uylNE6wz8aoyQ3Td2ovzZKgoFqas+/y9R/i2uv27+jmdAhZ0jjv9blkNx/9ee/u7QHKJGv679FwF1jzVDuv+ajVZCHvu+/0cyA6UHq778zw3vgQNLuv/7EKbGcgey/HoWp19AP6b++EY/ezZ/kv5t8C+stvd6/uS6vtvIC078K7gSWfR+6v66jMI3K1bg/zNj+CMqz0j8GU5NFbHTeP8VG/JARgOQ/VRd++Pr16D/Gs4JQs27sP5qaFdMDx+4/qeneLiPn7z/042nOpsPvP9gOgqX2Xe4/OMkB7j7E6z/9Z75k4BDoP5iP07hkaeM/uZC6jgP62z9FwudzdQXQP7+/aRcgc6s/qfoy2vaWwr9Yeht6EqfVv0GySo+Dk+C/VkYXmlmr5b86gOjXYefpv0AmhVqoHO2/QVjAfKIq779LR8L4ePzvv/c6nk7bie+/aoTbGlTX7b+ZyHQFG/bqvwGAlBxmA+e/SyaVhkEn4r9LSbOR8iXZvxFJJfCU/Mm/Xoxm9n61dL+2yn6AzbfIP8jVY05Gjdg/TWeycc3i4T+vNMtwisnmPypGo6Uiyeo/PoROLwe57T84EgMybXvvP4SJfQp8/u8/CQoxVAI97z+vAAmWqj7tPzFjbX+tF+o/FMlQygTo5T+8beXiJtrgPz8C9l2wQtY/orA+GIzewz+7DWavUEemvwxlJXq1yc6/TuwQJ6Vk27+bkxc9SSfjv1WMPTH32ee/QXGaALWa678tzu9XcUPuv/10SCQzue+/yGroLCvt77+gVrtLSt3uv/ncfFBWlOy/WMO7unwp6b/USyOfZ7/kv0v5qhG8Bd+/GhwEi/tR07+1d6DbBGm7v6XSd+nti7c/roOPBoJk0j/1GyWbdyveP+YolesyYOQ/Rl6BSPvb6D8=",
        "encoding": "base64",
        "path": [
         "y",
         "value"
        ]
       }
      ],
      "model_module": "bqplot",
      "model_module_version": "^0.5.16",
      "model_name": "LinesModel",
      "state": {
       "fill_colors": [],
       "labels": [
        "C1"
       ],
       "scales": {
        "x": "IPY_MODEL_4f794cb3af7f450e8a11cef51371901d",
        "y": "IPY_MODEL_66a63d31b5414ee7a85e4f609859335d"
       },
       "x": {
        "dtype": "float64",
        "shape": [
         100
        ],
        "type": null
       },
       "y": {
        "dtype": "float64",
        "shape": [
         100
        ],
        "type": null
       }
      }
     },
     "986f4649649842df811e17acc81841c0": {
      "model_module": "bqplot",
      "model_module_version": "^0.5.16",
      "model_name": "AxisModel",
      "state": {
       "label": "x(t)",
       "scale": "IPY_MODEL_afeae614fba941de917f0fbc3cc80946",
       "side": "bottom",
       "tick_values": null
      }
     },
     "991db0fd4879425cb462029382c922a9": {
      "model_module": "bqplot",
      "model_module_version": "^0.5.16",
      "model_name": "FigureModel",
      "state": {
       "axes": [
        "IPY_MODEL_6b0572d05945434895a1d2dad8eb53ee",
        "IPY_MODEL_dc08245d08014bf787407c84e4ecf39f"
       ],
       "fig_margin": {
        "bottom": 40,
        "left": 50,
        "right": 10,
        "top": 10
       },
       "layout": "IPY_MODEL_c31707ea7dce479495ea2b7b8cd1e78e",
       "marks": [
        "IPY_MODEL_813b6009be82440aaea63d4b340a7163"
       ],
       "scale_x": "IPY_MODEL_fe39552dfb894a0da791dc967df94b57",
       "scale_y": "IPY_MODEL_fb9ef2772ba648b5a82aeefb440eacf6"
      }
     },
     "993e731bccd246cf8cb434aeb6cf5e04": {
      "model_module": "@jupyter-widgets/base",
      "model_module_version": "1.2.0",
      "model_name": "LayoutModel",
      "state": {}
     },
     "995dfd7ba35748cbbb70c2bb3e6b1193": {
      "model_module": "@jupyter-widgets/controls",
      "model_module_version": "1.5.0",
      "model_name": "FloatSliderModel",
      "state": {
       "layout": "IPY_MODEL_6dcb588815c24b70ad3cbdc8bcde7af9",
       "max": 1,
       "step": 0.1,
       "style": "IPY_MODEL_bc01791225ce40008c7a49b4b028f75c",
       "value": 0.3
      }
     },
     "9a1a405d050043f99a50d9cfa4a86235": {
      "model_module": "bqplot",
      "model_module_version": "^0.5.16",
      "model_name": "LinearScaleModel",
      "state": {
       "allow_padding": false,
       "max": 1,
       "min": 0,
       "stabilized": false
      }
     },
     "9a390db1e3b145b1976afdc6bcf721de": {
      "model_module": "@jupyter-widgets/controls",
      "model_module_version": "1.5.0",
      "model_name": "VBoxModel",
      "state": {
       "children": [
        "IPY_MODEL_dc74e4fbde414657bd2b582cb760df8f",
        "IPY_MODEL_85f58a5c783442dbb4642be428c33c07",
        "IPY_MODEL_6ece10db2e78457c82be6b44217f373d",
        "IPY_MODEL_6c64349339c142b5bf1b1e985a9b48c0",
        "IPY_MODEL_9be07fa6b8dd450d8e6e4a6003893cbd",
        "IPY_MODEL_b5e67fd502cc458f81b3e98c42ca0ba9"
       ],
       "layout": "IPY_MODEL_5718b5954f0e4d08b09fd026f4efb098"
      }
     },
     "9be07fa6b8dd450d8e6e4a6003893cbd": {
      "model_module": "@jupyter-widgets/controls",
      "model_module_version": "1.5.0",
      "model_name": "ButtonModel",
      "state": {
       "button_style": "warning",
       "description": "stop",
       "icon": "stop",
       "layout": "IPY_MODEL_494e373a8d4c4c9f96238c0160e5ffc1",
       "style": "IPY_MODEL_914524213ad648e7b9867f9198441793"
      }
     },
     "9c14fe326a6a453faea3b040e09916a4": {
      "model_module": "@jupyter-widgets/controls",
      "model_module_version": "1.5.0",
      "model_name": "SliderStyleModel",
      "state": {
       "description_width": ""
      }
     },
     "9c648b6292e94b1087ae874bbd37276b": {
      "model_module": "bqplot",
      "model_module_version": "^0.5.16",
      "model_name": "LinearScaleModel",
      "state": {
       "allow_padding": false,
       "max": 1,
       "min": 0,
       "stabilized": false
      }
     },
     "9c7ac0609fe34828a216a4e0001c9416": {
      "model_module": "@jupyter-widgets/controls",
      "model_module_version": "1.5.0",
      "model_name": "FloatSliderModel",
      "state": {
       "layout": "IPY_MODEL_ef6736ff897c47f09188ac485d711a80",
       "max": 1,
       "step": 0.1,
       "style": "IPY_MODEL_37a099b7d46244c9afb5216b4fe959db",
       "value": 0.5
      }
     },
     "9cda27d88b684094a294e21295a8276a": {
      "model_module": "bqplot",
      "model_module_version": "^0.5.16",
      "model_name": "AxisModel",
      "state": {
       "label": "y(t)",
       "orientation": "vertical",
       "scale": "IPY_MODEL_e34b4e706fc242578792d7fc67cf6077",
       "side": "left",
       "tick_values": null
      }
     },
     "9e23897fb7c24c33a6125ca798533b25": {
      "model_module": "@jupyter-widgets/controls",
      "model_module_version": "1.5.0",
      "model_name": "ButtonModel",
      "state": {
       "button_style": "warning",
       "description": "stop",
       "icon": "stop",
       "layout": "IPY_MODEL_10990bfb59be48b889c641ba297a660e",
       "style": "IPY_MODEL_a268a54320c04cbea7bf9fb3ad097338"
      }
     },
     "9e45a8fbb6494b53b939a5570a1c2b07": {
      "model_module": "@jupyter-widgets/base",
      "model_module_version": "1.2.0",
      "model_name": "LayoutModel",
      "state": {
       "height": "300px",
       "width": "500px"
      }
     },
     "9ee0687c6b6e420d81e6ea1abf16f5a7": {
      "model_module": "bqplot",
      "model_module_version": "^0.5.16",
      "model_name": "AxisModel",
      "state": {
       "label": "x(t)",
       "scale": "IPY_MODEL_0bd8dad058b14036a22cfee3cd246594",
       "side": "bottom",
       "tick_values": null
      }
     },
     "9f1b01e9d64d42dca56ce1262407f9c7": {
      "model_module": "@jupyter-widgets/controls",
      "model_module_version": "1.5.0",
      "model_name": "FloatSliderModel",
      "state": {
       "layout": "IPY_MODEL_36878d9606b54350b1819d0f63a92841",
       "max": 5,
       "step": 0.1,
       "style": "IPY_MODEL_7beec2fe7cd246c0a333da402ba18d3e",
       "value": 2
      }
     },
     "9f478f72a94f477285783d39a5a8d601": {
      "model_module": "bqplot",
      "model_module_version": "^0.5.16",
      "model_name": "LinearScaleModel",
      "state": {
       "allow_padding": false,
       "max": 1,
       "min": 0,
       "stabilized": false
      }
     },
     "9f64db4d871444838ec64750f7e6b941": {
      "model_module": "@jupyter-widgets/controls",
      "model_module_version": "1.5.0",
      "model_name": "ButtonStyleModel",
      "state": {}
     },
     "9f9d926eb55c4c8682f02b27bd02080e": {
      "model_module": "@jupyter-widgets/controls",
      "model_module_version": "1.5.0",
      "model_name": "SliderStyleModel",
      "state": {
       "description_width": ""
      }
     },
     "a185b73fcbca44c58be379cb340bb5c7": {
      "model_module": "@jupyter-widgets/base",
      "model_module_version": "1.2.0",
      "model_name": "LayoutModel",
      "state": {
       "width": "100px"
      }
     },
     "a1de10d2865841eaad652e518b373a40": {
      "model_module": "@jupyter-widgets/base",
      "model_module_version": "1.2.0",
      "model_name": "LayoutModel",
      "state": {}
     },
     "a2610f1df64d4343b2d760d4c0940240": {
      "model_module": "@jupyter-widgets/controls",
      "model_module_version": "1.5.0",
      "model_name": "SliderStyleModel",
      "state": {
       "description_width": ""
      }
     },
     "a268a54320c04cbea7bf9fb3ad097338": {
      "model_module": "@jupyter-widgets/controls",
      "model_module_version": "1.5.0",
      "model_name": "ButtonStyleModel",
      "state": {}
     },
     "a29d057a38f74d2cbe934e50331371df": {
      "model_module": "@jupyter-widgets/controls",
      "model_module_version": "1.5.0",
      "model_name": "DescriptionStyleModel",
      "state": {
       "description_width": ""
      }
     },
     "a31b9cd205e14e278364137f2a61dd5d": {
      "model_module": "@jupyter-widgets/controls",
      "model_module_version": "1.5.0",
      "model_name": "ButtonStyleModel",
      "state": {}
     },
     "a64b1d57ddc84e67aaa97d466a8d7282": {
      "buffers": [
       {
        "data": "AAAAAAAAAACRGkt8Vz+wP5EaS3xXP8A/2qdwOgNfyD+RGkt8Vz/QPzXhXVstT9Q/2qdwOgNf2D9+boMZ2W7cP5EaS3xXP+A/433Ua0JH4j814V1bLU/kP4dE50oYV+Y/2qdwOgNf6D8sC/op7mbqP35ugxnZbuw/0NEMCcR27j+RGkt8Vz/wPzrMD/RMQ/E/433Ua0JH8j+ML5njN0vzPzXhXVstT/Q/3pIi0yJT9T+HROdKGFf2PzD2q8INW/c/2qdwOgNf+D+DWTWy+GL5PywL+inuZvo/1by+oeNq+z9+boMZ2W78PycgSJHOcv0/0NEMCcR2/j95g9GAuXr/P5EaS3xXPwBAZnMtOFLBAEA6zA/0TEMBQA8l8q9HxQFA433Ua0JHAkC41rYnPckCQIwvmeM3SwNAYYh7nzLNA0A14V1bLU8EQAo6QBco0QRA3pIi0yJTBUCz6wSPHdUFQIdE50oYVwZAXJ3JBhPZBkAw9qvCDVsHQAVPjn4I3QdA2qdwOgNfCECuAFP2/eAIQINZNbL4YglAV7IXbvPkCUAsC/op7mYKQABk3OXo6ApA1by+oeNqC0CpFaFd3uwLQH5ugxnZbgxAUsdl1dPwDEAnIEiRznINQPt4Kk3J9A1A0NEMCcR2DkCkKu/EvvgOQHmD0YC5eg9ATdyzPLT8D0CRGkt8Vz8QQPtGPNpUgBBAZnMtOFLBEEDQnx6WTwIRQDrMD/RMQxFApPgAUkqEEUAPJfKvR8URQHlR4w1FBhJA433Ua0JHEkBNqsXJP4gSQLjWtic9yRJAIgOohToKE0CML5njN0sTQPZbikE1jBNAYYh7nzLNE0DLtGz9Lw4UQDXhXVstTxRAoA1PuSqQFEAKOkAXKNEUQHRmMXUlEhVA3pIi0yJTFUBJvxMxIJQVQLPrBI8d1RVAHRj27BoWFkCHROdKGFcWQPJw2KgVmBZAXJ3JBhPZFkDGybpkEBoXQDD2q8INWxdAmyKdIAucF0AFT45+CN0XQG97f9wFHhhA2qdwOgNfGEBE1GGYAKAYQK4AU/b94BhAGC1EVPshGUA=",
        "encoding": "base64",
        "path": [
         "x",
         "value"
        ]
       },
       {
        "data": "AAAAAAAAAADHHr10RlrJP7pcwkCx2dg/ecctlBYF4j8hZk11i+bmP3MQKli13+o/wSpel0bI7T/bVDmlvoLvPxkabU2V/e8/pa9bi+wz7z9ljSLpwS3tP4QulHKd/+k/P6lFcsHJ5T+cvTI547bgP0EkSdDz9NU/M/uylNE6wz8aoyQ3Td2ovzZKgoFqas+/y9R/i2uv27+jmdAhZ0jjv9blkNx/9ee/u7QHKJGv679FwF1jzVDuv+ajVZCHvu+/0cyA6UHq778zw3vgQNLuv/7EKbGcgey/HoWp19AP6b++EY/ezZ/kv5t8C+stvd6/uS6vtvIC078K7gSWfR+6v66jMI3K1bg/zNj+CMqz0j8GU5NFbHTeP8VG/JARgOQ/VRd++Pr16D/Gs4JQs27sP5qaFdMDx+4/qeneLiPn7z/042nOpsPvP9gOgqX2Xe4/OMkB7j7E6z/9Z75k4BDoP5iP07hkaeM/uZC6jgP62z9FwudzdQXQP7+/aRcgc6s/qfoy2vaWwr9Yeht6EqfVv0GySo+Dk+C/VkYXmlmr5b86gOjXYefpv0AmhVqoHO2/QVjAfKIq779LR8L4ePzvv/c6nk7bie+/aoTbGlTX7b+ZyHQFG/bqvwGAlBxmA+e/SyaVhkEn4r9LSbOR8iXZvxFJJfCU/Mm/Xoxm9n61dL+2yn6AzbfIP8jVY05Gjdg/TWeycc3i4T+vNMtwisnmPypGo6Uiyeo/PoROLwe57T84EgMybXvvP4SJfQp8/u8/CQoxVAI97z+vAAmWqj7tPzFjbX+tF+o/FMlQygTo5T+8beXiJtrgPz8C9l2wQtY/orA+GIzewz+7DWavUEemvwxlJXq1yc6/TuwQJ6Vk27+bkxc9SSfjv1WMPTH32ee/QXGaALWa678tzu9XcUPuv/10SCQzue+/yGroLCvt77+gVrtLSt3uv/ncfFBWlOy/WMO7unwp6b/USyOfZ7/kv0v5qhG8Bd+/GhwEi/tR07+1d6DbBGm7v6XSd+nti7c/roOPBoJk0j/1GyWbdyveP+YolesyYOQ/Rl6BSPvb6D8=",
        "encoding": "base64",
        "path": [
         "y",
         "value"
        ]
       }
      ],
      "model_module": "bqplot",
      "model_module_version": "^0.5.16",
      "model_name": "LinesModel",
      "state": {
       "fill_colors": [],
       "labels": [
        "C1"
       ],
       "scales": {
        "x": "IPY_MODEL_81189851c8624246b48d3ff52715472b",
        "y": "IPY_MODEL_bc3427eb27214769a50aeb080572bfe3"
       },
       "x": {
        "dtype": "float64",
        "shape": [
         100
        ],
        "type": null
       },
       "y": {
        "dtype": "float64",
        "shape": [
         100
        ],
        "type": null
       }
      }
     },
     "a7195d7759d744d2b730ee7bb88b7e80": {
      "model_module": "@jupyter-widgets/base",
      "model_module_version": "1.2.0",
      "model_name": "LayoutModel",
      "state": {
       "height": "300px",
       "width": "500px"
      }
     },
     "a772c5f71f7c4d3fa7cb0eac17246e82": {
      "model_module": "@jupyter-widgets/controls",
      "model_module_version": "1.5.0",
      "model_name": "DescriptionStyleModel",
      "state": {
       "description_width": ""
      }
     },
     "a78813cee97d44b29ca349674eafe383": {
      "model_module": "@jupyter-widgets/base",
      "model_module_version": "1.2.0",
      "model_name": "LayoutModel",
      "state": {
       "height": "300px",
       "width": "500px"
      }
     },
     "a87d47b56415492dbde023f534fbbdf6": {
      "model_module": "@jupyter-widgets/controls",
      "model_module_version": "1.5.0",
      "model_name": "ButtonStyleModel",
      "state": {}
     },
     "a922d95fc8fd4abe98917fb473ae267c": {
      "model_module": "@jupyter-widgets/controls",
      "model_module_version": "1.5.0",
      "model_name": "LabelModel",
      "state": {
       "layout": "IPY_MODEL_1859b3556aa64edb999086ec65b52ff7",
       "style": "IPY_MODEL_a772c5f71f7c4d3fa7cb0eac17246e82",
       "value": "Thread On"
      }
     },
     "a92c2f23e1e9484aaa484999bf86dd31": {
      "model_module": "@jupyter-widgets/base",
      "model_module_version": "1.2.0",
      "model_name": "LayoutModel",
      "state": {
       "width": "100px"
      }
     },
     "a97e9fb0bce24b3fb7728b78e97e6b2b": {
      "model_module": "bqplot",
      "model_module_version": "^0.5.16",
      "model_name": "LinearScaleModel",
      "state": {
       "allow_padding": false,
       "max": 1,
       "min": 0,
       "stabilized": false
      }
     },
     "a9fbe605d21a4bcaad4b455e6b9d0464": {
      "model_module": "@jupyter-widgets/controls",
      "model_module_version": "1.5.0",
      "model_name": "FloatSliderModel",
      "state": {
       "layout": "IPY_MODEL_7408c591c23a486dade35f13ae4403ad",
       "max": 5,
       "step": 0.1,
       "style": "IPY_MODEL_6b07f78b5df1457aa7fd649d5d3f2a24",
       "value": 1
      }
     },
     "aa6e2b60488b41a1a6b2d51a931f8576": {
      "model_module": "@jupyter-widgets/controls",
      "model_module_version": "1.5.0",
      "model_name": "FloatSliderModel",
      "state": {
       "layout": "IPY_MODEL_993e731bccd246cf8cb434aeb6cf5e04",
       "max": 1,
       "step": 0.1,
       "style": "IPY_MODEL_9c14fe326a6a453faea3b040e09916a4",
       "value": 0.5
      }
     },
     "aacdd390284d40a586eec0fe487ceac4": {
      "model_module": "@jupyter-widgets/controls",
      "model_module_version": "1.5.0",
      "model_name": "SliderStyleModel",
      "state": {
       "description_width": ""
      }
     },
     "ac542c6465b04bdd962e810d4e912daf": {
      "model_module": "@jupyter-widgets/controls",
      "model_module_version": "1.5.0",
      "model_name": "LabelModel",
      "state": {
       "layout": "IPY_MODEL_5dd8726646cf4bd2bfc5337510ccbde6",
       "style": "IPY_MODEL_c1a369775e6249938dc3667141021300",
       "value": "Thread Off"
      }
     },
     "acf293cfafde4db0b895b193cd8e63e3": {
      "model_module": "bqplot",
      "model_module_version": "^0.5.16",
      "model_name": "LinearScaleModel",
      "state": {
       "allow_padding": false,
       "max": 1,
       "min": 0,
       "stabilized": false
      }
     },
     "aea1c633c8da49cb81c7585f557d5724": {
      "model_module": "@jupyter-widgets/controls",
      "model_module_version": "1.5.0",
      "model_name": "FloatSliderModel",
      "state": {
       "layout": "IPY_MODEL_c776d6749bb14761907e7d3d151ed0c1",
       "max": 5,
       "step": 0.1,
       "style": "IPY_MODEL_3af02c36ba0f49c8bf6f736fa5936c82",
       "value": 1
      }
     },
     "afeae614fba941de917f0fbc3cc80946": {
      "model_module": "bqplot",
      "model_module_version": "^0.5.16",
      "model_name": "LinearScaleModel",
      "state": {
       "stabilized": false
      }
     },
     "b0058fd5e81b4625984a5ca3f10ab424": {
      "model_module": "@jupyter-widgets/controls",
      "model_module_version": "1.5.0",
      "model_name": "SliderStyleModel",
      "state": {
       "description_width": ""
      }
     },
     "b0cbfe2a199f458e97a64e4c97958503": {
      "model_module": "@jupyter-widgets/controls",
      "model_module_version": "1.5.0",
      "model_name": "LabelModel",
      "state": {
       "layout": "IPY_MODEL_17537640fff6485bafd09ad7f5f99a27",
       "style": "IPY_MODEL_3b0cbe72834f47c18e4c5f4876717c80",
       "value": "[<_MainThread(MainThread, started 13004)>, <Thread(Thread-4, started daemon 8780)>, <Heartbeat(Thread-5, started daemon 9244)>, <HistorySavingThread(IPythonHistorySavingThread, started 8048)>, <ParentPollerWindows(Thread-3, started daemon 272)>, <Thread(work, started 13040)>]"
      }
     },
     "b145d5f81b17424185d7470027968c10": {
      "model_module": "@jupyter-widgets/controls",
      "model_module_version": "1.5.0",
      "model_name": "FloatSliderModel",
      "state": {
       "layout": "IPY_MODEL_47aa9dd405a14d3b98060899b2678a68",
       "max": 5,
       "step": 0.1,
       "style": "IPY_MODEL_a2610f1df64d4343b2d760d4c0940240",
       "value": 1
      }
     },
     "b19fa76cf1484500b0ff5fa4b3a93d9d": {
      "model_module": "@jupyter-widgets/controls",
      "model_module_version": "1.5.0",
      "model_name": "LabelModel",
      "state": {
       "layout": "IPY_MODEL_cc54cb821b864a9494fcd0d9e22dc24b",
       "style": "IPY_MODEL_7d96d76f003c4e268e2453e732be468d",
       "value": "Thread On"
      }
     },
     "b1e7c10dabd84effb316ac615c2ad0c0": {
      "buffers": [
       {
        "data": "AAAAAAAAAACRGkt8Vz+wP5EaS3xXP8A/2qdwOgNfyD+RGkt8Vz/QPzXhXVstT9Q/2qdwOgNf2D9+boMZ2W7cP5EaS3xXP+A/433Ua0JH4j814V1bLU/kP4dE50oYV+Y/2qdwOgNf6D8sC/op7mbqP35ugxnZbuw/0NEMCcR27j+RGkt8Vz/wPzrMD/RMQ/E/433Ua0JH8j+ML5njN0vzPzXhXVstT/Q/3pIi0yJT9T+HROdKGFf2PzD2q8INW/c/2qdwOgNf+D+DWTWy+GL5PywL+inuZvo/1by+oeNq+z9+boMZ2W78PycgSJHOcv0/0NEMCcR2/j95g9GAuXr/P5EaS3xXPwBAZnMtOFLBAEA6zA/0TEMBQA8l8q9HxQFA433Ua0JHAkC41rYnPckCQIwvmeM3SwNAYYh7nzLNA0A14V1bLU8EQAo6QBco0QRA3pIi0yJTBUCz6wSPHdUFQIdE50oYVwZAXJ3JBhPZBkAw9qvCDVsHQAVPjn4I3QdA2qdwOgNfCECuAFP2/eAIQINZNbL4YglAV7IXbvPkCUAsC/op7mYKQABk3OXo6ApA1by+oeNqC0CpFaFd3uwLQH5ugxnZbgxAUsdl1dPwDEAnIEiRznINQPt4Kk3J9A1A0NEMCcR2DkCkKu/EvvgOQHmD0YC5eg9ATdyzPLT8D0CRGkt8Vz8QQPtGPNpUgBBAZnMtOFLBEEDQnx6WTwIRQDrMD/RMQxFApPgAUkqEEUAPJfKvR8URQHlR4w1FBhJA433Ua0JHEkBNqsXJP4gSQLjWtic9yRJAIgOohToKE0CML5njN0sTQPZbikE1jBNAYYh7nzLNE0DLtGz9Lw4UQDXhXVstTxRAoA1PuSqQFEAKOkAXKNEUQHRmMXUlEhVA3pIi0yJTFUBJvxMxIJQVQLPrBI8d1RVAHRj27BoWFkCHROdKGFcWQPJw2KgVmBZAXJ3JBhPZFkDGybpkEBoXQDD2q8INWxdAmyKdIAucF0AFT45+CN0XQG97f9wFHhhA2qdwOgNfGEBE1GGYAKAYQK4AU/b94BhAGC1EVPshGUA=",
        "encoding": "base64",
        "path": [
         "x",
         "value"
        ]
       },
       {
        "data": "AAAAAAAAAAD5uc+WaQbNPyKTiwxO0dw/nJSLSPla5T9jnbOHJf/rPxkXxQxvHvE//AcdH6b+8z+cbAnasZX2PzhXvt4X2vg/V3yeP4zD+j9qdZncD0v8Pzp5q/0Ja/0/4s3MzVwf/j+sy15rdGX+P/0d9lZQPP4/doD9HYek/T8LGcYzRKD8P9GL5QBAM/s/tA/wRbJi+T/GoWADPzX3P2L6jizesvQ/sbqgfr7k8T91XlfMR6rtP4HWAd2DHuc/tNEwiCU+4D8K1XaArUTSP57oQ7CvUa4/+CFx/z98xb/XDRgRJh/Zv1nLP+UekuO/JwpTkQxN6r+zIWqO3VPwv8YogOZ0RfO/aD3umYbw9b+U18UDT0v4v4K4bUwwTfq/72HC8dHu+7/5LK2oOyr9vyVM0zXr+v2/Fa9q7eRd/r/G9dOdvlH+vyTNBr2k1v2/SWnexVnu/L9fgpnHL5z7v4hmHj/85Pm/3KR6ZgbP979dDlo78GH1v7IeiJCapvK/PxVlIQlO779soaJSTtzov2NsJseZD+K/xQX5+JoB1r/pdqtm6k2+v1m/u6R82bs/eXG+dL5m1T8agVhVZsThP65WeOJolOg/oMpLzHgK7z/IneGSeIfyP1PyOljmRfU/xC/eOHu29z9iqN+XSdD5P4aVxmShi/s/0uGLPSzi/D8MqJmfBM/9P/pd7dLHTv4/P1/KTaJf/j+cPKZjVgH+P3XO2SY9Nf0/YSPdeUH++z/tSxti1WD6P+Deb8PhYvg/x/HVv7AL9j/HSmwK02PzP5D8bI8AdfA/FqOXx+mT6j94v0D9j9zjP1VXVzAPudk/MH8Oqbm1xj8HPaztF2epv4fUFhwEqdG/ZVgM4oTk37/2bvQUqNXmv96CTvJ9Ze2/zOKiZeDE8b91HJaF+5X0vx6WpILBG/e/GiQRM/dM+b+LrJLhliH7v11Iu6jtkvy/CoeD9rOb/b8i6kTeIDj+v+wgcPL3Zf6/BLtPc5Ek/r8msOW03HT9v2RXHbNcWfy/JMDW4B7W+r+u521TrPD4v8+3AoH1r/a/mpai2zgc9L8=",
        "encoding": "base64",
        "path": [
         "y",
         "value"
        ]
       }
      ],
      "model_module": "bqplot",
      "model_module_version": "^0.5.16",
      "model_name": "LinesModel",
      "state": {
       "fill_colors": [],
       "labels": [
        "C1"
       ],
       "scales": {
        "x": "IPY_MODEL_b468cc961210428797008fc1ebd61532",
        "y": "IPY_MODEL_94af7ed32c774e2192516fb61f355088"
       },
       "x": {
        "dtype": "float64",
        "shape": [
         100
        ],
        "type": null
       },
       "y": {
        "dtype": "float64",
        "shape": [
         100
        ],
        "type": null
       }
      }
     },
     "b33a5b1aa0c44e69a377ef822979eb65": {
      "model_module": "bqplot",
      "model_module_version": "^0.5.16",
      "model_name": "LinearScaleModel",
      "state": {
       "allow_padding": false,
       "max": 1,
       "min": 0,
       "stabilized": false
      }
     },
     "b43811c47e3946288abace0caa83598b": {
      "model_module": "@jupyter-widgets/controls",
      "model_module_version": "1.5.0",
      "model_name": "ButtonModel",
      "state": {
       "button_style": "warning",
       "description": "stop",
       "icon": "stop",
       "layout": "IPY_MODEL_8f168e7a92b14b578399ff4693032f23",
       "style": "IPY_MODEL_a87d47b56415492dbde023f534fbbdf6"
      }
     },
     "b468cc961210428797008fc1ebd61532": {
      "model_module": "bqplot",
      "model_module_version": "^0.5.16",
      "model_name": "LinearScaleModel",
      "state": {
       "stabilized": false
      }
     },
     "b47167b333f043ac90705a80544586d0": {
      "model_module": "bqplot",
      "model_module_version": "^0.5.16",
      "model_name": "LinearScaleModel",
      "state": {
       "allow_padding": false,
       "max": 1,
       "min": 0,
       "stabilized": false
      }
     },
     "b51a7ed3fdad4d0687fd8e5413d7ecb0": {
      "model_module": "bqplot",
      "model_module_version": "^0.5.16",
      "model_name": "FigureModel",
      "state": {
       "axes": [
        "IPY_MODEL_b7e8143d450a4ef6bea4c69a765fbd38",
        "IPY_MODEL_503982e5d3194363830c7754ddd3fec1"
       ],
       "fig_margin": {
        "bottom": 40,
        "left": 50,
        "right": 10,
        "top": 10
       },
       "layout": "IPY_MODEL_61eac85c8e0945b0a5117a9c8aa44ab0",
       "marks": [
        "IPY_MODEL_91580b57781a41aebc942718e2524261"
       ],
       "scale_x": "IPY_MODEL_4e2f64aee895482a98ee8b510371017b",
       "scale_y": "IPY_MODEL_f735f8833a9b4d4f90f69a3bda15cd8b"
      }
     },
     "b5798a475463408882063bd98746369a": {
      "model_module": "@jupyter-widgets/base",
      "model_module_version": "1.2.0",
      "model_name": "LayoutModel",
      "state": {
       "width": "100px"
      }
     },
     "b5e67fd502cc458f81b3e98c42ca0ba9": {
      "model_module": "@jupyter-widgets/controls",
      "model_module_version": "1.5.0",
      "model_name": "LabelModel",
      "state": {
       "layout": "IPY_MODEL_05e68101f52f4d71868685d8ceb8ff2a",
       "style": "IPY_MODEL_46e926b4f285447d91ccf94e3f487168",
       "value": "[<_MainThread(MainThread, started 6276)>, <Thread(Thread-4, started daemon 11648)>, <Heartbeat(Thread-5, started daemon 13140)>, <HistorySavingThread(IPythonHistorySavingThread, started 8408)>, <ParentPollerWindows(Thread-3, started daemon 8928)>, <Thread(Thread-6, started 4464)>]"
      }
     },
     "b756777ef70941e8966c7dc90577875f": {
      "model_module": "@jupyter-widgets/base",
      "model_module_version": "1.2.0",
      "model_name": "LayoutModel",
      "state": {}
     },
     "b7b975a9b78b4b2abd476ab660f1ea20": {
      "model_module": "@jupyter-widgets/base",
      "model_module_version": "1.2.0",
      "model_name": "LayoutModel",
      "state": {
       "height": "300px",
       "width": "500px"
      }
     },
     "b7cd1604995c42d681d265a402149409": {
      "model_module": "bqplot",
      "model_module_version": "^0.5.16",
      "model_name": "LinearScaleModel",
      "state": {
       "stabilized": false
      }
     },
     "b7e8143d450a4ef6bea4c69a765fbd38": {
      "model_module": "bqplot",
      "model_module_version": "^0.5.16",
      "model_name": "AxisModel",
      "state": {
       "label": "x(t)",
       "scale": "IPY_MODEL_082801c092044ec5b0b1271704fe3cba",
       "side": "bottom",
       "tick_values": null
      }
     },
     "b8d84b886efb4ab69b1880bdd0c55d03": {
      "buffers": [
       {
        "data": "AAAAAAAAAACRGkt8Vz+wP5EaS3xXP8A/2qdwOgNfyD+RGkt8Vz/QPzXhXVstT9Q/2qdwOgNf2D9+boMZ2W7cP5EaS3xXP+A/433Ua0JH4j814V1bLU/kP4dE50oYV+Y/2qdwOgNf6D8sC/op7mbqP35ugxnZbuw/0NEMCcR27j+RGkt8Vz/wPzrMD/RMQ/E/433Ua0JH8j+ML5njN0vzPzXhXVstT/Q/3pIi0yJT9T+HROdKGFf2PzD2q8INW/c/2qdwOgNf+D+DWTWy+GL5PywL+inuZvo/1by+oeNq+z9+boMZ2W78PycgSJHOcv0/0NEMCcR2/j95g9GAuXr/P5EaS3xXPwBAZnMtOFLBAEA6zA/0TEMBQA8l8q9HxQFA433Ua0JHAkC41rYnPckCQIwvmeM3SwNAYYh7nzLNA0A14V1bLU8EQAo6QBco0QRA3pIi0yJTBUCz6wSPHdUFQIdE50oYVwZAXJ3JBhPZBkAw9qvCDVsHQAVPjn4I3QdA2qdwOgNfCECuAFP2/eAIQINZNbL4YglAV7IXbvPkCUAsC/op7mYKQABk3OXo6ApA1by+oeNqC0CpFaFd3uwLQH5ugxnZbgxAUsdl1dPwDEAnIEiRznINQPt4Kk3J9A1A0NEMCcR2DkCkKu/EvvgOQHmD0YC5eg9ATdyzPLT8D0CRGkt8Vz8QQPtGPNpUgBBAZnMtOFLBEEDQnx6WTwIRQDrMD/RMQxFApPgAUkqEEUAPJfKvR8URQHlR4w1FBhJA433Ua0JHEkBNqsXJP4gSQLjWtic9yRJAIgOohToKE0CML5njN0sTQPZbikE1jBNAYYh7nzLNE0DLtGz9Lw4UQDXhXVstTxRAoA1PuSqQFEAKOkAXKNEUQHRmMXUlEhVA3pIi0yJTFUBJvxMxIJQVQLPrBI8d1RVAHRj27BoWFkCHROdKGFcWQPJw2KgVmBZAXJ3JBhPZFkDGybpkEBoXQDD2q8INWxdAmyKdIAucF0AFT45+CN0XQG97f9wFHhhA2qdwOgNfGEBE1GGYAKAYQK4AU/b94BhAGC1EVPshGUA=",
        "encoding": "base64",
        "path": [
         "x",
         "value"
        ]
       },
       {
        "data": "AAAAAAAAAADHHr10RlrJP7pcwkCx2dg/ecctlBYF4j8hZk11i+bmP3MQKli13+o/wSpel0bI7T/bVDmlvoLvPxkabU2V/e8/pa9bi+wz7z9ljSLpwS3tP4QulHKd/+k/P6lFcsHJ5T+cvTI547bgP0EkSdDz9NU/M/uylNE6wz8aoyQ3Td2ovzZKgoFqas+/y9R/i2uv27+jmdAhZ0jjv9blkNx/9ee/u7QHKJGv679FwF1jzVDuv+ajVZCHvu+/0cyA6UHq778zw3vgQNLuv/7EKbGcgey/HoWp19AP6b++EY/ezZ/kv5t8C+stvd6/uS6vtvIC078K7gSWfR+6v66jMI3K1bg/zNj+CMqz0j8GU5NFbHTeP8VG/JARgOQ/VRd++Pr16D/Gs4JQs27sP5qaFdMDx+4/qeneLiPn7z/042nOpsPvP9gOgqX2Xe4/OMkB7j7E6z/9Z75k4BDoP5iP07hkaeM/uZC6jgP62z9FwudzdQXQP7+/aRcgc6s/qfoy2vaWwr9Yeht6EqfVv0GySo+Dk+C/VkYXmlmr5b86gOjXYefpv0AmhVqoHO2/QVjAfKIq779LR8L4ePzvv/c6nk7bie+/aoTbGlTX7b+ZyHQFG/bqvwGAlBxmA+e/SyaVhkEn4r9LSbOR8iXZvxFJJfCU/Mm/Xoxm9n61dL+2yn6AzbfIP8jVY05Gjdg/TWeycc3i4T+vNMtwisnmPypGo6Uiyeo/PoROLwe57T84EgMybXvvP4SJfQp8/u8/CQoxVAI97z+vAAmWqj7tPzFjbX+tF+o/FMlQygTo5T+8beXiJtrgPz8C9l2wQtY/orA+GIzewz+7DWavUEemvwxlJXq1yc6/TuwQJ6Vk27+bkxc9SSfjv1WMPTH32ee/QXGaALWa678tzu9XcUPuv/10SCQzue+/yGroLCvt77+gVrtLSt3uv/ncfFBWlOy/WMO7unwp6b/USyOfZ7/kv0v5qhG8Bd+/GhwEi/tR07+1d6DbBGm7v6XSd+nti7c/roOPBoJk0j/1GyWbdyveP+YolesyYOQ/Rl6BSPvb6D8=",
        "encoding": "base64",
        "path": [
         "y",
         "value"
        ]
       }
      ],
      "model_module": "bqplot",
      "model_module_version": "^0.5.16",
      "model_name": "LinesModel",
      "state": {
       "fill_colors": [],
       "labels": [
        "C1"
       ],
       "scales": {
        "x": "IPY_MODEL_524fb72dd7c54877b1c39ab04aeb942f",
        "y": "IPY_MODEL_e34b4e706fc242578792d7fc67cf6077"
       },
       "x": {
        "dtype": "float64",
        "shape": [
         100
        ],
        "type": null
       },
       "y": {
        "dtype": "float64",
        "shape": [
         100
        ],
        "type": null
       }
      }
     },
     "b95d784de1964a8da67dfbbc015461fb": {
      "model_module": "bqplot",
      "model_module_version": "^0.5.16",
      "model_name": "LinearScaleModel",
      "state": {
       "stabilized": false
      }
     },
     "bbe0de2c11b84ef396e73de3bd92b1b8": {
      "model_module": "@jupyter-widgets/controls",
      "model_module_version": "1.5.0",
      "model_name": "DescriptionStyleModel",
      "state": {
       "description_width": ""
      }
     },
     "bc01791225ce40008c7a49b4b028f75c": {
      "model_module": "@jupyter-widgets/controls",
      "model_module_version": "1.5.0",
      "model_name": "SliderStyleModel",
      "state": {
       "description_width": ""
      }
     },
     "bc14f1f58c9b4448903780c4aea122a6": {
      "model_module": "bqplot",
      "model_module_version": "^0.5.16",
      "model_name": "LinearScaleModel",
      "state": {
       "stabilized": false
      }
     },
     "bc3427eb27214769a50aeb080572bfe3": {
      "model_module": "bqplot",
      "model_module_version": "^0.5.16",
      "model_name": "LinearScaleModel",
      "state": {
       "stabilized": false
      }
     },
     "be25a3c376f540a89d7885f37fead78f": {
      "model_module": "@jupyter-widgets/base",
      "model_module_version": "1.2.0",
      "model_name": "LayoutModel",
      "state": {}
     },
     "bead0f3663ce42aeb56e5d81561c71df": {
      "model_module": "bqplot",
      "model_module_version": "^0.5.16",
      "model_name": "LinearScaleModel",
      "state": {
       "allow_padding": false,
       "max": 1,
       "min": 0,
       "stabilized": false
      }
     },
     "beb083e889044d0e94f1f5aab15216f6": {
      "model_module": "bqplot",
      "model_module_version": "^0.5.16",
      "model_name": "AxisModel",
      "state": {
       "label": "x(t)",
       "scale": "IPY_MODEL_1350aeef028642f19a039c0cccefe9f8",
       "side": "bottom",
       "tick_values": null
      }
     },
     "bed324676f6c4ba39655bacefe5d7716": {
      "model_module": "@jupyter-widgets/controls",
      "model_module_version": "1.5.0",
      "model_name": "LabelModel",
      "state": {
       "layout": "IPY_MODEL_f74378e92e3949b0b371ee3229fd1537",
       "style": "IPY_MODEL_f03e213d40634da8927eebd87127e0ed",
       "value": "Thread On"
      }
     },
     "bf2783bd759344ea8de2d16362ea08a6": {
      "model_module": "bqplot",
      "model_module_version": "^0.5.16",
      "model_name": "AxisModel",
      "state": {
       "label": "y(t)",
       "orientation": "vertical",
       "scale": "IPY_MODEL_b7cd1604995c42d681d265a402149409",
       "side": "left",
       "tick_values": null
      }
     },
     "bfe360095abb41fd9408abc8c184ba9e": {
      "model_module": "@jupyter-widgets/controls",
      "model_module_version": "1.5.0",
      "model_name": "ButtonStyleModel",
      "state": {}
     },
     "c0f6a7c908274b2487c5a526ae5c6419": {
      "model_module": "@jupyter-widgets/base",
      "model_module_version": "1.2.0",
      "model_name": "LayoutModel",
      "state": {}
     },
     "c1a369775e6249938dc3667141021300": {
      "model_module": "@jupyter-widgets/controls",
      "model_module_version": "1.5.0",
      "model_name": "DescriptionStyleModel",
      "state": {
       "description_width": ""
      }
     },
     "c1d217d168b4412190acb4f934d3de1b": {
      "model_module": "bqplot",
      "model_module_version": "^0.5.16",
      "model_name": "LinearScaleModel",
      "state": {
       "allow_padding": false,
       "max": 1,
       "min": 0,
       "stabilized": false
      }
     },
     "c2ddb7ee481548008f95b16b0ed7deaf": {
      "model_module": "@jupyter-widgets/base",
      "model_module_version": "1.2.0",
      "model_name": "LayoutModel",
      "state": {}
     },
     "c31707ea7dce479495ea2b7b8cd1e78e": {
      "model_module": "@jupyter-widgets/base",
      "model_module_version": "1.2.0",
      "model_name": "LayoutModel",
      "state": {
       "height": "300px",
       "width": "500px"
      }
     },
     "c445276bf86f46008978ac690908d76d": {
      "model_module": "@jupyter-widgets/controls",
      "model_module_version": "1.5.0",
      "model_name": "VBoxModel",
      "state": {
       "children": [
        "IPY_MODEL_4aaf6afd92454862ad32e1189aba2515",
        "IPY_MODEL_829c23979a1243479adcd572d305f12c",
        "IPY_MODEL_671afbf18df347babddcd9d3f8ff301f",
        "IPY_MODEL_20300e7be89e4910ba2cd5299a49a797",
        "IPY_MODEL_606b70411cd84c1194f6014b44d183b3",
        "IPY_MODEL_25c839532b664f078e94e29c6b042ea0"
       ],
       "layout": "IPY_MODEL_df2bed62bbbc40a78e815afbb69a2c9d"
      }
     },
     "c47f5d75cbaf4466a05b0075617a38d5": {
      "model_module": "bqplot",
      "model_module_version": "^0.5.16",
      "model_name": "LinearScaleModel",
      "state": {
       "allow_padding": false,
       "max": 1,
       "min": 0,
       "stabilized": false
      }
     },
     "c500ea2921274ddd9ca7c083534d4b95": {
      "model_module": "bqplot",
      "model_module_version": "^0.5.16",
      "model_name": "FigureModel",
      "state": {
       "axes": [
        "IPY_MODEL_f89183d9954d448f9becd6bec6e6f62d",
        "IPY_MODEL_9cda27d88b684094a294e21295a8276a"
       ],
       "fig_margin": {
        "bottom": 40,
        "left": 50,
        "right": 10,
        "top": 10
       },
       "layout": "IPY_MODEL_5799a73ccb714d6ca2fec3c2c13c87a8",
       "marks": [
        "IPY_MODEL_b8d84b886efb4ab69b1880bdd0c55d03"
       ],
       "scale_x": "IPY_MODEL_53f567eb6d154733bb42d307d8149879",
       "scale_y": "IPY_MODEL_c47f5d75cbaf4466a05b0075617a38d5"
      }
     },
     "c53a85c76bc44842ba7a65fc0e7158cf": {
      "model_module": "@jupyter-widgets/controls",
      "model_module_version": "1.5.0",
      "model_name": "LabelModel",
      "state": {
       "layout": "IPY_MODEL_89f2d4efe6c2478f975833e9426b8242",
       "style": "IPY_MODEL_9267833fe7fb460a94d2e2d42048cf0d",
       "value": "Thread On"
      }
     },
     "c59644578d0a46bc83ffae9fa96a739a": {
      "model_module": "@jupyter-widgets/controls",
      "model_module_version": "1.5.0",
      "model_name": "DescriptionStyleModel",
      "state": {
       "description_width": ""
      }
     },
     "c6a2ab493b55456aa45229dd761a3d78": {
      "model_module": "@jupyter-widgets/controls",
      "model_module_version": "1.5.0",
      "model_name": "DescriptionStyleModel",
      "state": {
       "description_width": ""
      }
     },
     "c6af4a9bd03447c890819aac42ee7826": {
      "model_module": "@jupyter-widgets/base",
      "model_module_version": "1.2.0",
      "model_name": "LayoutModel",
      "state": {}
     },
     "c6b38f24e45a4ab18deb463506e8028c": {
      "model_module": "@jupyter-widgets/controls",
      "model_module_version": "1.5.0",
      "model_name": "ButtonStyleModel",
      "state": {}
     },
     "c7207f97449d402cb766d12c7a3bd682": {
      "model_module": "@jupyter-widgets/base",
      "model_module_version": "1.2.0",
      "model_name": "LayoutModel",
      "state": {}
     },
     "c776d6749bb14761907e7d3d151ed0c1": {
      "model_module": "@jupyter-widgets/base",
      "model_module_version": "1.2.0",
      "model_name": "LayoutModel",
      "state": {}
     },
     "c82a46bca74d47b9ada7fc09da0e476e": {
      "model_module": "bqplot",
      "model_module_version": "^0.5.16",
      "model_name": "LinearScaleModel",
      "state": {
       "allow_padding": false,
       "max": 1,
       "min": 0,
       "stabilized": false
      }
     },
     "c892b101385e4b07bf14e8bf7e05022a": {
      "model_module": "@jupyter-widgets/controls",
      "model_module_version": "1.5.0",
      "model_name": "FloatSliderModel",
      "state": {
       "layout": "IPY_MODEL_c6af4a9bd03447c890819aac42ee7826",
       "max": 5,
       "step": 0.1,
       "style": "IPY_MODEL_8de8a1cf47864649af6cc7fba687d2cb",
       "value": 1.6
      }
     },
     "c9a6a3480e094f5fad0f3181bf631241": {
      "model_module": "@jupyter-widgets/controls",
      "model_module_version": "1.5.0",
      "model_name": "FloatSliderModel",
      "state": {
       "layout": "IPY_MODEL_4a31e8db98f64b069b287c7c736674a0",
       "max": 1,
       "step": 0.1,
       "style": "IPY_MODEL_b0058fd5e81b4625984a5ca3f10ab424",
       "value": 0.5
      }
     },
     "c9b3bcb7835e4eeeab16923b286eeaf1": {
      "model_module": "@jupyter-widgets/base",
      "model_module_version": "1.2.0",
      "model_name": "LayoutModel",
      "state": {
       "width": "100px"
      }
     },
     "cbcbef3ceaab46c285e1721d188150ae": {
      "model_module": "@jupyter-widgets/controls",
      "model_module_version": "1.5.0",
      "model_name": "LabelModel",
      "state": {
       "layout": "IPY_MODEL_d807c8a4e27247ca960186867140b311",
       "style": "IPY_MODEL_c6a2ab493b55456aa45229dd761a3d78"
      }
     },
     "cc0aa209c2044397bf11ed358050e435": {
      "model_module": "@jupyter-widgets/controls",
      "model_module_version": "1.5.0",
      "model_name": "FloatSliderModel",
      "state": {
       "layout": "IPY_MODEL_41466cb77f574eecb8651df18c842997",
       "max": 5,
       "step": 0.1,
       "style": "IPY_MODEL_06ccaf450ca844e38a91e314ef4af520",
       "value": 1
      }
     },
     "cc19fcfc35fa491db9ed1dd092e81310": {
      "model_module": "@jupyter-widgets/controls",
      "model_module_version": "1.5.0",
      "model_name": "SliderStyleModel",
      "state": {
       "description_width": ""
      }
     },
     "cc54cb821b864a9494fcd0d9e22dc24b": {
      "model_module": "@jupyter-widgets/base",
      "model_module_version": "1.2.0",
      "model_name": "LayoutModel",
      "state": {}
     },
     "ce63d0a2bbf247bb825b23c53b4d021d": {
      "model_module": "@jupyter-widgets/controls",
      "model_module_version": "1.5.0",
      "model_name": "FloatSliderModel",
      "state": {
       "layout": "IPY_MODEL_01d4ea07dd734573985d9a1020e5fdfb",
       "max": 5,
       "step": 0.1,
       "style": "IPY_MODEL_1b4e65317f9d4270b266eae476f25cf1",
       "value": 2.3
      }
     },
     "d169ed7f144b41f695abd96ed07dfcf9": {
      "model_module": "@jupyter-widgets/controls",
      "model_module_version": "1.5.0",
      "model_name": "SliderStyleModel",
      "state": {
       "description_width": ""
      }
     },
     "d1db25ab08bf4967804e51d998d01825": {
      "model_module": "@jupyter-widgets/base",
      "model_module_version": "1.2.0",
      "model_name": "LayoutModel",
      "state": {}
     },
     "d20d392edfb84cc39a06708bdbc06420": {
      "model_module": "@jupyter-widgets/base",
      "model_module_version": "1.2.0",
      "model_name": "LayoutModel",
      "state": {}
     },
     "d29c298c889b481c8d87c92a7006cdb7": {
      "model_module": "@jupyter-widgets/controls",
      "model_module_version": "1.5.0",
      "model_name": "FloatSliderModel",
      "state": {
       "layout": "IPY_MODEL_3a6a3d94130b417580f4db67f6d2fe9e",
       "max": 1,
       "step": 0.1,
       "style": "IPY_MODEL_5406c24fb5b44f769cecb2d89547c274",
       "value": 0.5
      }
     },
     "d2c1fb1613c546888dbc1ca096ce9f5e": {
      "model_module": "@jupyter-widgets/controls",
      "model_module_version": "1.5.0",
      "model_name": "FloatSliderModel",
      "state": {
       "layout": "IPY_MODEL_c0f6a7c908274b2487c5a526ae5c6419",
       "max": 5,
       "step": 0.1,
       "style": "IPY_MODEL_e4da425c3f2c48caa53b782c28f8bd59",
       "value": 1
      }
     },
     "d36fcd253e5240e1b3b5841380e74296": {
      "buffers": [
       {
        "data": "AAAAAAAAAACRGkt8Vz+wP5EaS3xXP8A/2qdwOgNfyD+RGkt8Vz/QPzXhXVstT9Q/2qdwOgNf2D9+boMZ2W7cP5EaS3xXP+A/433Ua0JH4j814V1bLU/kP4dE50oYV+Y/2qdwOgNf6D8sC/op7mbqP35ugxnZbuw/0NEMCcR27j+RGkt8Vz/wPzrMD/RMQ/E/433Ua0JH8j+ML5njN0vzPzXhXVstT/Q/3pIi0yJT9T+HROdKGFf2PzD2q8INW/c/2qdwOgNf+D+DWTWy+GL5PywL+inuZvo/1by+oeNq+z9+boMZ2W78PycgSJHOcv0/0NEMCcR2/j95g9GAuXr/P5EaS3xXPwBAZnMtOFLBAEA6zA/0TEMBQA8l8q9HxQFA433Ua0JHAkC41rYnPckCQIwvmeM3SwNAYYh7nzLNA0A14V1bLU8EQAo6QBco0QRA3pIi0yJTBUCz6wSPHdUFQIdE50oYVwZAXJ3JBhPZBkAw9qvCDVsHQAVPjn4I3QdA2qdwOgNfCECuAFP2/eAIQINZNbL4YglAV7IXbvPkCUAsC/op7mYKQABk3OXo6ApA1by+oeNqC0CpFaFd3uwLQH5ugxnZbgxAUsdl1dPwDEAnIEiRznINQPt4Kk3J9A1A0NEMCcR2DkCkKu/EvvgOQHmD0YC5eg9ATdyzPLT8D0CRGkt8Vz8QQPtGPNpUgBBAZnMtOFLBEEDQnx6WTwIRQDrMD/RMQxFApPgAUkqEEUAPJfKvR8URQHlR4w1FBhJA433Ua0JHEkBNqsXJP4gSQLjWtic9yRJAIgOohToKE0CML5njN0sTQPZbikE1jBNAYYh7nzLNE0DLtGz9Lw4UQDXhXVstTxRAoA1PuSqQFEAKOkAXKNEUQHRmMXUlEhVA3pIi0yJTFUBJvxMxIJQVQLPrBI8d1RVAHRj27BoWFkCHROdKGFcWQPJw2KgVmBZAXJ3JBhPZFkDGybpkEBoXQDD2q8INWxdAmyKdIAucF0AFT45+CN0XQG97f9wFHhhA2qdwOgNfGEBE1GGYAKAYQK4AU/b94BhAGC1EVPshGUA=",
        "encoding": "base64",
        "path": [
         "x",
         "value"
        ]
       },
       {
        "data": "AAAAAAAAAADHHr10RlrJP7pcwkCx2dg/ecctlBYF4j8hZk11i+bmP3MQKli13+o/wSpel0bI7T/bVDmlvoLvPxkabU2V/e8/pa9bi+wz7z9ljSLpwS3tP4QulHKd/+k/P6lFcsHJ5T+cvTI547bgP0EkSdDz9NU/M/uylNE6wz8aoyQ3Td2ovzZKgoFqas+/y9R/i2uv27+jmdAhZ0jjv9blkNx/9ee/u7QHKJGv679FwF1jzVDuv+ajVZCHvu+/0cyA6UHq778zw3vgQNLuv/7EKbGcgey/HoWp19AP6b++EY/ezZ/kv5t8C+stvd6/uS6vtvIC078K7gSWfR+6v66jMI3K1bg/zNj+CMqz0j8GU5NFbHTeP8VG/JARgOQ/VRd++Pr16D/Gs4JQs27sP5qaFdMDx+4/qeneLiPn7z/042nOpsPvP9gOgqX2Xe4/OMkB7j7E6z/9Z75k4BDoP5iP07hkaeM/uZC6jgP62z9FwudzdQXQP7+/aRcgc6s/qfoy2vaWwr9Yeht6EqfVv0GySo+Dk+C/VkYXmlmr5b86gOjXYefpv0AmhVqoHO2/QVjAfKIq779LR8L4ePzvv/c6nk7bie+/aoTbGlTX7b+ZyHQFG/bqvwGAlBxmA+e/SyaVhkEn4r9LSbOR8iXZvxFJJfCU/Mm/Xoxm9n61dL+2yn6AzbfIP8jVY05Gjdg/TWeycc3i4T+vNMtwisnmPypGo6Uiyeo/PoROLwe57T84EgMybXvvP4SJfQp8/u8/CQoxVAI97z+vAAmWqj7tPzFjbX+tF+o/FMlQygTo5T+8beXiJtrgPz8C9l2wQtY/orA+GIzewz+7DWavUEemvwxlJXq1yc6/TuwQJ6Vk27+bkxc9SSfjv1WMPTH32ee/QXGaALWa678tzu9XcUPuv/10SCQzue+/yGroLCvt77+gVrtLSt3uv/ncfFBWlOy/WMO7unwp6b/USyOfZ7/kv0v5qhG8Bd+/GhwEi/tR07+1d6DbBGm7v6XSd+nti7c/roOPBoJk0j/1GyWbdyveP+YolesyYOQ/Rl6BSPvb6D8=",
        "encoding": "base64",
        "path": [
         "y",
         "value"
        ]
       }
      ],
      "model_module": "bqplot",
      "model_module_version": "^0.5.16",
      "model_name": "LinesModel",
      "state": {
       "fill_colors": [],
       "labels": [
        "C1"
       ],
       "scales": {
        "x": "IPY_MODEL_801af93f82ff45ffb8697dfcd38e61df",
        "y": "IPY_MODEL_bc14f1f58c9b4448903780c4aea122a6"
       },
       "x": {
        "dtype": "float64",
        "shape": [
         100
        ],
        "type": null
       },
       "y": {
        "dtype": "float64",
        "shape": [
         100
        ],
        "type": null
       }
      }
     },
     "d3f6b0b0ab4643c4865a21528e7431ed": {
      "model_module": "@jupyter-widgets/controls",
      "model_module_version": "1.5.0",
      "model_name": "LabelModel",
      "state": {
       "layout": "IPY_MODEL_6ce605a8ca5f477d8c20e65cd599c56a",
       "style": "IPY_MODEL_bbe0de2c11b84ef396e73de3bd92b1b8",
       "value": "1 thread with name work still exist. Consider use exit() and restart kernel"
      }
     },
     "d426d358e1164905a0f6075c279be544": {
      "model_module": "@jupyter-widgets/base",
      "model_module_version": "1.2.0",
      "model_name": "LayoutModel",
      "state": {}
     },
     "d475e3af28244406818de4f39388a73c": {
      "model_module": "@jupyter-widgets/controls",
      "model_module_version": "1.5.0",
      "model_name": "LabelModel",
      "state": {
       "layout": "IPY_MODEL_16afa3e10b8b4f24be1daa4c731170aa",
       "style": "IPY_MODEL_0c29fc40dc0946a58e1fd1252797deb7",
       "value": "[<_MainThread(MainThread, started 5348)>, <Thread(Thread-4, started daemon 11736)>, <Heartbeat(Thread-5, started daemon 4292)>, <HistorySavingThread(IPythonHistorySavingThread, started 7176)>, <ParentPollerWindows(Thread-3, started daemon 5576)>, <Thread(work_thread, started 5660)>, <Thread(work, started 1596)>]"
      }
     },
     "d57d4a9f74e34599a0d4d24ad86591a3": {
      "model_module": "@jupyter-widgets/controls",
      "model_module_version": "1.5.0",
      "model_name": "DescriptionStyleModel",
      "state": {
       "description_width": ""
      }
     },
     "d6a466b04ae14335a1f27c24d55b2aeb": {
      "model_module": "@jupyter-widgets/base",
      "model_module_version": "1.2.0",
      "model_name": "LayoutModel",
      "state": {}
     },
     "d7edb1a0d0b24469bb142ef2a105a34a": {
      "model_module": "bqplot",
      "model_module_version": "^0.5.16",
      "model_name": "LinearScaleModel",
      "state": {
       "stabilized": false
      }
     },
     "d807c8a4e27247ca960186867140b311": {
      "model_module": "@jupyter-widgets/base",
      "model_module_version": "1.2.0",
      "model_name": "LayoutModel",
      "state": {}
     },
     "d83ed8f1bb1c49db8773f7625c6f65c1": {
      "model_module": "@jupyter-widgets/controls",
      "model_module_version": "1.5.0",
      "model_name": "VBoxModel",
      "state": {
       "children": [
        "IPY_MODEL_991db0fd4879425cb462029382c922a9",
        "IPY_MODEL_d2c1fb1613c546888dbc1ca096ce9f5e",
        "IPY_MODEL_9c7ac0609fe34828a216a4e0001c9416",
        "IPY_MODEL_353852d06961403b9dfc1a47da9db66f",
        "IPY_MODEL_9e23897fb7c24c33a6125ca798533b25",
        "IPY_MODEL_b0cbfe2a199f458e97a64e4c97958503"
       ],
       "layout": "IPY_MODEL_04c8c370f5784cbcaa994b35d4aa10c3"
      }
     },
     "d95019922ba94bdda69008acac0b47c3": {
      "model_module": "@jupyter-widgets/controls",
      "model_module_version": "1.5.0",
      "model_name": "DescriptionStyleModel",
      "state": {
       "description_width": ""
      }
     },
     "da8100412ffc40c8bd134f6c9b39ff41": {
      "model_module": "bqplot",
      "model_module_version": "^0.5.16",
      "model_name": "LinearScaleModel",
      "state": {
       "allow_padding": false,
       "max": 1,
       "min": 0,
       "stabilized": false
      }
     },
     "da9ca1346ae347d6a88aed4a3fbcbb1f": {
      "model_module": "@jupyter-widgets/base",
      "model_module_version": "1.2.0",
      "model_name": "LayoutModel",
      "state": {
       "width": "100px"
      }
     },
     "daecae7824184dfc94d83bec18340cb7": {
      "model_module": "@jupyter-widgets/base",
      "model_module_version": "1.2.0",
      "model_name": "LayoutModel",
      "state": {}
     },
     "daf03d06abfb4570a56c68d48cb51112": {
      "buffers": [
       {
        "data": "AAAAAAAAAACRGkt8Vz+wP5EaS3xXP8A/2qdwOgNfyD+RGkt8Vz/QPzXhXVstT9Q/2qdwOgNf2D9+boMZ2W7cP5EaS3xXP+A/433Ua0JH4j814V1bLU/kP4dE50oYV+Y/2qdwOgNf6D8sC/op7mbqP35ugxnZbuw/0NEMCcR27j+RGkt8Vz/wPzrMD/RMQ/E/433Ua0JH8j+ML5njN0vzPzXhXVstT/Q/3pIi0yJT9T+HROdKGFf2PzD2q8INW/c/2qdwOgNf+D+DWTWy+GL5PywL+inuZvo/1by+oeNq+z9+boMZ2W78PycgSJHOcv0/0NEMCcR2/j95g9GAuXr/P5EaS3xXPwBAZnMtOFLBAEA6zA/0TEMBQA8l8q9HxQFA433Ua0JHAkC41rYnPckCQIwvmeM3SwNAYYh7nzLNA0A14V1bLU8EQAo6QBco0QRA3pIi0yJTBUCz6wSPHdUFQIdE50oYVwZAXJ3JBhPZBkAw9qvCDVsHQAVPjn4I3QdA2qdwOgNfCECuAFP2/eAIQINZNbL4YglAV7IXbvPkCUAsC/op7mYKQABk3OXo6ApA1by+oeNqC0CpFaFd3uwLQH5ugxnZbgxAUsdl1dPwDEAnIEiRznINQPt4Kk3J9A1A0NEMCcR2DkCkKu/EvvgOQHmD0YC5eg9ATdyzPLT8D0CRGkt8Vz8QQPtGPNpUgBBAZnMtOFLBEEDQnx6WTwIRQDrMD/RMQxFApPgAUkqEEUAPJfKvR8URQHlR4w1FBhJA433Ua0JHEkBNqsXJP4gSQLjWtic9yRJAIgOohToKE0CML5njN0sTQPZbikE1jBNAYYh7nzLNE0DLtGz9Lw4UQDXhXVstTxRAoA1PuSqQFEAKOkAXKNEUQHRmMXUlEhVA3pIi0yJTFUBJvxMxIJQVQLPrBI8d1RVAHRj27BoWFkCHROdKGFcWQPJw2KgVmBZAXJ3JBhPZFkDGybpkEBoXQDD2q8INWxdAmyKdIAucF0AFT45+CN0XQG97f9wFHhhA2qdwOgNfGEBE1GGYAKAYQK4AU/b94BhAGC1EVPshGUA=",
        "encoding": "base64",
        "path": [
         "x",
         "value"
        ]
       },
       {
        "data": "AAAAAAAAAADHHr10RlrJP7pcwkCx2dg/ecctlBYF4j8hZk11i+bmP3MQKli13+o/wSpel0bI7T/bVDmlvoLvPxkabU2V/e8/pa9bi+wz7z9ljSLpwS3tP4QulHKd/+k/P6lFcsHJ5T+cvTI547bgP0EkSdDz9NU/M/uylNE6wz8aoyQ3Td2ovzZKgoFqas+/y9R/i2uv27+jmdAhZ0jjv9blkNx/9ee/u7QHKJGv679FwF1jzVDuv+ajVZCHvu+/0cyA6UHq778zw3vgQNLuv/7EKbGcgey/HoWp19AP6b++EY/ezZ/kv5t8C+stvd6/uS6vtvIC078K7gSWfR+6v66jMI3K1bg/zNj+CMqz0j8GU5NFbHTeP8VG/JARgOQ/VRd++Pr16D/Gs4JQs27sP5qaFdMDx+4/qeneLiPn7z/042nOpsPvP9gOgqX2Xe4/OMkB7j7E6z/9Z75k4BDoP5iP07hkaeM/uZC6jgP62z9FwudzdQXQP7+/aRcgc6s/qfoy2vaWwr9Yeht6EqfVv0GySo+Dk+C/VkYXmlmr5b86gOjXYefpv0AmhVqoHO2/QVjAfKIq779LR8L4ePzvv/c6nk7bie+/aoTbGlTX7b+ZyHQFG/bqvwGAlBxmA+e/SyaVhkEn4r9LSbOR8iXZvxFJJfCU/Mm/Xoxm9n61dL+2yn6AzbfIP8jVY05Gjdg/TWeycc3i4T+vNMtwisnmPypGo6Uiyeo/PoROLwe57T84EgMybXvvP4SJfQp8/u8/CQoxVAI97z+vAAmWqj7tPzFjbX+tF+o/FMlQygTo5T+8beXiJtrgPz8C9l2wQtY/orA+GIzewz+7DWavUEemvwxlJXq1yc6/TuwQJ6Vk27+bkxc9SSfjv1WMPTH32ee/QXGaALWa678tzu9XcUPuv/10SCQzue+/yGroLCvt77+gVrtLSt3uv/ncfFBWlOy/WMO7unwp6b/USyOfZ7/kv0v5qhG8Bd+/GhwEi/tR07+1d6DbBGm7v6XSd+nti7c/roOPBoJk0j/1GyWbdyveP+YolesyYOQ/Rl6BSPvb6D8=",
        "encoding": "base64",
        "path": [
         "y",
         "value"
        ]
       }
      ],
      "model_module": "bqplot",
      "model_module_version": "^0.5.16",
      "model_name": "LinesModel",
      "state": {
       "fill_colors": [],
       "labels": [
        "C1"
       ],
       "scales": {
        "x": "IPY_MODEL_0bd8dad058b14036a22cfee3cd246594",
        "y": "IPY_MODEL_95fd4252f883437f9c2dff9e6e538dfc"
       },
       "x": {
        "dtype": "float64",
        "shape": [
         100
        ],
        "type": null
       },
       "y": {
        "dtype": "float64",
        "shape": [
         100
        ],
        "type": null
       }
      }
     },
     "daffa2a6cdba4a41b0def3e0c71a2b84": {
      "model_module": "@jupyter-widgets/controls",
      "model_module_version": "1.5.0",
      "model_name": "ButtonStyleModel",
      "state": {}
     },
     "dc08245d08014bf787407c84e4ecf39f": {
      "model_module": "bqplot",
      "model_module_version": "^0.5.16",
      "model_name": "AxisModel",
      "state": {
       "label": "y(t)",
       "orientation": "vertical",
       "scale": "IPY_MODEL_f827e15c2efd44c0aa937626a1a46d9a",
       "side": "left",
       "tick_values": null
      }
     },
     "dc74e4fbde414657bd2b582cb760df8f": {
      "model_module": "bqplot",
      "model_module_version": "^0.5.16",
      "model_name": "FigureModel",
      "state": {
       "axes": [
        "IPY_MODEL_986f4649649842df811e17acc81841c0",
        "IPY_MODEL_2e81e2edfc4c471882947050516fb74e"
       ],
       "fig_margin": {
        "bottom": 40,
        "left": 50,
        "right": 10,
        "top": 10
       },
       "layout": "IPY_MODEL_2d69635a12d44b7284826666c7aa6285",
       "marks": [
        "IPY_MODEL_26ff17e0f9d9424fb239e3da08b220ce"
       ],
       "scale_x": "IPY_MODEL_e962bb56e650484e8f9bd5674383d7bd",
       "scale_y": "IPY_MODEL_fb9f8fc3c0424f7cad396e4b316501ff"
      }
     },
     "dcd443e5e0784010b5f5576032a34a79": {
      "model_module": "bqplot",
      "model_module_version": "^0.5.16",
      "model_name": "AxisModel",
      "state": {
       "label": "y(t)",
       "orientation": "vertical",
       "scale": "IPY_MODEL_94af7ed32c774e2192516fb61f355088",
       "side": "left",
       "tick_values": null
      }
     },
     "dce278aa9e98409a95652901f4011378": {
      "model_module": "bqplot",
      "model_module_version": "^0.5.16",
      "model_name": "AxisModel",
      "state": {
       "label": "y(t)",
       "orientation": "vertical",
       "scale": "IPY_MODEL_bc3427eb27214769a50aeb080572bfe3",
       "side": "left",
       "tick_values": null
      }
     },
     "dce34a70f44949ebb590d37953f478dc": {
      "model_module": "@jupyter-widgets/base",
      "model_module_version": "1.2.0",
      "model_name": "LayoutModel",
      "state": {
       "height": "300px",
       "width": "500px"
      }
     },
     "dcf8c4455d18408fac22852e6492db93": {
      "model_module": "@jupyter-widgets/controls",
      "model_module_version": "1.5.0",
      "model_name": "VBoxModel",
      "state": {
       "children": [
        "IPY_MODEL_40e60d69f0b740d49339d4b9a0192a4f",
        "IPY_MODEL_c892b101385e4b07bf14e8bf7e05022a",
        "IPY_MODEL_aa6e2b60488b41a1a6b2d51a931f8576",
        "IPY_MODEL_c53a85c76bc44842ba7a65fc0e7158cf",
        "IPY_MODEL_b43811c47e3946288abace0caa83598b",
        "IPY_MODEL_217b09d0e3994a3496826c660d9cb959"
       ],
       "layout": "IPY_MODEL_43ca0e4a7d1d4dc7be9f706281207ad5"
      }
     },
     "dd0015de98f944cf8703c0c85d54e076": {
      "model_module": "bqplot",
      "model_module_version": "^0.5.16",
      "model_name": "AxisModel",
      "state": {
       "label": "x(t)",
       "scale": "IPY_MODEL_4f794cb3af7f450e8a11cef51371901d",
       "side": "bottom",
       "tick_values": null
      }
     },
     "dd98c769c80b491caf675f7190d64357": {
      "model_module": "@jupyter-widgets/controls",
      "model_module_version": "1.5.0",
      "model_name": "ButtonModel",
      "state": {
       "button_style": "warning",
       "description": "stop",
       "icon": "stop",
       "layout": "IPY_MODEL_517be7d596f44af8bccda21e93c0f295",
       "style": "IPY_MODEL_23d895f590364672b21c19f4e76a9a9c"
      }
     },
     "de65ed6665ef4a30a99622e7fbadaf34": {
      "model_module": "@jupyter-widgets/base",
      "model_module_version": "1.2.0",
      "model_name": "LayoutModel",
      "state": {}
     },
     "dec203790eaf4467bfd4aa8e80e6db0d": {
      "model_module": "@jupyter-widgets/controls",
      "model_module_version": "1.5.0",
      "model_name": "LabelModel",
      "state": {
       "layout": "IPY_MODEL_023b3276b6a9472c8870f5f8d3f97013",
       "style": "IPY_MODEL_056e9684b471494c822aea2e07248acd"
      }
     },
     "df2bed62bbbc40a78e815afbb69a2c9d": {
      "model_module": "@jupyter-widgets/base",
      "model_module_version": "1.2.0",
      "model_name": "LayoutModel",
      "state": {}
     },
     "e06fba5afebc4729b624b7fb49aa1399": {
      "model_module": "@jupyter-widgets/controls",
      "model_module_version": "1.5.0",
      "model_name": "DescriptionStyleModel",
      "state": {
       "description_width": ""
      }
     },
     "e1af0b0f09a14552bcc12222adc7f390": {
      "model_module": "@jupyter-widgets/base",
      "model_module_version": "1.2.0",
      "model_name": "LayoutModel",
      "state": {
       "height": "300px",
       "width": "500px"
      }
     },
     "e23b7ea35a0c4bccbedec3a6244556d4": {
      "model_module": "bqplot",
      "model_module_version": "^0.5.16",
      "model_name": "AxisModel",
      "state": {
       "label": "y(t)",
       "orientation": "vertical",
       "scale": "IPY_MODEL_bc14f1f58c9b4448903780c4aea122a6",
       "side": "left",
       "tick_values": null
      }
     },
     "e2706dd8f2124e54b1cffeaa71d188b2": {
      "model_module": "@jupyter-widgets/controls",
      "model_module_version": "1.5.0",
      "model_name": "LabelModel",
      "state": {
       "layout": "IPY_MODEL_5b471749ef364becbc3c375313fa9579",
       "style": "IPY_MODEL_327a9a727b3948ffba3e730564ec0657"
      }
     },
     "e339331645624ff2aac3d3a68b6c2b46": {
      "model_module": "@jupyter-widgets/base",
      "model_module_version": "1.2.0",
      "model_name": "LayoutModel",
      "state": {}
     },
     "e34b4e706fc242578792d7fc67cf6077": {
      "model_module": "bqplot",
      "model_module_version": "^0.5.16",
      "model_name": "LinearScaleModel",
      "state": {
       "stabilized": false
      }
     },
     "e478e2256e0246e68d00f6906417d0b1": {
      "model_module": "bqplot",
      "model_module_version": "^0.5.16",
      "model_name": "LinearScaleModel",
      "state": {
       "allow_padding": false,
       "max": 1,
       "min": 0,
       "stabilized": false
      }
     },
     "e4da425c3f2c48caa53b782c28f8bd59": {
      "model_module": "@jupyter-widgets/controls",
      "model_module_version": "1.5.0",
      "model_name": "SliderStyleModel",
      "state": {
       "description_width": ""
      }
     },
     "e5b6c9cf5b2b49388198a8dd46180162": {
      "model_module": "@jupyter-widgets/base",
      "model_module_version": "1.2.0",
      "model_name": "LayoutModel",
      "state": {}
     },
     "e6f61226d1e34c4a932e2747aec84e22": {
      "model_module": "bqplot",
      "model_module_version": "^0.5.16",
      "model_name": "LinearScaleModel",
      "state": {
       "stabilized": false
      }
     },
     "e962bb56e650484e8f9bd5674383d7bd": {
      "model_module": "bqplot",
      "model_module_version": "^0.5.16",
      "model_name": "LinearScaleModel",
      "state": {
       "allow_padding": false,
       "max": 1,
       "min": 0,
       "stabilized": false
      }
     },
     "ebb1d0a329084feeb62bed02b9be162b": {
      "model_module": "bqplot",
      "model_module_version": "^0.5.16",
      "model_name": "FigureModel",
      "state": {
       "axes": [
        "IPY_MODEL_738013acd6494be2b08142db802fdb4b",
        "IPY_MODEL_e23b7ea35a0c4bccbedec3a6244556d4"
       ],
       "fig_margin": {
        "bottom": 40,
        "left": 50,
        "right": 10,
        "top": 10
       },
       "layout": "IPY_MODEL_a78813cee97d44b29ca349674eafe383",
       "marks": [
        "IPY_MODEL_d36fcd253e5240e1b3b5841380e74296"
       ],
       "scale_x": "IPY_MODEL_acf293cfafde4db0b895b193cd8e63e3",
       "scale_y": "IPY_MODEL_b47167b333f043ac90705a80544586d0"
      }
     },
     "ec5db76902d443c390cb29cc955f6535": {
      "model_module": "@jupyter-widgets/controls",
      "model_module_version": "1.5.0",
      "model_name": "VBoxModel",
      "state": {
       "children": [
        "IPY_MODEL_36ff90e3eed74fdf8ab0f3739c731417",
        "IPY_MODEL_b145d5f81b17424185d7470027968c10",
        "IPY_MODEL_7cd8d62b00b046ed8d1eeddac851e92b",
        "IPY_MODEL_bed324676f6c4ba39655bacefe5d7716",
        "IPY_MODEL_8649003de47241acab2a8da0583c2d0b",
        "IPY_MODEL_34ac233183404ae6a34011325ce5a040"
       ],
       "layout": "IPY_MODEL_0f9e946daf0c49a480c88d152e215199"
      }
     },
     "ec9c026199f8498cbf9b3d2be491ef61": {
      "model_module": "bqplot",
      "model_module_version": "^0.5.16",
      "model_name": "AxisModel",
      "state": {
       "label": "x(t)",
       "scale": "IPY_MODEL_b95d784de1964a8da67dfbbc015461fb",
       "side": "bottom",
       "tick_values": null
      }
     },
     "ef6736ff897c47f09188ac485d711a80": {
      "model_module": "@jupyter-widgets/base",
      "model_module_version": "1.2.0",
      "model_name": "LayoutModel",
      "state": {}
     },
     "efb1027f84854bd7a43501e1c72f5dd8": {
      "model_module": "@jupyter-widgets/base",
      "model_module_version": "1.2.0",
      "model_name": "LayoutModel",
      "state": {
       "height": "300px",
       "width": "500px"
      }
     },
     "efdb5b4308f54f139c0de1ad65bee825": {
      "model_module": "@jupyter-widgets/base",
      "model_module_version": "1.2.0",
      "model_name": "LayoutModel",
      "state": {}
     },
     "f03d86ce472d4fa0883fd15adfe82340": {
      "model_module": "@jupyter-widgets/base",
      "model_module_version": "1.2.0",
      "model_name": "LayoutModel",
      "state": {}
     },
     "f03e213d40634da8927eebd87127e0ed": {
      "model_module": "@jupyter-widgets/controls",
      "model_module_version": "1.5.0",
      "model_name": "DescriptionStyleModel",
      "state": {
       "description_width": ""
      }
     },
     "f1d640398a53454ab5e54c1b7fe096be": {
      "model_module": "@jupyter-widgets/controls",
      "model_module_version": "1.5.0",
      "model_name": "ButtonStyleModel",
      "state": {}
     },
     "f32964c3a47441499df88989e0bcd4fa": {
      "model_module": "bqplot",
      "model_module_version": "^0.5.16",
      "model_name": "FigureModel",
      "state": {
       "axes": [
        "IPY_MODEL_ec9c026199f8498cbf9b3d2be491ef61",
        "IPY_MODEL_638a418686064e0abaa64ec3320cb9f0"
       ],
       "fig_margin": {
        "bottom": 40,
        "left": 50,
        "right": 10,
        "top": 10
       },
       "layout": "IPY_MODEL_dce34a70f44949ebb590d37953f478dc",
       "marks": [
        "IPY_MODEL_7ecf3fbff2b4403a99b8c8cf3d3e783a"
       ],
       "scale_x": "IPY_MODEL_e478e2256e0246e68d00f6906417d0b1",
       "scale_y": "IPY_MODEL_3ff9855f320e401f8c064a8630135d0d"
      }
     },
     "f4361b5f19c04ac59cb1592b6cb3ea90": {
      "model_module": "@jupyter-widgets/base",
      "model_module_version": "1.2.0",
      "model_name": "LayoutModel",
      "state": {}
     },
     "f4f4d192f3d2400a9892898b2a619920": {
      "model_module": "@jupyter-widgets/controls",
      "model_module_version": "1.5.0",
      "model_name": "VBoxModel",
      "state": {
       "children": [
        "IPY_MODEL_26433f24e89e432b816ce00895259bd4",
        "IPY_MODEL_f7e7cd407d644ab1ab9f3411a9126e96",
        "IPY_MODEL_995dfd7ba35748cbbb70c2bb3e6b1193",
        "IPY_MODEL_8caad8209316444abcbd5a760cbf77cf",
        "IPY_MODEL_276e1b9663094ce39f306f3f01d47e70",
        "IPY_MODEL_d475e3af28244406818de4f39388a73c"
       ],
       "layout": "IPY_MODEL_f03d86ce472d4fa0883fd15adfe82340"
      }
     },
     "f735f8833a9b4d4f90f69a3bda15cd8b": {
      "model_module": "bqplot",
      "model_module_version": "^0.5.16",
      "model_name": "LinearScaleModel",
      "state": {
       "allow_padding": false,
       "max": 1,
       "min": 0,
       "stabilized": false
      }
     },
     "f74378e92e3949b0b371ee3229fd1537": {
      "model_module": "@jupyter-widgets/base",
      "model_module_version": "1.2.0",
      "model_name": "LayoutModel",
      "state": {}
     },
     "f7e7cd407d644ab1ab9f3411a9126e96": {
      "model_module": "@jupyter-widgets/controls",
      "model_module_version": "1.5.0",
      "model_name": "FloatSliderModel",
      "state": {
       "layout": "IPY_MODEL_e5b6c9cf5b2b49388198a8dd46180162",
       "max": 5,
       "step": 0.1,
       "style": "IPY_MODEL_2bf9cb4b0a4f4d62bd4175458b3df715",
       "value": 1.9
      }
     },
     "f827e15c2efd44c0aa937626a1a46d9a": {
      "model_module": "bqplot",
      "model_module_version": "^0.5.16",
      "model_name": "LinearScaleModel",
      "state": {
       "stabilized": false
      }
     },
     "f89183d9954d448f9becd6bec6e6f62d": {
      "model_module": "bqplot",
      "model_module_version": "^0.5.16",
      "model_name": "AxisModel",
      "state": {
       "label": "x(t)",
       "scale": "IPY_MODEL_524fb72dd7c54877b1c39ab04aeb942f",
       "side": "bottom",
       "tick_values": null
      }
     },
     "fab8d6b6f78246ef9542dbbe75a58899": {
      "model_module": "@jupyter-widgets/controls",
      "model_module_version": "1.5.0",
      "model_name": "ButtonModel",
      "state": {
       "button_style": "warning",
       "description": "stop",
       "icon": "stop",
       "layout": "IPY_MODEL_8133fbca41bb417d9b7877197d3b08c0",
       "style": "IPY_MODEL_c6b38f24e45a4ab18deb463506e8028c"
      }
     },
     "fb9ef2772ba648b5a82aeefb440eacf6": {
      "model_module": "bqplot",
      "model_module_version": "^0.5.16",
      "model_name": "LinearScaleModel",
      "state": {
       "allow_padding": false,
       "max": 1,
       "min": 0,
       "stabilized": false
      }
     },
     "fb9f8fc3c0424f7cad396e4b316501ff": {
      "model_module": "bqplot",
      "model_module_version": "^0.5.16",
      "model_name": "LinearScaleModel",
      "state": {
       "allow_padding": false,
       "max": 1,
       "min": 0,
       "stabilized": false
      }
     },
     "fd195aa53f6f4929bbdf563a8f992494": {
      "model_module": "@jupyter-widgets/base",
      "model_module_version": "1.2.0",
      "model_name": "LayoutModel",
      "state": {}
     },
     "fe39552dfb894a0da791dc967df94b57": {
      "model_module": "bqplot",
      "model_module_version": "^0.5.16",
      "model_name": "LinearScaleModel",
      "state": {
       "allow_padding": false,
       "max": 1,
       "min": 0,
       "stabilized": false
      }
     }
    },
    "version_major": 2,
    "version_minor": 0
   }
  }
 },
 "nbformat": 4,
 "nbformat_minor": 4
}
